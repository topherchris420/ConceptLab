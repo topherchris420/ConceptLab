{
  "cells": [
    {
      "cell_type": "markdown",
      "metadata": {
        "id": "view-in-github",
        "colab_type": "text"
      },
      "source": [
        "<a href=\"https://colab.research.google.com/github/topherchris420/ConceptLab/blob/main/Groq_Chatbot_%26_Quantum_Teleportation_Circuits.ipynb\" target=\"_parent\"><img src=\"https://colab.research.google.com/assets/colab-badge.svg\" alt=\"Open In Colab\"/></a>"
      ]
    },
    {
      "cell_type": "code",
      "execution_count": null,
      "metadata": {
        "id": "ZbrtKSXK1Y6v"
      },
      "outputs": [],
      "source": [
        "by Christopher Woodyard."
      ]
    },
    {
      "cell_type": "markdown",
      "metadata": {
        "id": "7tW8-EVsA9bH"
      },
      "source": [
        "this project uses Qiskit to create quantum circuits that help understand the wave-particle duality.\n",
        "\n",
        "equation for human emotion is possibly: E(t) = Σ wᵢ(t) fᵢ(Xᵢ(t), Xᵢ(t-1), Eₚ(t-1)) + Σ Σ wᵢⱼ(t) fᵢⱼ(Xᵢ(t), Xⱼ(t)) + ɸ(Eₚ(t-1), μ, σ²)      \n",
        "    \n",
        "                    \n",
        "\n",
        "*end of page for groqchat"
      ]
    },
    {
      "cell_type": "markdown",
      "metadata": {
        "id": "G-gQGhGuA-Hy"
      },
      "source": [
        "[space-time is a structure imposed by our consciousness](https://woodyard.eth.limo)  "
      ]
    },
    {
      "cell_type": "markdown",
      "metadata": {
        "id": "9FIqfIDdXAWM"
      },
      "source": [
        "[🛸](https://studio.d-id.com/agents/share?id=agt_5_RTFHoS&key=WjI5dloyeGxMVzloZFhSb01ud3hNRFEyTVRNME5UazVOVGt5TURrMk1USXpOemM2T0ZWQ2JrbzBOV2RMYjNBNVlsOTJNSE5mZUU5UA==)"
      ]
    },
    {
      "cell_type": "code",
      "execution_count": null,
      "metadata": {
        "colab": {
          "base_uri": "https://localhost:8080/",
          "height": 191
        },
        "id": "ZMIXBRE-SCwL",
        "outputId": "9e614f45-4788-460d-9688-b989b78f8300"
      },
      "outputs": [
        {
          "data": {
            "text/html": [
              "<pre style=\"word-wrap: normal;white-space: pre;background: #fff0;line-height: 1.1;font-family: &quot;Courier New&quot;,Courier,monospace\">                ░  ░      ┌───┐ ░ ┌─┐                     \n",
              "q_0: ───────────░──░───■──┤ H ├─░─┤M├────────────────■────\n",
              "     ┌───┐      ░  ░ ┌─┴─┐└───┘ ░ └╥┘┌─┐             │    \n",
              "q_1: ┤ H ├──■───░──░─┤ X ├──────░──╫─┤M├────■────────┼────\n",
              "     └───┘┌─┴─┐ ░  ░ └───┘      ░  ║ └╥┘┌───┴───┐┌───┴───┐\n",
              "q_2: ─────┤ X ├─░──░────────────░──╫──╫─┤ Rx(π) ├┤ Rz(π) ├\n",
              "          └───┘ ░  ░            ░  ║  ║ └───╥───┘└───╥───┘\n",
              "                                   ║  ║  ┌──╨──┐  ┌──╨──┐ \n",
              "c: 4/══════════════════════════════╩══╩══╡ 0x1 ╞══╡ 0x1 ╞═\n",
              "                                   0  1  └─────┘  └─────┘ </pre>"
            ],
            "text/plain": [
              "                ░  ░      ┌───┐ ░ ┌─┐                     \n",
              "q_0: ───────────░──░───■──┤ H ├─░─┤M├────────────────■────\n",
              "     ┌───┐      ░  ░ ┌─┴─┐└───┘ ░ └╥┘┌─┐             │    \n",
              "q_1: ┤ H ├──■───░──░─┤ X ├──────░──╫─┤M├────■────────┼────\n",
              "     └───┘┌─┴─┐ ░  ░ └───┘      ░  ║ └╥┘┌───┴───┐┌───┴───┐\n",
              "q_2: ─────┤ X ├─░──░────────────░──╫──╫─┤ Rx(π) ├┤ Rz(π) ├\n",
              "          └───┘ ░  ░            ░  ║  ║ └───╥───┘└───╥───┘\n",
              "                                   ║  ║  ┌──╨──┐  ┌──╨──┐ \n",
              "c: 4/══════════════════════════════╩══╩══╡ 0x1 ╞══╡ 0x1 ╞═\n",
              "                                   0  1  └─────┘  └─────┘ "
            ]
          },
          "execution_count": 30,
          "metadata": {},
          "output_type": "execute_result"
        }
      ],
      "source": [
        "from qiskit import QuantumRegister, ClassicalRegister, QuantumCircuit\n",
        "from numpy import pi\n",
        "\n",
        "qreg_q = QuantumRegister(3, 'q')\n",
        "creg_c = ClassicalRegister(4, 'c')\n",
        "circuit = QuantumCircuit(qreg_q, creg_c)\n",
        "\n",
        "circuit.h(qreg_q[1])\n",
        "circuit.cx(qreg_q[1], qreg_q[2])\n",
        "circuit.barrier(qreg_q)\n",
        "# @phaseDisk\n",
        "circuit.barrier(qreg_q[0])\n",
        "circuit.barrier(qreg_q[2])\n",
        "circuit.barrier(qreg_q[1])\n",
        "circuit.cx(qreg_q[0], qreg_q[1])\n",
        "circuit.h(qreg_q[0])\n",
        "circuit.barrier(qreg_q[0], qreg_q[1], qreg_q[2])\n",
        "circuit.measure(qreg_q[0], creg_c[0])\n",
        "circuit.measure(qreg_q[1], creg_c[1])\n",
        "circuit.crx(pi, qreg_q[1], qreg_q[2]).c_if(creg_c, 1)\n",
        "circuit.crz(pi, qreg_q[0], qreg_q[2]).c_if(creg_c, 1)\n",
        "\n",
        "circuit.draw()"
      ]
    },
    {
      "cell_type": "code",
      "execution_count": null,
      "metadata": {
        "colab": {
          "base_uri": "https://localhost:8080/",
          "height": 171
        },
        "id": "yQMLvfqPV9DX",
        "outputId": "91e979ae-3eb1-4379-b95c-98e259457d96"
      },
      "outputs": [
        {
          "data": {
            "text/html": [
              "<pre style=\"word-wrap: normal;white-space: pre;background: #fff0;line-height: 1.1;font-family: &quot;Courier New&quot;,Courier,monospace\">     ┌───┐      ░  ░      ┌───┐ ░ ┌─┐                     \n",
              "q_0: ┤ H ├──────░──░───■──┤ H ├─░─┤M├────────────────■────\n",
              "     ├───┤      ░  ░ ┌─┴─┐└───┘ ░ └╥┘┌─┐             │    \n",
              "q_1: ┤ H ├──■───░──░─┤ X ├──────░──╫─┤M├────■────────┼────\n",
              "     └───┘┌─┴─┐ ░  ░ └───┘      ░  ║ └╥┘┌───┴───┐┌───┴───┐\n",
              "q_2: ─────┤ X ├─░──░────────────░──╫──╫─┤ Rx(π) ├┤ Rz(π) ├\n",
              "          └───┘ ░  ░            ░  ║  ║ └───╥───┘└───╥───┘\n",
              "                                   ║  ║  ┌──╨──┐  ┌──╨──┐ \n",
              "c: 4/══════════════════════════════╩══╩══╡ 0x1 ╞══╡ 0x1 ╞═\n",
              "                                   0  1  └─────┘  └─────┘ </pre>"
            ],
            "text/plain": [
              "     ┌───┐      ░  ░      ┌───┐ ░ ┌─┐                     \n",
              "q_0: ┤ H ├──────░──░───■──┤ H ├─░─┤M├────────────────■────\n",
              "     ├───┤      ░  ░ ┌─┴─┐└───┘ ░ └╥┘┌─┐             │    \n",
              "q_1: ┤ H ├──■───░──░─┤ X ├──────░──╫─┤M├────■────────┼────\n",
              "     └───┘┌─┴─┐ ░  ░ └───┘      ░  ║ └╥┘┌───┴───┐┌───┴───┐\n",
              "q_2: ─────┤ X ├─░──░────────────░──╫──╫─┤ Rx(π) ├┤ Rz(π) ├\n",
              "          └───┘ ░  ░            ░  ║  ║ └───╥───┘└───╥───┘\n",
              "                                   ║  ║  ┌──╨──┐  ┌──╨──┐ \n",
              "c: 4/══════════════════════════════╩══╩══╡ 0x1 ╞══╡ 0x1 ╞═\n",
              "                                   0  1  └─────┘  └─────┘ "
            ]
          },
          "execution_count": 4,
          "metadata": {},
          "output_type": "execute_result"
        }
      ],
      "source": [
        "from qiskit import QuantumRegister, ClassicalRegister, QuantumCircuit\n",
        "from numpy import pi\n",
        "\n",
        "qreg_q = QuantumRegister(3, 'q')\n",
        "creg_c = ClassicalRegister(4, 'c')\n",
        "circuit = QuantumCircuit(qreg_q, creg_c)\n",
        "\n",
        "circuit.h(qreg_q[1])\n",
        "circuit.h(qreg_q[0])\n",
        "circuit.cx(qreg_q[1], qreg_q[2])\n",
        "circuit.barrier(qreg_q)\n",
        "# @phaseDisk\n",
        "circuit.barrier(qreg_q[0])\n",
        "circuit.barrier(qreg_q[2])\n",
        "circuit.barrier(qreg_q[1])\n",
        "circuit.cx(qreg_q[0], qreg_q[1])\n",
        "circuit.h(qreg_q[0])\n",
        "circuit.barrier(qreg_q[0], qreg_q[1], qreg_q[2])\n",
        "circuit.measure(qreg_q[0], creg_c[0])\n",
        "circuit.measure(qreg_q[1], creg_c[1])\n",
        "circuit.crx(pi, qreg_q[1], qreg_q[2]).c_if(creg_c, 1)\n",
        "circuit.crz(pi, qreg_q[0], qreg_q[2]).c_if(creg_c, 1)\n",
        "\n",
        "circuit.draw()"
      ]
    },
    {
      "cell_type": "code",
      "execution_count": null,
      "metadata": {
        "colab": {
          "base_uri": "https://localhost:8080/",
          "height": 125
        },
        "id": "WS1vhH3Me56C",
        "outputId": "c24d8acc-9419-4638-88ca-072486676044"
      },
      "outputs": [
        {
          "data": {
            "text/html": [
              "<pre style=\"word-wrap: normal;white-space: pre;background: #fff0;line-height: 1.1;font-family: &quot;Courier New&quot;,Courier,monospace\">     ┌───┐                         \n",
              "q_0: ┤ H ├──■─────────■────────────\n",
              "     └───┘┌─┴─┐┌───┐  │            \n",
              "q_1: ─────┤ X ├┤ H ├──┼────■───────\n",
              "          └───┘└───┘┌─┴─┐┌─┴─┐┌───┐\n",
              "q_2: ───────────────┤ X ├┤ X ├┤ H ├\n",
              "                    └───┘└───┘└───┘</pre>"
            ],
            "text/plain": [
              "     ┌───┐                         \n",
              "q_0: ┤ H ├──■─────────■────────────\n",
              "     └───┘┌─┴─┐┌───┐  │            \n",
              "q_1: ─────┤ X ├┤ H ├──┼────■───────\n",
              "          └───┘└───┘┌─┴─┐┌─┴─┐┌───┐\n",
              "q_2: ───────────────┤ X ├┤ X ├┤ H ├\n",
              "                    └───┘└───┘└───┘"
            ]
          },
          "execution_count": 8,
          "metadata": {},
          "output_type": "execute_result"
        }
      ],
      "source": [
        "from qiskit import QuantumRegister, ClassicalRegister, QuantumCircuit\n",
        "from numpy import pi\n",
        "\n",
        "\n",
        "\n",
        "qreg_q = QuantumRegister(3, 'q')\n",
        "\n",
        "circuit = QuantumCircuit(qreg_q)\n",
        "\n",
        "# Apply the quantum gates for quantum teleportation\n",
        "circuit.h(qreg_q[0])\n",
        "circuit.cx(qreg_q[0], qreg_q[1])\n",
        "circuit.h(qreg_q[1])\n",
        "circuit.cx(qreg_q[0], qreg_q[2])\n",
        "circuit.cx(qreg_q[1], qreg_q[2])\n",
        "circuit.h(qreg_q[2])\n",
        "\n",
        "\n",
        "circuit.draw()\n",
        "\n",
        "\n",
        "\n"
      ]
    },
    {
      "cell_type": "code",
      "execution_count": null,
      "metadata": {
        "colab": {
          "base_uri": "https://localhost:8080/",
          "height": 156
        },
        "id": "pPYNSXSDjRdP",
        "outputId": "c3e71c23-cdc6-484e-b4d3-5336924fd006"
      },
      "outputs": [
        {
          "data": {
            "text/html": [
              "<pre style=\"word-wrap: normal;white-space: pre;background: #fff0;line-height: 1.1;font-family: &quot;Courier New&quot;,Courier,monospace\">                ░ ┌───┐ ░           ┌─┐   \n",
              "q_0: ───────────░─┤ H ├─░───■───────┤M├───\n",
              "     ┌───┐      ░ └───┘ ░ ┌─┴─┐     └╥┘┌─┐\n",
              "q_1: ┤ H ├──■───░───────░─┤ X ├──■───╫─┤M├\n",
              "     └───┘┌─┴─┐ ░       ░ └───┘┌─┴─┐ ║ └╥┘\n",
              "q_2: ─────┤ X ├─░───────░──────┤ X ├─╫──╫─\n",
              "          └───┘ ░       ░      └───┘ ║  ║ \n",
              "c: 2/════════════════════════════════╩══╩═\n",
              "                                     0  1 </pre>"
            ],
            "text/plain": [
              "                ░ ┌───┐ ░           ┌─┐   \n",
              "q_0: ───────────░─┤ H ├─░───■───────┤M├───\n",
              "     ┌───┐      ░ └───┘ ░ ┌─┴─┐     └╥┘┌─┐\n",
              "q_1: ┤ H ├──■───░───────░─┤ X ├──■───╫─┤M├\n",
              "     └───┘┌─┴─┐ ░       ░ └───┘┌─┴─┐ ║ └╥┘\n",
              "q_2: ─────┤ X ├─░───────░──────┤ X ├─╫──╫─\n",
              "          └───┘ ░       ░      └───┘ ║  ║ \n",
              "c: 2/════════════════════════════════╩══╩═\n",
              "                                     0  1 "
            ]
          },
          "execution_count": 14,
          "metadata": {},
          "output_type": "execute_result"
        }
      ],
      "source": [
        "from qiskit import QuantumRegister, ClassicalRegister, QuantumCircuit\n",
        "from numpy import pi\n",
        "\n",
        "\n",
        "qreg_q = QuantumRegister(3, 'q')\n",
        "creg_c = ClassicalRegister(2, 'c')\n",
        "\n",
        "circuit = QuantumCircuit(qreg_q, creg_c)\n",
        "circuit.h(qreg_q[1])\n",
        "circuit.cx(qreg_q[1], qreg_q[2])\n",
        "circuit.barrier(qreg_q)\n",
        "circuit.h(qreg_q[0])\n",
        "circuit.barrier(qreg_q[0], qreg_q[1], qreg_q[2])\n",
        "circuit.cx(qreg_q[0], qreg_q[1])\n",
        "circuit.cx(qreg_q[1], qreg_q[2])\n",
        "circuit.measure(qreg_q[0], creg_c[0])\n",
        "circuit.measure(qreg_q[1], creg_c[1])\n",
        "\n",
        "circuit.draw()"
      ]
    },
    {
      "cell_type": "code",
      "execution_count": null,
      "metadata": {
        "colab": {
          "base_uri": "https://localhost:8080/",
          "height": 156
        },
        "id": "ghWUyUdmo9Dn",
        "outputId": "38c82748-675d-45f8-9e68-8a42b3ec5244"
      },
      "outputs": [
        {
          "data": {
            "text/html": [
              "<pre style=\"word-wrap: normal;white-space: pre;background: #fff0;line-height: 1.1;font-family: &quot;Courier New&quot;,Courier,monospace\">                ░      ┌─┐   \n",
              "q_0: ───────────░───■──┤M├───\n",
              "     ┌───┐      ░   │  └╥┘┌─┐\n",
              "q_1: ┤ H ├──■───░───■───╫─┤M├\n",
              "     └───┘┌─┴─┐ ░ ┌─┴─┐ ║ └╥┘\n",
              "q_2: ─────┤ X ├─░─┤ X ├─╫──╫─\n",
              "          └───┘ ░ └───┘ ║  ║ \n",
              "c: 4/═══════════════════╩══╩═\n",
              "                        0  1 </pre>"
            ],
            "text/plain": [
              "                ░      ┌─┐   \n",
              "q_0: ───────────░───■──┤M├───\n",
              "     ┌───┐      ░   │  └╥┘┌─┐\n",
              "q_1: ┤ H ├──■───░───■───╫─┤M├\n",
              "     └───┘┌─┴─┐ ░ ┌─┴─┐ ║ └╥┘\n",
              "q_2: ─────┤ X ├─░─┤ X ├─╫──╫─\n",
              "          └───┘ ░ └───┘ ║  ║ \n",
              "c: 4/═══════════════════╩══╩═\n",
              "                        0  1 "
            ]
          },
          "execution_count": 15,
          "metadata": {},
          "output_type": "execute_result"
        }
      ],
      "source": [
        "from qiskit import QuantumRegister, ClassicalRegister, QuantumCircuit\n",
        "from numpy import pi\n",
        "\n",
        "# Create a 3-qubit quantum register and a 4-bit classical register\n",
        "qreg_q = QuantumRegister(3, 'q')\n",
        "creg_c = ClassicalRegister(4, 'c')\n",
        "circuit = QuantumCircuit(qreg_q, creg_c)\n",
        "\n",
        "circuit.h(qreg_q[1])\n",
        "circuit.cx(qreg_q[1], qreg_q[2])\n",
        "circuit.barrier(qreg_q)\n",
        "circuit.ccx(qreg_q[0], qreg_q[1], qreg_q[2])\n",
        "circuit.measure(qreg_q[0], creg_c[0])\n",
        "circuit.measure(qreg_q[1], creg_c[1])\n",
        "\n",
        "\n",
        "circuit.draw()"
      ]
    },
    {
      "cell_type": "code",
      "execution_count": null,
      "metadata": {
        "colab": {
          "base_uri": "https://localhost:8080/",
          "height": 156
        },
        "id": "5Y4K8uJH-hWj",
        "outputId": "5f2e94b4-cc8f-41a5-b3f1-34cb4193bf09"
      },
      "outputs": [
        {
          "data": {
            "text/html": [
              "<pre style=\"word-wrap: normal;white-space: pre;background: #fff0;line-height: 1.1;font-family: &quot;Courier New&quot;,Courier,monospace\">     ┌───┐ ░                ┌───┐ ░ ┌─┐    ░         \n",
              "q_0: ┤ X ├─░─────────────■──┤ H ├─░─┤M├────░───────■─\n",
              "     └───┘ ░ ┌───┐     ┌─┴─┐└───┘ ░ └╥┘┌─┐ ░       │ \n",
              "q_1: ──────░─┤ H ├──■──┤ X ├──────░──╫─┤M├─░───■───┼─\n",
              "           ░ └───┘┌─┴─┐└───┘      ░  ║ └╥┘ ░ ┌─┴─┐ │ \n",
              "q_2: ──────░──────┤ X ├───────────░──╫──╫──░─┤ X ├─■─\n",
              "           ░      └───┘           ░  ║  ║  ░ └───┘   \n",
              "c: 2/════════════════════════════════╩══╩════════════\n",
              "                                     0  1            </pre>"
            ],
            "text/plain": [
              "     ┌───┐ ░                ┌───┐ ░ ┌─┐    ░         \n",
              "q_0: ┤ X ├─░─────────────■──┤ H ├─░─┤M├────░───────■─\n",
              "     └───┘ ░ ┌───┐     ┌─┴─┐└───┘ ░ └╥┘┌─┐ ░       │ \n",
              "q_1: ──────░─┤ H ├──■──┤ X ├──────░──╫─┤M├─░───■───┼─\n",
              "           ░ └───┘┌─┴─┐└───┘      ░  ║ └╥┘ ░ ┌─┴─┐ │ \n",
              "q_2: ──────░──────┤ X ├───────────░──╫──╫──░─┤ X ├─■─\n",
              "           ░      └───┘           ░  ║  ║  ░ └───┘   \n",
              "c: 2/════════════════════════════════╩══╩════════════\n",
              "                                     0  1            "
            ]
          },
          "execution_count": 10,
          "metadata": {},
          "output_type": "execute_result"
        }
      ],
      "source": [
        "from qiskit import QuantumRegister, ClassicalRegister, QuantumCircuit\n",
        "from numpy import pi\n",
        "\n",
        "qreg_q = QuantumRegister(3, 'q')\n",
        "creg_c = ClassicalRegister(2, 'c')\n",
        "circuit = QuantumCircuit(qreg_q, creg_c)\n",
        "\n",
        "circuit.x(qreg_q[0])\n",
        "circuit.barrier()\n",
        "circuit.h(qreg_q[1])\n",
        "circuit.cx(qreg_q[1], qreg_q[2])\n",
        "circuit.cx(qreg_q[0], qreg_q[1])\n",
        "circuit.h(qreg_q[0])\n",
        "circuit.barrier()\n",
        "circuit.measure(qreg_q[0], creg_c[0])\n",
        "circuit.measure(qreg_q[1], creg_c[1])\n",
        "circuit.barrier()\n",
        "circuit.cx(qreg_q[1], qreg_q[2])\n",
        "circuit.cz(qreg_q[0], qreg_q[2])\n",
        "\n",
        "\n",
        "circuit.draw()"
      ]
    },
    {
      "cell_type": "code",
      "execution_count": null,
      "metadata": {
        "colab": {
          "base_uri": "https://localhost:8080/"
        },
        "id": "TxZu2GMIdAbH",
        "outputId": "969e74ee-22c6-42a4-88a1-d912031c1b3b"
      },
      "outputs": [
        {
          "name": "stdout",
          "output_type": "stream",
          "text": [
            "                ░      ┌───┐ ░ ┌─┐                         \n",
            "q_0: ───────────░───■──┤ H ├─░─┤M├─────────────────────────\n",
            "     ┌───┐      ░ ┌─┴─┐└───┘ ░ └╥┘┌─┐                      \n",
            "q_1: ┤ H ├──■───░─┤ X ├──────░──╫─┤M├──────────────────────\n",
            "     └───┘┌─┴─┐ ░ └───┘      ░  ║ └╥┘   ┌───┐      ┌───┐   \n",
            "q_2: ─────┤ X ├─░────────────░──╫──╫────┤ X ├──────┤ Z ├───\n",
            "          └───┘ ░            ░  ║  ║    └─╥─┘      └─╥─┘   \n",
            "                                ║  ║ ┌────╨────┐┌────╨────┐\n",
            "c: 2/═══════════════════════════╩══╩═╡ c_1=0x1 ╞╡ c_0=0x1 ╞\n",
            "                                0  1 └─────────┘└─────────┘\n"
          ]
        }
      ],
      "source": [
        "from qiskit import QuantumRegister, ClassicalRegister, QuantumCircuit\n",
        "from numpy import pi\n",
        "\n",
        "\n",
        "qreg_q = QuantumRegister(3, 'q')\n",
        "creg_c = ClassicalRegister(2, 'c')  # Only 2 classical bits are needed\n",
        "circuit = QuantumCircuit(qreg_q, creg_c)\n",
        "\n",
        "\n",
        "circuit.h(qreg_q[1])\n",
        "circuit.cx(qreg_q[1], qreg_q[2])\n",
        "circuit.barrier()\n",
        "circuit.cx(qreg_q[0], qreg_q[1])\n",
        "circuit.h(qreg_q[0])\n",
        "circuit.barrier()\n",
        "\n",
        "\n",
        "circuit.measure(qreg_q[0], creg_c[0])\n",
        "circuit.measure(qreg_q[1], creg_c[1])\n",
        "circuit.x(qreg_q[2]).c_if(creg_c[1], 1)\n",
        "circuit.z(qreg_q[2]).c_if(creg_c[0], 1)\n",
        "\n",
        "\n",
        "print(circuit.draw())"
      ]
    },
    {
      "cell_type": "code",
      "execution_count": null,
      "metadata": {
        "colab": {
          "base_uri": "https://localhost:8080/"
        },
        "id": "1fkbKJEAhDOI",
        "outputId": "ba7b2fa3-0854-4b86-e7a7-fef019a418fd"
      },
      "outputs": [
        {
          "name": "stdout",
          "output_type": "stream",
          "text": [
            "     ┌───┐          ┌───┐ ░ ┌─┐                         \n",
            "q_0: ┤ H ├───────■──┤ H ├─░─┤M├─────────────────────────\n",
            "     ├───┤     ┌─┴─┐└───┘ ░ └╥┘┌─┐                      \n",
            "q_1: ┤ H ├──■──┤ X ├──────░──╫─┤M├──────────────────────\n",
            "     └───┘┌─┴─┐└───┘      ░  ║ └╥┘   ┌───┐      ┌───┐   \n",
            "q_2: ─────┤ X ├───────────░──╫──╫────┤ X ├──────┤ Z ├───\n",
            "          └───┘           ░  ║  ║    └─╥─┘      └─╥─┘   \n",
            "                             ║  ║ ┌────╨────┐┌────╨────┐\n",
            "c: 2/════════════════════════╩══╩═╡ c_1=0x1 ╞╡ c_0=0x1 ╞\n",
            "                             0  1 └─────────┘└─────────┘\n"
          ]
        }
      ],
      "source": [
        "from qiskit import QuantumRegister, ClassicalRegister, QuantumCircuit\n",
        "from numpy import pi\n",
        "\n",
        "# Initialize Quantum and Classical Registers\n",
        "qreg_q = QuantumRegister(3, 'q')\n",
        "creg_c = ClassicalRegister(2, 'c')  # Adjusted to 2 classical bits\n",
        "circuit = QuantumCircuit(qreg_q, creg_c)\n",
        "\n",
        "# Step 1: Create entanglement between q1 and q2\n",
        "circuit.h(qreg_q[1])\n",
        "circuit.cx(qreg_q[1], qreg_q[2])\n",
        "\n",
        "# Step 2: Prepare the state to be teleported in q0\n",
        "circuit.h(qreg_q[0])  # Assuming you want to teleport |+> state; adjust as needed\n",
        "\n",
        "# Step 3: Bell-state measurement between q0 and q1\n",
        "circuit.cx(qreg_q[0], qreg_q[1])\n",
        "circuit.h(qreg_q[0])\n",
        "circuit.barrier()\n",
        "\n",
        "# Step 4: Measure qubits q0 and q1\n",
        "circuit.measure(qreg_q[0], creg_c[0])\n",
        "circuit.measure(qreg_q[1], creg_c[1])\n",
        "\n",
        "# Step 5: Apply conditional operations based on the classical bits\n",
        "circuit.x(qreg_q[2]).c_if(creg_c[1], 1)\n",
        "circuit.z(qreg_q[2]).c_if(creg_c[0], 1)\n",
        "\n",
        "\n",
        "print(circuit.draw())"
      ]
    },
    {
      "cell_type": "code",
      "execution_count": null,
      "metadata": {
        "colab": {
          "base_uri": "https://localhost:8080/",
          "height": 171
        },
        "id": "kBVLYHy4G5Su",
        "outputId": "88c1f220-8b55-4f1f-84f8-99ec66fad7b5"
      },
      "outputs": [
        {
          "data": {
            "text/html": [
              "<pre style=\"word-wrap: normal;white-space: pre;background: #fff0;line-height: 1.1;font-family: &quot;Courier New&quot;,Courier,monospace\">     ┌───┐      ░      ┌───┐ ░ ┌─┐                 \n",
              "q_0: ┤ H ├──────░───■──┤ H ├─░─┤M├─────────────────\n",
              "     ├───┤      ░ ┌─┴─┐└───┘ ░ └╥┘┌─┐              \n",
              "q_1: ┤ H ├──■───░─┤ X ├──────░──╫─┤M├──────────────\n",
              "     └───┘┌─┴─┐ ░ └───┘      ░  ║ └╥┘ ┌───┐  ┌───┐ \n",
              "q_2: ─────┤ X ├─░────────────░──╫──╫──┤ X ├──┤ Z ├─\n",
              "          └───┘ ░            ░  ║  ║  └─╥─┘  └─╥─┘ \n",
              "                                ║  ║ ┌──╨──┐┌──╨──┐\n",
              "c: 2/═══════════════════════════╩══╩═╡ 0x1 ╞╡ 0x2 ╞\n",
              "                                0  1 └─────┘└─────┘</pre>"
            ],
            "text/plain": [
              "     ┌───┐      ░      ┌───┐ ░ ┌─┐                 \n",
              "q_0: ┤ H ├──────░───■──┤ H ├─░─┤M├─────────────────\n",
              "     ├───┤      ░ ┌─┴─┐└───┘ ░ └╥┘┌─┐              \n",
              "q_1: ┤ H ├──■───░─┤ X ├──────░──╫─┤M├──────────────\n",
              "     └───┘┌─┴─┐ ░ └───┘      ░  ║ └╥┘ ┌───┐  ┌───┐ \n",
              "q_2: ─────┤ X ├─░────────────░──╫──╫──┤ X ├──┤ Z ├─\n",
              "          └───┘ ░            ░  ║  ║  └─╥─┘  └─╥─┘ \n",
              "                                ║  ║ ┌──╨──┐┌──╨──┐\n",
              "c: 2/═══════════════════════════╩══╩═╡ 0x1 ╞╡ 0x2 ╞\n",
              "                                0  1 └─────┘└─────┘"
            ]
          },
          "execution_count": 5,
          "metadata": {},
          "output_type": "execute_result"
        }
      ],
      "source": [
        "from qiskit import QuantumRegister, ClassicalRegister, QuantumCircuit\n",
        "from numpy import pi\n",
        "\n",
        "qreg_q = QuantumRegister(3, 'q')\n",
        "creg_c = ClassicalRegister(2, 'c')\n",
        "circuit = QuantumCircuit(qreg_q, creg_c)\n",
        "\n",
        "circuit.h(qreg_q[1])\n",
        "circuit.cx(qreg_q[1], qreg_q[2])\n",
        "circuit.h(qreg_q[0])\n",
        "circuit.barrier(qreg_q[0], qreg_q[1], qreg_q[2])\n",
        "circuit.cx(qreg_q[0], qreg_q[1])\n",
        "circuit.h(qreg_q[0])\n",
        "circuit.barrier(qreg_q[0], qreg_q[1], qreg_q[2])\n",
        "circuit.measure(qreg_q[0], creg_c[0])\n",
        "circuit.measure(qreg_q[1], creg_c[1])\n",
        "circuit.x(qreg_q[2]).c_if(creg_c, 1)\n",
        "circuit.z(qreg_q[2]).c_if(creg_c, 2)\n",
        "\n",
        "circuit.draw()"
      ]
    },
    {
      "cell_type": "code",
      "execution_count": null,
      "metadata": {
        "colab": {
          "base_uri": "https://localhost:8080/",
          "height": 294
        },
        "id": "ggbGJeU4KbRH",
        "outputId": "bc5032c3-b376-4e5e-faf1-95c33df543d1"
      },
      "outputs": [
        {
          "data": {
            "text/html": [
              "<pre style=\"word-wrap: normal;white-space: pre;background: #fff0;line-height: 1.1;font-family: &quot;Courier New&quot;,Courier,monospace\">     ┌───┐   ┌───┐┌───┐               ┌───┐┌───┐        ┌───┐┌───┐          »\n",
              "q_0: ┤ H ├─■─┤ H ├┤ X ├────────────■──┤ X ├┤ H ├──────■─┤ H ├┤ X ├──────────»\n",
              "     ├───┤ │ └───┘├───┤┌───┐       │  ├───┤├───┤      │ └───┘├───┤┌───┐     »\n",
              "q_1: ┤ H ├─┼───■──┤ H ├┤ X ├───────■──┤ X ├┤ H ├──────┼───■──┤ H ├┤ X ├─────»\n",
              "     ├───┤ │   │  ├───┤├───┤┌───┐┌─┴─┐├───┤├───┤┌───┐ │   │  ├───┤├───┤┌───┐»\n",
              "q_2: ┤ H ├─■───■──┤ H ├┤ X ├┤ H ├┤ X ├┤ H ├┤ X ├┤ H ├─■───■──┤ H ├┤ X ├┤ H ├»\n",
              "     └───┘        └───┘└───┘└───┘└───┘└───┘└───┘└───┘        └───┘└───┘└───┘»\n",
              "c: 2/═══════════════════════════════════════════════════════════════════════»\n",
              "                                                                            »\n",
              "«          ┌───┐┌───┐     ┌─┐   \n",
              "«q_0: ──■──┤ X ├┤ H ├─────┤M├───\n",
              "«       │  ├───┤├───┤     └╥┘┌─┐\n",
              "«q_1: ──■──┤ X ├┤ H ├──────╫─┤M├\n",
              "«     ┌─┴─┐├───┤├───┤┌───┐ ║ └╥┘\n",
              "«q_2: ┤ X ├┤ H ├┤ X ├┤ H ├─╫──╫─\n",
              "«     └───┘└───┘└───┘└───┘ ║  ║ \n",
              "«c: 2/═════════════════════╩══╩═\n",
              "«                          0  1 </pre>"
            ],
            "text/plain": [
              "     ┌───┐   ┌───┐┌───┐               ┌───┐┌───┐        ┌───┐┌───┐          »\n",
              "q_0: ┤ H ├─■─┤ H ├┤ X ├────────────■──┤ X ├┤ H ├──────■─┤ H ├┤ X ├──────────»\n",
              "     ├───┤ │ └───┘├───┤┌───┐       │  ├───┤├───┤      │ └───┘├───┤┌───┐     »\n",
              "q_1: ┤ H ├─┼───■──┤ H ├┤ X ├───────■──┤ X ├┤ H ├──────┼───■──┤ H ├┤ X ├─────»\n",
              "     ├───┤ │   │  ├───┤├───┤┌───┐┌─┴─┐├───┤├───┤┌───┐ │   │  ├───┤├───┤┌───┐»\n",
              "q_2: ┤ H ├─■───■──┤ H ├┤ X ├┤ H ├┤ X ├┤ H ├┤ X ├┤ H ├─■───■──┤ H ├┤ X ├┤ H ├»\n",
              "     └───┘        └───┘└───┘└───┘└───┘└───┘└───┘└───┘        └───┘└───┘└───┘»\n",
              "c: 2/═══════════════════════════════════════════════════════════════════════»\n",
              "                                                                            »\n",
              "«          ┌───┐┌───┐     ┌─┐   \n",
              "«q_0: ──■──┤ X ├┤ H ├─────┤M├───\n",
              "«       │  ├───┤├───┤     └╥┘┌─┐\n",
              "«q_1: ──■──┤ X ├┤ H ├──────╫─┤M├\n",
              "«     ┌─┴─┐├───┤├───┤┌───┐ ║ └╥┘\n",
              "«q_2: ┤ X ├┤ H ├┤ X ├┤ H ├─╫──╫─\n",
              "«     └───┘└───┘└───┘└───┘ ║  ║ \n",
              "«c: 2/═════════════════════╩══╩═\n",
              "«                          0  1 "
            ]
          },
          "execution_count": 6,
          "metadata": {},
          "output_type": "execute_result"
        }
      ],
      "source": [
        "from qiskit import QuantumRegister, ClassicalRegister, QuantumCircuit\n",
        "from numpy import pi\n",
        "\n",
        "qreg_q = QuantumRegister(3, 'q')\n",
        "creg_c = ClassicalRegister(2, 'c')\n",
        "circuit = QuantumCircuit(qreg_q, creg_c)\n",
        "\n",
        "# Apply Hadamard gates to all qubits\n",
        "circuit.h(qreg_q[0])\n",
        "circuit.h(qreg_q[1])\n",
        "circuit.h(qreg_q[2])\n",
        "# Grover's iterations\n",
        "# Iteration 1\n",
        "# Oracle\n",
        "circuit.cz(qreg_q[0], qreg_q[2])\n",
        "circuit.cz(qreg_q[1], qreg_q[2])\n",
        "# Diffusion\n",
        "circuit.h(qreg_q[0])\n",
        "circuit.h(qreg_q[1])\n",
        "circuit.h(qreg_q[2])\n",
        "circuit.x(qreg_q[0])\n",
        "circuit.x(qreg_q[1])\n",
        "circuit.x(qreg_q[2])\n",
        "circuit.h(qreg_q[2])\n",
        "circuit.ccx(qreg_q[0], qreg_q[1], qreg_q[2])\n",
        "circuit.h(qreg_q[2])\n",
        "circuit.x(qreg_q[0])\n",
        "circuit.x(qreg_q[1])\n",
        "circuit.x(qreg_q[2])\n",
        "circuit.h(qreg_q[0])\n",
        "circuit.h(qreg_q[1])\n",
        "circuit.h(qreg_q[2])\n",
        "# Iteration 2 (Repeat of Iteration 1)\n",
        "circuit.cz(qreg_q[0], qreg_q[2])\n",
        "circuit.cz(qreg_q[1], qreg_q[2])\n",
        "circuit.h(qreg_q[0])\n",
        "circuit.h(qreg_q[1])\n",
        "circuit.h(qreg_q[2])\n",
        "circuit.x(qreg_q[0])\n",
        "circuit.x(qreg_q[1])\n",
        "circuit.x(qreg_q[2])\n",
        "circuit.h(qreg_q[2])\n",
        "circuit.ccx(qreg_q[0], qreg_q[1], qreg_q[2])\n",
        "circuit.h(qreg_q[2])\n",
        "circuit.x(qreg_q[0])\n",
        "circuit.x(qreg_q[1])\n",
        "circuit.x(qreg_q[2])\n",
        "circuit.h(qreg_q[0])\n",
        "circuit.h(qreg_q[1])\n",
        "circuit.h(qreg_q[2])\n",
        "# Measure qubits\n",
        "circuit.measure(qreg_q[0], creg_c[0])\n",
        "circuit.measure(qreg_q[1], creg_c[1])\n",
        "\n",
        "circuit.draw()"
      ]
    },
    {
      "cell_type": "code",
      "execution_count": null,
      "metadata": {
        "colab": {
          "base_uri": "https://localhost:8080/",
          "height": 94
        },
        "id": "WHIaXzJdDux-",
        "outputId": "158a707f-a255-43b7-d72c-29e93749588c"
      },
      "outputs": [
        {
          "data": {
            "text/html": [
              "<pre style=\"word-wrap: normal;white-space: pre;background: #fff0;line-height: 1.1;font-family: &quot;Courier New&quot;,Courier,monospace\">              ┌───┐┌───┐┌─┐\n",
              "Photon qubit: ┤ H ├┤ H ├┤M├\n",
              "              └───┘└───┘└╥┘\n",
              "    Screen: 1/═══════════╩═\n",
              "                         0 </pre>"
            ],
            "text/plain": [
              "              ┌───┐┌───┐┌─┐\n",
              "Photon qubit: ┤ H ├┤ H ├┤M├\n",
              "              └───┘└───┘└╥┘\n",
              "    Screen: 1/═══════════╩═\n",
              "                         0 "
            ]
          },
          "execution_count": 4,
          "metadata": {},
          "output_type": "execute_result"
        }
      ],
      "source": [
        "\n",
        "from qiskit import QuantumCircuit, QuantumRegister, ClassicalRegister\n",
        "\n",
        "qr = QuantumRegister(1, name=\"Photon qubit\")\n",
        "cr = ClassicalRegister(1, name=\"Screen\")\n",
        "qc = QuantumCircuit(qr, cr)\n",
        "\n",
        "# Apply the Hadamard gate to create a superposition of paths\n",
        "qc.h(0)\n",
        "\n",
        "# Apply another Hadamard gate to combine the paths\n",
        "qc.h(0)\n",
        "\n",
        "\n",
        "qc.measure(0, 0)\n",
        "\n",
        "qc.draw()"
      ]
    },
    {
      "cell_type": "code",
      "execution_count": null,
      "metadata": {
        "colab": {
          "base_uri": "https://localhost:8080/",
          "height": 125
        },
        "id": "Td1uhQZ-Kis5",
        "outputId": "996e62f9-40ee-4659-b87f-b9326db04f25"
      },
      "outputs": [
        {
          "data": {
            "text/html": [
              "<pre style=\"word-wrap: normal;white-space: pre;background: #fff0;line-height: 1.1;font-family: &quot;Courier New&quot;,Courier,monospace\">                           ┌───┐┌─┐┌───┐┌─┐\n",
              "             Photon qubit: ┤ H ├┤M├┤ H ├┤M├\n",
              "                           └───┘└╥┘└───┘└╥┘\n",
              "Classical path detector: 1/══════╩═══════╬═\n",
              "                                 0       ║ \n",
              "                 Screen: 1/══════════════╩═\n",
              "                                         0 </pre>"
            ],
            "text/plain": [
              "                           ┌───┐┌─┐┌───┐┌─┐\n",
              "             Photon qubit: ┤ H ├┤M├┤ H ├┤M├\n",
              "                           └───┘└╥┘└───┘└╥┘\n",
              "Classical path detector: 1/══════╩═══════╬═\n",
              "                                 0       ║ \n",
              "                 Screen: 1/══════════════╩═\n",
              "                                         0 "
            ]
          },
          "execution_count": 8,
          "metadata": {},
          "output_type": "execute_result"
        }
      ],
      "source": [
        "cr2 = ClassicalRegister(1, name=\"Classical path detector\")\n",
        "\n",
        "qc_case2 = QuantumCircuit(qr, cr2, cr)\n",
        "\n",
        "\n",
        "qc_case2.h(0)\n",
        "\n",
        "# Measure the qubit, collapsing the superposition\n",
        "qc_case2.measure(0, 0)\n",
        "\n",
        "\n",
        "qc_case2.h(0)\n",
        "\n",
        "\n",
        "qc_case2.measure(0, 1)\n",
        "\n",
        "qc_case2.draw()"
      ]
    },
    {
      "cell_type": "code",
      "execution_count": null,
      "metadata": {
        "colab": {
          "base_uri": "https://localhost:8080/",
          "height": 125
        },
        "id": "dKVd87mfK7Zw",
        "outputId": "ac94b2de-9ed1-4b3c-d6bf-25a9861893f1"
      },
      "outputs": [
        {
          "data": {
            "text/html": [
              "<pre style=\"word-wrap: normal;white-space: pre;background: #fff0;line-height: 1.1;font-family: &quot;Courier New&quot;,Courier,monospace\">              ┌───┐   ┌───┐┌─┐\n",
              "Photon qubit: ┤ H ├─■─┤ H ├┤M├\n",
              "              └───┘ │ └───┘└╥┘\n",
              "       Qubit: ──────■───────╫─\n",
              "                            ║ \n",
              "    Screen: 1/══════════════╩═\n",
              "                            0 </pre>"
            ],
            "text/plain": [
              "              ┌───┐   ┌───┐┌─┐\n",
              "Photon qubit: ┤ H ├─■─┤ H ├┤M├\n",
              "              └───┘ │ └───┘└╥┘\n",
              "       Qubit: ──────■───────╫─\n",
              "                            ║ \n",
              "    Screen: 1/══════════════╩═\n",
              "                            0 "
            ]
          },
          "execution_count": 26,
          "metadata": {},
          "output_type": "execute_result"
        }
      ],
      "source": [
        "qr3 = QuantumRegister(1, name=\"Qubit\")\n",
        "qc_case4 = QuantumCircuit(qr, qr3, cr)\n",
        "\n",
        "# Apply the Hadamard gate to create a superposition of paths\n",
        "qc_case4.h(0)\n",
        "\n",
        "qc_case4.cz(0, 1)\n",
        "\n",
        "\n",
        "qc_case4.h(0)\n",
        "\n",
        "\n",
        "qc_case4.measure(0, 0)\n",
        "\n",
        "qc_case4.draw()"
      ]
    },
    {
      "cell_type": "code",
      "execution_count": null,
      "metadata": {
        "colab": {
          "base_uri": "https://localhost:8080/",
          "height": 206
        },
        "id": "ZmX5TV4qdQRF",
        "outputId": "5ffbbc95-910e-452d-96bf-9f17a085c288"
      },
      "outputs": [
        {
          "data": {
            "text/html": [
              "<pre style=\"word-wrap: normal;white-space: pre;background: #fff0;line-height: 1.1;font-family: &quot;Courier New&quot;,Courier,monospace\">             ┌───┐     ┌───┐      ░      ┌───┐ ░ ┌─┐                 \n",
              "baltimore_0: ┤ H ├──■──┤ H ├──────░───■──┤ H ├─░─┤M├─────────────────\n",
              "             └───┘┌─┴─┐├───┤      ░ ┌─┴─┐└───┘ ░ └╥┘┌─┐              \n",
              "baltimore_1: ─────┤ X ├┤ H ├──■───░─┤ X ├──────░──╫─┤M├──────────────\n",
              "                  └───┘└───┘┌─┴─┐ ░ └───┘      ░  ║ └╥┘ ┌───┐  ┌───┐ \n",
              "baltimore_2: ───────────────┤ X ├─░────────────░──╫──╫──┤ X ├──┤ Z ├─\n",
              "                            └───┘ ░            ░  ║  ║  └─╥─┘  └─╥─┘ \n",
              "  rockville: ─────────────────────────────────────╫──╫────╫──────╫───\n",
              "                                                  ║  ║ ┌──╨──┐┌──╨──┐\n",
              " bethesda: 2/═════════════════════════════════════╩══╩═╡ 0x1 ╞╡ 0x2 ╞\n",
              "                                                  0  1 └─────┘└─────┘</pre>"
            ],
            "text/plain": [
              "             ┌───┐     ┌───┐      ░      ┌───┐ ░ ┌─┐                 \n",
              "baltimore_0: ┤ H ├──■──┤ H ├──────░───■──┤ H ├─░─┤M├─────────────────\n",
              "             └───┘┌─┴─┐├───┤      ░ ┌─┴─┐└───┘ ░ └╥┘┌─┐              \n",
              "baltimore_1: ─────┤ X ├┤ H ├──■───░─┤ X ├──────░──╫─┤M├──────────────\n",
              "                  └───┘└───┘┌─┴─┐ ░ └───┘      ░  ║ └╥┘ ┌───┐  ┌───┐ \n",
              "baltimore_2: ───────────────┤ X ├─░────────────░──╫──╫──┤ X ├──┤ Z ├─\n",
              "                            └───┘ ░            ░  ║  ║  └─╥─┘  └─╥─┘ \n",
              "  rockville: ─────────────────────────────────────╫──╫────╫──────╫───\n",
              "                                                  ║  ║ ┌──╨──┐┌──╨──┐\n",
              " bethesda: 2/═════════════════════════════════════╩══╩═╡ 0x1 ╞╡ 0x2 ╞\n",
              "                                                  0  1 └─────┘└─────┘"
            ]
          },
          "execution_count": 5,
          "metadata": {},
          "output_type": "execute_result"
        }
      ],
      "source": [
        "from qiskit import QuantumRegister, ClassicalRegister, QuantumCircuit\n",
        "from numpy import pi\n",
        "\n",
        "qr = QuantumRegister(3, 'baltimore')\n",
        "cr = ClassicalRegister(2, 'bethesda')\n",
        "qr3 = QuantumRegister(1, 'rockville')\n",
        "\n",
        "qc = QuantumCircuit(qr, cr, qr3)\n",
        "\n",
        "# Create entanglement between qr[0] and qr[1]\n",
        "qc.h(qr[0])\n",
        "qc.cx(qr[0], qr[1])\n",
        "\n",
        "qc.h(qr[1])\n",
        "qc.cx(qr[1], qr[2])\n",
        "qc.h(qr[0])\n",
        "qc.barrier(qr[0], qr[1], qr[2])\n",
        "qc.cx(qr[0], qr[1])\n",
        "qc.h(qr[0])\n",
        "qc.barrier(qr[0], qr[1], qr[2])\n",
        "qc.measure(qr[0], cr[0])\n",
        "qc.measure(qr[1], cr[1])\n",
        "qc.x(qr[2]).c_if(cr, 1)\n",
        "qc.z(qr[2]).c_if(cr, 2)\n",
        "\n",
        "qc.draw()"
      ]
    },
    {
      "cell_type": "code",
      "execution_count": null,
      "metadata": {
        "colab": {
          "base_uri": "https://localhost:8080/",
          "height": 145
        },
        "id": "HafU6JNgfDGL",
        "outputId": "0ac1cbda-79ce-464b-d557-8b16d48e3674"
      },
      "outputs": [
        {
          "data": {
            "text/html": [
              "<pre style=\"word-wrap: normal;white-space: pre;background: #fff0;line-height: 1.1;font-family: &quot;Courier New&quot;,Courier,monospace\">              ┌───┐         ┌─┐   \n",
              "quesadilla_0: ┤ H ├─■───────┤M├───\n",
              "              └───┘ │P(π/2) └╥┘┌─┐\n",
              "quesadilla_1: ──────■────────╫─┤M├\n",
              "                             ║ └╥┘\n",
              "  colorado: 2/═══════════════╩══╩═\n",
              "                             0  1 </pre>"
            ],
            "text/plain": [
              "              ┌───┐         ┌─┐   \n",
              "quesadilla_0: ┤ H ├─■───────┤M├───\n",
              "              └───┘ │P(π/2) └╥┘┌─┐\n",
              "quesadilla_1: ──────■────────╫─┤M├\n",
              "                             ║ └╥┘\n",
              "  colorado: 2/═══════════════╩══╩═\n",
              "                             0  1 "
            ]
          },
          "execution_count": 2,
          "metadata": {},
          "output_type": "execute_result"
        }
      ],
      "source": [
        "from qiskit import QuantumRegister, ClassicalRegister, QuantumCircuit\n",
        "from numpy import pi\n",
        "\n",
        "\n",
        "qr = QuantumRegister(2, 'quesadilla')  # Two qubits for the double slit experiment\n",
        "cr = ClassicalRegister(2, 'colorado')  # Two classical bits for measurement\n",
        "\n",
        "\n",
        "qc = QuantumCircuit(qr, cr)\n",
        "\n",
        "# Initialize the first qubit in a superposition state\n",
        "qc.h(qr[0])\n",
        "\n",
        "# Apply a controlled-phase gate to simulate the double slit interference\n",
        "qc.cp(pi/2, qr[0], qr[1])\n",
        "\n",
        "\n",
        "qc.measure(qr, cr)\n",
        "\n",
        "\n",
        "qc.draw()"
      ]
    },
    {
      "cell_type": "code",
      "execution_count": null,
      "metadata": {
        "colab": {
          "base_uri": "https://localhost:8080/",
          "height": 253
        },
        "id": "vL4qVrNi1dKb",
        "outputId": "6dc46885-4860-4a15-afab-b44ba948406e"
      },
      "outputs": [
        {
          "data": {
            "text/html": [
              "<pre style=\"word-wrap: normal;white-space: pre;background: #fff0;line-height: 1.1;font-family: &quot;Courier New&quot;,Courier,monospace\">        ┌───┐┌───┐               ┌───┐┌───┐        ┌───┐┌───┐               »\n",
              "q_0: ─■─┤ H ├┤ X ├────────────■──┤ X ├┤ H ├──────■─┤ H ├┤ X ├────────────■──»\n",
              "      │ └───┘├───┤┌───┐       │  ├───┤├───┤      │ └───┘├───┤┌───┐       │  »\n",
              "q_1: ─┼───■──┤ H ├┤ X ├───────■──┤ X ├┤ H ├──────┼───■──┤ H ├┤ X ├───────■──»\n",
              "      │   │  ├───┤├───┤┌───┐┌─┴─┐├───┤├───┤┌───┐ │   │  ├───┤├───┤┌───┐┌─┴─┐»\n",
              "q_2: ─■───■──┤ H ├┤ X ├┤ H ├┤ X ├┤ H ├┤ X ├┤ H ├─■───■──┤ H ├┤ X ├┤ H ├┤ X ├»\n",
              "             └───┘└───┘└───┘└───┘└───┘└───┘└───┘        └───┘└───┘└───┘└───┘»\n",
              "«     ┌───┐┌───┐     \n",
              "«q_0: ┤ X ├┤ H ├─────\n",
              "«     ├───┤├───┤     \n",
              "«q_1: ┤ X ├┤ H ├─────\n",
              "«     ├───┤├───┤┌───┐\n",
              "«q_2: ┤ H ├┤ X ├┤ H ├\n",
              "«     └───┘└───┘└───┘</pre>"
            ],
            "text/plain": [
              "        ┌───┐┌───┐               ┌───┐┌───┐        ┌───┐┌───┐               »\n",
              "q_0: ─■─┤ H ├┤ X ├────────────■──┤ X ├┤ H ├──────■─┤ H ├┤ X ├────────────■──»\n",
              "      │ └───┘├───┤┌───┐       │  ├───┤├───┤      │ └───┘├───┤┌───┐       │  »\n",
              "q_1: ─┼───■──┤ H ├┤ X ├───────■──┤ X ├┤ H ├──────┼───■──┤ H ├┤ X ├───────■──»\n",
              "      │   │  ├───┤├───┤┌───┐┌─┴─┐├───┤├───┤┌───┐ │   │  ├───┤├───┤┌───┐┌─┴─┐»\n",
              "q_2: ─■───■──┤ H ├┤ X ├┤ H ├┤ X ├┤ H ├┤ X ├┤ H ├─■───■──┤ H ├┤ X ├┤ H ├┤ X ├»\n",
              "             └───┘└───┘└───┘└───┘└───┘└───┘└───┘        └───┘└───┘└───┘└───┘»\n",
              "«     ┌───┐┌───┐     \n",
              "«q_0: ┤ X ├┤ H ├─────\n",
              "«     ├───┤├───┤     \n",
              "«q_1: ┤ X ├┤ H ├─────\n",
              "«     ├───┤├───┤┌───┐\n",
              "«q_2: ┤ H ├┤ X ├┤ H ├\n",
              "«     └───┘└───┘└───┘"
            ]
          },
          "execution_count": 29,
          "metadata": {},
          "output_type": "execute_result"
        }
      ],
      "source": [
        "\n",
        "from qiskit import QuantumCircuit, transpile, ClassicalRegister\n",
        "from numpy import pi\n",
        "\n",
        "\n",
        "def oracle(qc, q0, q1, q2):\n",
        "    \"\"\"Applies the oracle for Grover's algorithm.\"\"\"\n",
        "    qc.cz(q0, q2)\n",
        "    qc.cz(q1, q2)\n",
        "\n",
        "def diffusion(qc, qubits):\n",
        "    \"\"\"Applies the diffusion operator for Grover's algorithm.\"\"\"\n",
        "    qc.h(qubits)\n",
        "    qc.x(qubits)\n",
        "    qc.h(qubits[-1])\n",
        "    qc.ccx(qubits[0], qubits[1], qubits[-1])\n",
        "    qc.h(qubits[-1])\n",
        "    qc.x(qubits)\n",
        "    qc.h(qubits)\n",
        "\n",
        "\n",
        "def grover_algorithm(num_iterations, num_qubits):\n",
        "    \"\"\"Implements Grover's algorithm.\"\"\"\n",
        "    qc = QuantumCircuit(num_qubits)\n",
        "    for _ in range(num_iterations):\n",
        "        oracle(qc, 0, 1, 2)\n",
        "        diffusion(qc, range(num_qubits))\n",
        "    return qc\n",
        "\n",
        "\n",
        "\n",
        "num_iterations = 2\n",
        "num_qubits = 3\n",
        "grover_circuit = grover_algorithm(num_iterations, num_qubits)\n",
        "\n",
        "grover_circuit.draw()"
      ]
    },
    {
      "cell_type": "code",
      "execution_count": null,
      "metadata": {
        "colab": {
          "base_uri": "https://localhost:8080/",
          "height": 1000
        },
        "id": "CupkZwhK_J0X",
        "outputId": "84859ab5-4c3a-45fd-f0a8-859df51f3021"
      },
      "outputs": [
        {
          "name": "stdout",
          "output_type": "stream",
          "text": [
            "Requirement already satisfied: qiskit in /usr/local/lib/python3.10/dist-packages (1.0.2)\n",
            "Requirement already satisfied: rustworkx>=0.14.0 in /usr/local/lib/python3.10/dist-packages (from qiskit) (0.14.2)\n",
            "Requirement already satisfied: numpy<2,>=1.17 in /usr/local/lib/python3.10/dist-packages (from qiskit) (1.25.2)\n",
            "Requirement already satisfied: scipy>=1.5 in /usr/local/lib/python3.10/dist-packages (from qiskit) (1.11.4)\n",
            "Requirement already satisfied: sympy>=1.3 in /usr/local/lib/python3.10/dist-packages (from qiskit) (1.12)\n",
            "Requirement already satisfied: dill>=0.3 in /usr/local/lib/python3.10/dist-packages (from qiskit) (0.3.8)\n",
            "Requirement already satisfied: python-dateutil>=2.8.0 in /usr/local/lib/python3.10/dist-packages (from qiskit) (2.8.2)\n",
            "Requirement already satisfied: stevedore>=3.0.0 in /usr/local/lib/python3.10/dist-packages (from qiskit) (5.2.0)\n",
            "Requirement already satisfied: typing-extensions in /usr/local/lib/python3.10/dist-packages (from qiskit) (4.10.0)\n",
            "Requirement already satisfied: symengine>=0.11 in /usr/local/lib/python3.10/dist-packages (from qiskit) (0.11.0)\n",
            "Requirement already satisfied: six>=1.5 in /usr/local/lib/python3.10/dist-packages (from python-dateutil>=2.8.0->qiskit) (1.16.0)\n",
            "Requirement already satisfied: pbr!=2.1.0,>=2.0.0 in /usr/local/lib/python3.10/dist-packages (from stevedore>=3.0.0->qiskit) (6.0.0)\n",
            "Requirement already satisfied: mpmath>=0.19 in /usr/local/lib/python3.10/dist-packages (from sympy>=1.3->qiskit) (1.3.0)\n"
          ]
        },
        {
          "data": {
            "text/html": [
              "<pre style=\"word-wrap: normal;white-space: pre;background: #fff0;line-height: 1.1;font-family: &quot;Courier New&quot;,Courier,monospace\">      ┌───┐     ┌─┐   ┌─┐   ┌─┐   ┌─┐   ┌─┐   ┌─┐   ┌─┐   ┌─┐   ┌─┐   ┌─┐   ┌─┐»\n",
              "  q0: ┤ H ├──■──┤M├───┤M├───┤M├───┤M├───┤M├───┤M├───┤M├───┤M├───┤M├───┤M├───┤M├»\n",
              "      └───┘┌─┴─┐└╥┘┌─┐└╥┘┌─┐└╥┘┌─┐└╥┘┌─┐└╥┘┌─┐└╥┘┌─┐└╥┘┌─┐└╥┘┌─┐└╥┘┌─┐└╥┘┌─┐└╥┘»\n",
              "  q1: ─────┤ X ├─╫─┤M├─╫─┤M├─╫─┤M├─╫─┤M├─╫─┤M├─╫─┤M├─╫─┤M├─╫─┤M├─╫─┤M├─╫─┤M├─╫─»\n",
              "           └───┘ ║ └╥┘ ║ └╥┘ ║ └╥┘ ║ └╥┘ ║ └╥┘ ║ └╥┘ ║ └╥┘ ║ └╥┘ ║ └╥┘ ║ └╥┘ ║ »\n",
              "c0: 2/═══════════╩══╩══╩══╩══╩══╩══╩══╩══╩══╩══╩══╩══╩══╩══╩══╩══╩══╩══╩══╩══╩═»\n",
              "                 0  1  0  1  0  1  0  1  0  1  0  1  0  1  0  1  0  1  0  1  0 »\n",
              "«         ┌─┐   ┌─┐   ┌─┐   ┌─┐   ┌─┐   ┌─┐   ┌─┐   ┌─┐   ┌─┐   ┌─┐   ┌─┐   ┌─┐»\n",
              "«  q0: ───┤M├───┤M├───┤M├───┤M├───┤M├───┤M├───┤M├───┤M├───┤M├───┤M├───┤M├───┤M├»\n",
              "«      ┌─┐└╥┘┌─┐└╥┘┌─┐└╥┘┌─┐└╥┘┌─┐└╥┘┌─┐└╥┘┌─┐└╥┘┌─┐└╥┘┌─┐└╥┘┌─┐└╥┘┌─┐└╥┘┌─┐└╥┘»\n",
              "«  q1: ┤M├─╫─┤M├─╫─┤M├─╫─┤M├─╫─┤M├─╫─┤M├─╫─┤M├─╫─┤M├─╫─┤M├─╫─┤M├─╫─┤M├─╫─┤M├─╫─»\n",
              "«      └╥┘ ║ └╥┘ ║ └╥┘ ║ └╥┘ ║ └╥┘ ║ └╥┘ ║ └╥┘ ║ └╥┘ ║ └╥┘ ║ └╥┘ ║ └╥┘ ║ └╥┘ ║ »\n",
              "«c0: 2/═╩══╩══╩══╩══╩══╩══╩══╩══╩══╩══╩══╩══╩══╩══╩══╩══╩══╩══╩══╩══╩══╩══╩══╩═»\n",
              "«       1  0  1  0  1  0  1  0  1  0  1  0  1  0  1  0  1  0  1  0  1  0  1  0 »\n",
              "«         ┌─┐   ┌─┐   ┌─┐   ┌─┐   ┌─┐   ┌─┐   ┌─┐   ┌─┐   ┌─┐   ┌─┐   ┌─┐   ┌─┐»\n",
              "«  q0: ───┤M├───┤M├───┤M├───┤M├───┤M├───┤M├───┤M├───┤M├───┤M├───┤M├───┤M├───┤M├»\n",
              "«      ┌─┐└╥┘┌─┐└╥┘┌─┐└╥┘┌─┐└╥┘┌─┐└╥┘┌─┐└╥┘┌─┐└╥┘┌─┐└╥┘┌─┐└╥┘┌─┐└╥┘┌─┐└╥┘┌─┐└╥┘»\n",
              "«  q1: ┤M├─╫─┤M├─╫─┤M├─╫─┤M├─╫─┤M├─╫─┤M├─╫─┤M├─╫─┤M├─╫─┤M├─╫─┤M├─╫─┤M├─╫─┤M├─╫─»\n",
              "«      └╥┘ ║ └╥┘ ║ └╥┘ ║ └╥┘ ║ └╥┘ ║ └╥┘ ║ └╥┘ ║ └╥┘ ║ └╥┘ ║ └╥┘ ║ └╥┘ ║ └╥┘ ║ »\n",
              "«c0: 2/═╩══╩══╩══╩══╩══╩══╩══╩══╩══╩══╩══╩══╩══╩══╩══╩══╩══╩══╩══╩══╩══╩══╩══╩═»\n",
              "«       1  0  1  0  1  0  1  0  1  0  1  0  1  0  1  0  1  0  1  0  1  0  1  0 »\n",
              "«         ┌─┐   ┌─┐   ┌─┐   ┌─┐   ┌─┐   ┌─┐   ┌─┐   ┌─┐   ┌─┐   ┌─┐   ┌─┐   ┌─┐»\n",
              "«  q0: ───┤M├───┤M├───┤M├───┤M├───┤M├───┤M├───┤M├───┤M├───┤M├───┤M├───┤M├───┤M├»\n",
              "«      ┌─┐└╥┘┌─┐└╥┘┌─┐└╥┘┌─┐└╥┘┌─┐└╥┘┌─┐└╥┘┌─┐└╥┘┌─┐└╥┘┌─┐└╥┘┌─┐└╥┘┌─┐└╥┘┌─┐└╥┘»\n",
              "«  q1: ┤M├─╫─┤M├─╫─┤M├─╫─┤M├─╫─┤M├─╫─┤M├─╫─┤M├─╫─┤M├─╫─┤M├─╫─┤M├─╫─┤M├─╫─┤M├─╫─»\n",
              "«      └╥┘ ║ └╥┘ ║ └╥┘ ║ └╥┘ ║ └╥┘ ║ └╥┘ ║ └╥┘ ║ └╥┘ ║ └╥┘ ║ └╥┘ ║ └╥┘ ║ └╥┘ ║ »\n",
              "«c0: 2/═╩══╩══╩══╩══╩══╩══╩══╩══╩══╩══╩══╩══╩══╩══╩══╩══╩══╩══╩══╩══╩══╩══╩══╩═»\n",
              "«       1  0  1  0  1  0  1  0  1  0  1  0  1  0  1  0  1  0  1  0  1  0  1  0 »\n",
              "«         ┌─┐   ┌─┐   ┌─┐   ┌─┐   ┌─┐   ┌─┐   ┌─┐   ┌─┐   ┌─┐   ┌─┐   ┌─┐   ┌─┐»\n",
              "«  q0: ───┤M├───┤M├───┤M├───┤M├───┤M├───┤M├───┤M├───┤M├───┤M├───┤M├───┤M├───┤M├»\n",
              "«      ┌─┐└╥┘┌─┐└╥┘┌─┐└╥┘┌─┐└╥┘┌─┐└╥┘┌─┐└╥┘┌─┐└╥┘┌─┐└╥┘┌─┐└╥┘┌─┐└╥┘┌─┐└╥┘┌─┐└╥┘»\n",
              "«  q1: ┤M├─╫─┤M├─╫─┤M├─╫─┤M├─╫─┤M├─╫─┤M├─╫─┤M├─╫─┤M├─╫─┤M├─╫─┤M├─╫─┤M├─╫─┤M├─╫─»\n",
              "«      └╥┘ ║ └╥┘ ║ └╥┘ ║ └╥┘ ║ └╥┘ ║ └╥┘ ║ └╥┘ ║ └╥┘ ║ └╥┘ ║ └╥┘ ║ └╥┘ ║ └╥┘ ║ »\n",
              "«c0: 2/═╩══╩══╩══╩══╩══╩══╩══╩══╩══╩══╩══╩══╩══╩══╩══╩══╩══╩══╩══╩══╩══╩══╩══╩═»\n",
              "«       1  0  1  0  1  0  1  0  1  0  1  0  1  0  1  0  1  0  1  0  1  0  1  0 »\n",
              "«         ┌─┐   ┌─┐   ┌─┐   ┌─┐   ┌─┐   ┌─┐   ┌─┐   ┌─┐   ┌─┐   ┌─┐   ┌─┐   ┌─┐»\n",
              "«  q0: ───┤M├───┤M├───┤M├───┤M├───┤M├───┤M├───┤M├───┤M├───┤M├───┤M├───┤M├───┤M├»\n",
              "«      ┌─┐└╥┘┌─┐└╥┘┌─┐└╥┘┌─┐└╥┘┌─┐└╥┘┌─┐└╥┘┌─┐└╥┘┌─┐└╥┘┌─┐└╥┘┌─┐└╥┘┌─┐└╥┘┌─┐└╥┘»\n",
              "«  q1: ┤M├─╫─┤M├─╫─┤M├─╫─┤M├─╫─┤M├─╫─┤M├─╫─┤M├─╫─┤M├─╫─┤M├─╫─┤M├─╫─┤M├─╫─┤M├─╫─»\n",
              "«      └╥┘ ║ └╥┘ ║ └╥┘ ║ └╥┘ ║ └╥┘ ║ └╥┘ ║ └╥┘ ║ └╥┘ ║ └╥┘ ║ └╥┘ ║ └╥┘ ║ └╥┘ ║ »\n",
              "«c0: 2/═╩══╩══╩══╩══╩══╩══╩══╩══╩══╩══╩══╩══╩══╩══╩══╩══╩══╩══╩══╩══╩══╩══╩══╩═»\n",
              "«       1  0  1  0  1  0  1  0  1  0  1  0  1  0  1  0  1  0  1  0  1  0  1  0 »\n",
              "«         ┌─┐   ┌─┐   ┌─┐   ┌─┐   ┌─┐   ┌─┐   ┌─┐   ┌─┐   ┌─┐   ┌─┐   ┌─┐   ┌─┐»\n",
              "«  q0: ───┤M├───┤M├───┤M├───┤M├───┤M├───┤M├───┤M├───┤M├───┤M├───┤M├───┤M├───┤M├»\n",
              "«      ┌─┐└╥┘┌─┐└╥┘┌─┐└╥┘┌─┐└╥┘┌─┐└╥┘┌─┐└╥┘┌─┐└╥┘┌─┐└╥┘┌─┐└╥┘┌─┐└╥┘┌─┐└╥┘┌─┐└╥┘»\n",
              "«  q1: ┤M├─╫─┤M├─╫─┤M├─╫─┤M├─╫─┤M├─╫─┤M├─╫─┤M├─╫─┤M├─╫─┤M├─╫─┤M├─╫─┤M├─╫─┤M├─╫─»\n",
              "«      └╥┘ ║ └╥┘ ║ └╥┘ ║ └╥┘ ║ └╥┘ ║ └╥┘ ║ └╥┘ ║ └╥┘ ║ └╥┘ ║ └╥┘ ║ └╥┘ ║ └╥┘ ║ »\n",
              "«c0: 2/═╩══╩══╩══╩══╩══╩══╩══╩══╩══╩══╩══╩══╩══╩══╩══╩══╩══╩══╩══╩══╩══╩══╩══╩═»\n",
              "«       1  0  1  0  1  0  1  0  1  0  1  0  1  0  1  0  1  0  1  0  1  0  1  0 »\n",
              "«         ┌─┐   ┌─┐   ┌─┐   ┌─┐   ┌─┐   ┌─┐   ┌─┐   ┌─┐   ┌─┐   ┌─┐   ┌─┐   ┌─┐»\n",
              "«  q0: ───┤M├───┤M├───┤M├───┤M├───┤M├───┤M├───┤M├───┤M├───┤M├───┤M├───┤M├───┤M├»\n",
              "«      ┌─┐└╥┘┌─┐└╥┘┌─┐└╥┘┌─┐└╥┘┌─┐└╥┘┌─┐└╥┘┌─┐└╥┘┌─┐└╥┘┌─┐└╥┘┌─┐└╥┘┌─┐└╥┘┌─┐└╥┘»\n",
              "«  q1: ┤M├─╫─┤M├─╫─┤M├─╫─┤M├─╫─┤M├─╫─┤M├─╫─┤M├─╫─┤M├─╫─┤M├─╫─┤M├─╫─┤M├─╫─┤M├─╫─»\n",
              "«      └╥┘ ║ └╥┘ ║ └╥┘ ║ └╥┘ ║ └╥┘ ║ └╥┘ ║ └╥┘ ║ └╥┘ ║ └╥┘ ║ └╥┘ ║ └╥┘ ║ └╥┘ ║ »\n",
              "«c0: 2/═╩══╩══╩══╩══╩══╩══╩══╩══╩══╩══╩══╩══╩══╩══╩══╩══╩══╩══╩══╩══╩══╩══╩══╩═»\n",
              "«       1  0  1  0  1  0  1  0  1  0  1  0  1  0  1  0  1  0  1  0  1  0  1  0 »\n",
              "«         ┌─┐   ┌─┐   ┌─┐   ┌─┐   ┌─┐   \n",
              "«  q0: ───┤M├───┤M├───┤M├───┤M├───┤M├───\n",
              "«      ┌─┐└╥┘┌─┐└╥┘┌─┐└╥┘┌─┐└╥┘┌─┐└╥┘┌─┐\n",
              "«  q1: ┤M├─╫─┤M├─╫─┤M├─╫─┤M├─╫─┤M├─╫─┤M├\n",
              "«      └╥┘ ║ └╥┘ ║ └╥┘ ║ └╥┘ ║ └╥┘ ║ └╥┘\n",
              "«c0: 2/═╩══╩══╩══╩══╩══╩══╩══╩══╩══╩══╩═\n",
              "«       1  0  1  0  1  0  1  0  1  0  1 </pre>"
            ],
            "text/plain": [
              "      ┌───┐     ┌─┐   ┌─┐   ┌─┐   ┌─┐   ┌─┐   ┌─┐   ┌─┐   ┌─┐   ┌─┐   ┌─┐   ┌─┐»\n",
              "  q0: ┤ H ├──■──┤M├───┤M├───┤M├───┤M├───┤M├───┤M├───┤M├───┤M├───┤M├───┤M├───┤M├»\n",
              "      └───┘┌─┴─┐└╥┘┌─┐└╥┘┌─┐└╥┘┌─┐└╥┘┌─┐└╥┘┌─┐└╥┘┌─┐└╥┘┌─┐└╥┘┌─┐└╥┘┌─┐└╥┘┌─┐└╥┘»\n",
              "  q1: ─────┤ X ├─╫─┤M├─╫─┤M├─╫─┤M├─╫─┤M├─╫─┤M├─╫─┤M├─╫─┤M├─╫─┤M├─╫─┤M├─╫─┤M├─╫─»\n",
              "           └───┘ ║ └╥┘ ║ └╥┘ ║ └╥┘ ║ └╥┘ ║ └╥┘ ║ └╥┘ ║ └╥┘ ║ └╥┘ ║ └╥┘ ║ └╥┘ ║ »\n",
              "c0: 2/═══════════╩══╩══╩══╩══╩══╩══╩══╩══╩══╩══╩══╩══╩══╩══╩══╩══╩══╩══╩══╩══╩═»\n",
              "                 0  1  0  1  0  1  0  1  0  1  0  1  0  1  0  1  0  1  0  1  0 »\n",
              "«         ┌─┐   ┌─┐   ┌─┐   ┌─┐   ┌─┐   ┌─┐   ┌─┐   ┌─┐   ┌─┐   ┌─┐   ┌─┐   ┌─┐»\n",
              "«  q0: ───┤M├───┤M├───┤M├───┤M├───┤M├───┤M├───┤M├───┤M├───┤M├───┤M├───┤M├───┤M├»\n",
              "«      ┌─┐└╥┘┌─┐└╥┘┌─┐└╥┘┌─┐└╥┘┌─┐└╥┘┌─┐└╥┘┌─┐└╥┘┌─┐└╥┘┌─┐└╥┘┌─┐└╥┘┌─┐└╥┘┌─┐└╥┘»\n",
              "«  q1: ┤M├─╫─┤M├─╫─┤M├─╫─┤M├─╫─┤M├─╫─┤M├─╫─┤M├─╫─┤M├─╫─┤M├─╫─┤M├─╫─┤M├─╫─┤M├─╫─»\n",
              "«      └╥┘ ║ └╥┘ ║ └╥┘ ║ └╥┘ ║ └╥┘ ║ └╥┘ ║ └╥┘ ║ └╥┘ ║ └╥┘ ║ └╥┘ ║ └╥┘ ║ └╥┘ ║ »\n",
              "«c0: 2/═╩══╩══╩══╩══╩══╩══╩══╩══╩══╩══╩══╩══╩══╩══╩══╩══╩══╩══╩══╩══╩══╩══╩══╩═»\n",
              "«       1  0  1  0  1  0  1  0  1  0  1  0  1  0  1  0  1  0  1  0  1  0  1  0 »\n",
              "«         ┌─┐   ┌─┐   ┌─┐   ┌─┐   ┌─┐   ┌─┐   ┌─┐   ┌─┐   ┌─┐   ┌─┐   ┌─┐   ┌─┐»\n",
              "«  q0: ───┤M├───┤M├───┤M├───┤M├───┤M├───┤M├───┤M├───┤M├───┤M├───┤M├───┤M├───┤M├»\n",
              "«      ┌─┐└╥┘┌─┐└╥┘┌─┐└╥┘┌─┐└╥┘┌─┐└╥┘┌─┐└╥┘┌─┐└╥┘┌─┐└╥┘┌─┐└╥┘┌─┐└╥┘┌─┐└╥┘┌─┐└╥┘»\n",
              "«  q1: ┤M├─╫─┤M├─╫─┤M├─╫─┤M├─╫─┤M├─╫─┤M├─╫─┤M├─╫─┤M├─╫─┤M├─╫─┤M├─╫─┤M├─╫─┤M├─╫─»\n",
              "«      └╥┘ ║ └╥┘ ║ └╥┘ ║ └╥┘ ║ └╥┘ ║ └╥┘ ║ └╥┘ ║ └╥┘ ║ └╥┘ ║ └╥┘ ║ └╥┘ ║ └╥┘ ║ »\n",
              "«c0: 2/═╩══╩══╩══╩══╩══╩══╩══╩══╩══╩══╩══╩══╩══╩══╩══╩══╩══╩══╩══╩══╩══╩══╩══╩═»\n",
              "«       1  0  1  0  1  0  1  0  1  0  1  0  1  0  1  0  1  0  1  0  1  0  1  0 »\n",
              "«         ┌─┐   ┌─┐   ┌─┐   ┌─┐   ┌─┐   ┌─┐   ┌─┐   ┌─┐   ┌─┐   ┌─┐   ┌─┐   ┌─┐»\n",
              "«  q0: ───┤M├───┤M├───┤M├───┤M├───┤M├───┤M├───┤M├───┤M├───┤M├───┤M├───┤M├───┤M├»\n",
              "«      ┌─┐└╥┘┌─┐└╥┘┌─┐└╥┘┌─┐└╥┘┌─┐└╥┘┌─┐└╥┘┌─┐└╥┘┌─┐└╥┘┌─┐└╥┘┌─┐└╥┘┌─┐└╥┘┌─┐└╥┘»\n",
              "«  q1: ┤M├─╫─┤M├─╫─┤M├─╫─┤M├─╫─┤M├─╫─┤M├─╫─┤M├─╫─┤M├─╫─┤M├─╫─┤M├─╫─┤M├─╫─┤M├─╫─»\n",
              "«      └╥┘ ║ └╥┘ ║ └╥┘ ║ └╥┘ ║ └╥┘ ║ └╥┘ ║ └╥┘ ║ └╥┘ ║ └╥┘ ║ └╥┘ ║ └╥┘ ║ └╥┘ ║ »\n",
              "«c0: 2/═╩══╩══╩══╩══╩══╩══╩══╩══╩══╩══╩══╩══╩══╩══╩══╩══╩══╩══╩══╩══╩══╩══╩══╩═»\n",
              "«       1  0  1  0  1  0  1  0  1  0  1  0  1  0  1  0  1  0  1  0  1  0  1  0 »\n",
              "«         ┌─┐   ┌─┐   ┌─┐   ┌─┐   ┌─┐   ┌─┐   ┌─┐   ┌─┐   ┌─┐   ┌─┐   ┌─┐   ┌─┐»\n",
              "«  q0: ───┤M├───┤M├───┤M├───┤M├───┤M├───┤M├───┤M├───┤M├───┤M├───┤M├───┤M├───┤M├»\n",
              "«      ┌─┐└╥┘┌─┐└╥┘┌─┐└╥┘┌─┐└╥┘┌─┐└╥┘┌─┐└╥┘┌─┐└╥┘┌─┐└╥┘┌─┐└╥┘┌─┐└╥┘┌─┐└╥┘┌─┐└╥┘»\n",
              "«  q1: ┤M├─╫─┤M├─╫─┤M├─╫─┤M├─╫─┤M├─╫─┤M├─╫─┤M├─╫─┤M├─╫─┤M├─╫─┤M├─╫─┤M├─╫─┤M├─╫─»\n",
              "«      └╥┘ ║ └╥┘ ║ └╥┘ ║ └╥┘ ║ └╥┘ ║ └╥┘ ║ └╥┘ ║ └╥┘ ║ └╥┘ ║ └╥┘ ║ └╥┘ ║ └╥┘ ║ »\n",
              "«c0: 2/═╩══╩══╩══╩══╩══╩══╩══╩══╩══╩══╩══╩══╩══╩══╩══╩══╩══╩══╩══╩══╩══╩══╩══╩═»\n",
              "«       1  0  1  0  1  0  1  0  1  0  1  0  1  0  1  0  1  0  1  0  1  0  1  0 »\n",
              "«         ┌─┐   ┌─┐   ┌─┐   ┌─┐   ┌─┐   ┌─┐   ┌─┐   ┌─┐   ┌─┐   ┌─┐   ┌─┐   ┌─┐»\n",
              "«  q0: ───┤M├───┤M├───┤M├───┤M├───┤M├───┤M├───┤M├───┤M├───┤M├───┤M├───┤M├───┤M├»\n",
              "«      ┌─┐└╥┘┌─┐└╥┘┌─┐└╥┘┌─┐└╥┘┌─┐└╥┘┌─┐└╥┘┌─┐└╥┘┌─┐└╥┘┌─┐└╥┘┌─┐└╥┘┌─┐└╥┘┌─┐└╥┘»\n",
              "«  q1: ┤M├─╫─┤M├─╫─┤M├─╫─┤M├─╫─┤M├─╫─┤M├─╫─┤M├─╫─┤M├─╫─┤M├─╫─┤M├─╫─┤M├─╫─┤M├─╫─»\n",
              "«      └╥┘ ║ └╥┘ ║ └╥┘ ║ └╥┘ ║ └╥┘ ║ └╥┘ ║ └╥┘ ║ └╥┘ ║ └╥┘ ║ └╥┘ ║ └╥┘ ║ └╥┘ ║ »\n",
              "«c0: 2/═╩══╩══╩══╩══╩══╩══╩══╩══╩══╩══╩══╩══╩══╩══╩══╩══╩══╩══╩══╩══╩══╩══╩══╩═»\n",
              "«       1  0  1  0  1  0  1  0  1  0  1  0  1  0  1  0  1  0  1  0  1  0  1  0 »\n",
              "«         ┌─┐   ┌─┐   ┌─┐   ┌─┐   ┌─┐   ┌─┐   ┌─┐   ┌─┐   ┌─┐   ┌─┐   ┌─┐   ┌─┐»\n",
              "«  q0: ───┤M├───┤M├───┤M├───┤M├───┤M├───┤M├───┤M├───┤M├───┤M├───┤M├───┤M├───┤M├»\n",
              "«      ┌─┐└╥┘┌─┐└╥┘┌─┐└╥┘┌─┐└╥┘┌─┐└╥┘┌─┐└╥┘┌─┐└╥┘┌─┐└╥┘┌─┐└╥┘┌─┐└╥┘┌─┐└╥┘┌─┐└╥┘»\n",
              "«  q1: ┤M├─╫─┤M├─╫─┤M├─╫─┤M├─╫─┤M├─╫─┤M├─╫─┤M├─╫─┤M├─╫─┤M├─╫─┤M├─╫─┤M├─╫─┤M├─╫─»\n",
              "«      └╥┘ ║ └╥┘ ║ └╥┘ ║ └╥┘ ║ └╥┘ ║ └╥┘ ║ └╥┘ ║ └╥┘ ║ └╥┘ ║ └╥┘ ║ └╥┘ ║ └╥┘ ║ »\n",
              "«c0: 2/═╩══╩══╩══╩══╩══╩══╩══╩══╩══╩══╩══╩══╩══╩══╩══╩══╩══╩══╩══╩══╩══╩══╩══╩═»\n",
              "«       1  0  1  0  1  0  1  0  1  0  1  0  1  0  1  0  1  0  1  0  1  0  1  0 »\n",
              "«         ┌─┐   ┌─┐   ┌─┐   ┌─┐   ┌─┐   ┌─┐   ┌─┐   ┌─┐   ┌─┐   ┌─┐   ┌─┐   ┌─┐»\n",
              "«  q0: ───┤M├───┤M├───┤M├───┤M├───┤M├───┤M├───┤M├───┤M├───┤M├───┤M├───┤M├───┤M├»\n",
              "«      ┌─┐└╥┘┌─┐└╥┘┌─┐└╥┘┌─┐└╥┘┌─┐└╥┘┌─┐└╥┘┌─┐└╥┘┌─┐└╥┘┌─┐└╥┘┌─┐└╥┘┌─┐└╥┘┌─┐└╥┘»\n",
              "«  q1: ┤M├─╫─┤M├─╫─┤M├─╫─┤M├─╫─┤M├─╫─┤M├─╫─┤M├─╫─┤M├─╫─┤M├─╫─┤M├─╫─┤M├─╫─┤M├─╫─»\n",
              "«      └╥┘ ║ └╥┘ ║ └╥┘ ║ └╥┘ ║ └╥┘ ║ └╥┘ ║ └╥┘ ║ └╥┘ ║ └╥┘ ║ └╥┘ ║ └╥┘ ║ └╥┘ ║ »\n",
              "«c0: 2/═╩══╩══╩══╩══╩══╩══╩══╩══╩══╩══╩══╩══╩══╩══╩══╩══╩══╩══╩══╩══╩══╩══╩══╩═»\n",
              "«       1  0  1  0  1  0  1  0  1  0  1  0  1  0  1  0  1  0  1  0  1  0  1  0 »\n",
              "«         ┌─┐   ┌─┐   ┌─┐   ┌─┐   ┌─┐   \n",
              "«  q0: ───┤M├───┤M├───┤M├───┤M├───┤M├───\n",
              "«      ┌─┐└╥┘┌─┐└╥┘┌─┐└╥┘┌─┐└╥┘┌─┐└╥┘┌─┐\n",
              "«  q1: ┤M├─╫─┤M├─╫─┤M├─╫─┤M├─╫─┤M├─╫─┤M├\n",
              "«      └╥┘ ║ └╥┘ ║ └╥┘ ║ └╥┘ ║ └╥┘ ║ └╥┘\n",
              "«c0: 2/═╩══╩══╩══╩══╩══╩══╩══╩══╩══╩══╩═\n",
              "«       1  0  1  0  1  0  1  0  1  0  1 "
            ]
          },
          "execution_count": 6,
          "metadata": {},
          "output_type": "execute_result"
        }
      ],
      "source": [
        "!pip install qiskit\n",
        "from qiskit import QuantumCircuit, QuantumRegister, ClassicalRegister\n",
        "from numpy import pi\n",
        "\n",
        "def entangled_state(qc, q0, q1):\n",
        "    \"\"\"Prepares an entangled state of two qubits.\"\"\"\n",
        "    qc.h(q0)\n",
        "    qc.cx(q0, q1)\n",
        "\n",
        "\n",
        "def measure(qc, q):\n",
        "    \"\"\"Measures the state of a qubit.\"\"\"\n",
        "    qc.measure(q, 0)\n",
        "\n",
        "\n",
        "def nonlocality_experiment(qc, q0, q1, num_measurements):\n",
        "    \"\"\"Implements a nonlocality experiment with entangled states.\n",
        "\n",
        "    Performs measurements on entangled qubits and shows correlations in the measurement outcomes.\n",
        "    \"\"\"\n",
        "    entangled_state(qc, q0, q1)\n",
        "\n",
        "    # Perform measurements\n",
        "    for _ in range(num_measurements):\n",
        "        qc.measure(q0, 0)\n",
        "        qc.measure(q1, 1)\n",
        "\n",
        "    return qc\n",
        "\n",
        "\n",
        "num_measurements = 100\n",
        "q0 = QuantumRegister(1)\n",
        "q1 = QuantumRegister(1)\n",
        "qc = QuantumCircuit(q0, q1, ClassicalRegister(2))\n",
        "nonlocal_circuit = nonlocality_experiment(qc, q0, q1, num_measurements)\n",
        "\n",
        "nonlocal_circuit.draw()"
      ]
    },
    {
      "cell_type": "code",
      "execution_count": null,
      "metadata": {
        "colab": {
          "base_uri": "https://localhost:8080/",
          "height": 388
        },
        "id": "TAO7JmsYi0sY",
        "outputId": "fc43a656-8c7f-4e37-b2e8-3456cc77cd3a"
      },
      "outputs": [
        {
          "name": "stdout",
          "output_type": "stream",
          "text": [
            "Requirement already satisfied: qiskit in /usr/local/lib/python3.10/dist-packages (1.0.2)\n",
            "Requirement already satisfied: rustworkx>=0.14.0 in /usr/local/lib/python3.10/dist-packages (from qiskit) (0.14.2)\n",
            "Requirement already satisfied: numpy<2,>=1.17 in /usr/local/lib/python3.10/dist-packages (from qiskit) (1.25.2)\n",
            "Requirement already satisfied: scipy>=1.5 in /usr/local/lib/python3.10/dist-packages (from qiskit) (1.11.4)\n",
            "Requirement already satisfied: sympy>=1.3 in /usr/local/lib/python3.10/dist-packages (from qiskit) (1.12)\n",
            "Requirement already satisfied: dill>=0.3 in /usr/local/lib/python3.10/dist-packages (from qiskit) (0.3.8)\n",
            "Requirement already satisfied: python-dateutil>=2.8.0 in /usr/local/lib/python3.10/dist-packages (from qiskit) (2.8.2)\n",
            "Requirement already satisfied: stevedore>=3.0.0 in /usr/local/lib/python3.10/dist-packages (from qiskit) (5.2.0)\n",
            "Requirement already satisfied: typing-extensions in /usr/local/lib/python3.10/dist-packages (from qiskit) (4.11.0)\n",
            "Requirement already satisfied: symengine>=0.11 in /usr/local/lib/python3.10/dist-packages (from qiskit) (0.11.0)\n",
            "Requirement already satisfied: six>=1.5 in /usr/local/lib/python3.10/dist-packages (from python-dateutil>=2.8.0->qiskit) (1.16.0)\n",
            "Requirement already satisfied: pbr!=2.1.0,>=2.0.0 in /usr/local/lib/python3.10/dist-packages (from stevedore>=3.0.0->qiskit) (6.0.0)\n",
            "Requirement already satisfied: mpmath>=0.19 in /usr/local/lib/python3.10/dist-packages (from sympy>=1.3->qiskit) (1.3.0)\n",
            "Enter '0' to prepare |0> or '-' to prepare |->\n"
          ]
        },
        {
          "data": {
            "text/html": [
              "<pre style=\"word-wrap: normal;white-space: pre;background: #fff0;line-height: 1.1;font-family: &quot;Courier New&quot;,Courier,monospace\">                   ┌─┐\n",
              "   System: ─X───■──┤M├\n",
              "            │ ┌─┴─┐└╥┘\n",
              "      CTC: ─X─┤ H ├─╫─\n",
              "              └───┘ ║ \n",
              "Measure: 1/═════════╩═\n",
              "                    0 </pre>"
            ],
            "text/plain": [
              "                   ┌─┐\n",
              "   System: ─X───■──┤M├\n",
              "            │ ┌─┴─┐└╥┘\n",
              "      CTC: ─X─┤ H ├─╫─\n",
              "              └───┘ ║ \n",
              "Measure: 1/═════════╩═\n",
              "                    0 "
            ]
          },
          "execution_count": 5,
          "metadata": {},
          "output_type": "execute_result"
        }
      ],
      "source": [
        "!pip install qiskit\n",
        "from qiskit import QuantumCircuit, QuantumRegister, ClassicalRegister\n",
        "\n",
        "user_input = input(\"Enter '0' to prepare |0> or '-' to prepare |->\")\n",
        "\n",
        "sys = QuantumRegister(1, \"System\")\n",
        "ctc = QuantumRegister(1, \"CTC\")\n",
        "cr = ClassicalRegister(1, \"Measure\")\n",
        "\n",
        "qc = QuantumCircuit(sys, ctc, cr)\n",
        "\n",
        "if user_input == \"0\":\n",
        "    qc.h(sys)\n",
        "    qc.z(sys)\n",
        "    qc.barrier()\n",
        "    qc.x(ctc)\n",
        "    qc.barrier()\n",
        "\n",
        "qc.swap(sys, ctc)\n",
        "qc.ch(sys, ctc)\n",
        "qc.measure(sys, cr)\n",
        "\n",
        "qc.draw()"
      ]
    },
    {
      "cell_type": "code",
      "execution_count": null,
      "metadata": {
        "colab": {
          "base_uri": "https://localhost:8080/",
          "height": 710
        },
        "id": "PzxDAI9VjrSQ",
        "outputId": "7fb0abab-84d9-4e6d-8a63-8c64f8b5b999"
      },
      "outputs": [
        {
          "output_type": "stream",
          "name": "stdout",
          "text": [
            "Collecting qiskit\n",
            "  Downloading qiskit-1.0.2-cp38-abi3-manylinux_2_17_x86_64.manylinux2014_x86_64.whl (5.6 MB)\n",
            "\u001b[2K     \u001b[90m━━━━━━━━━━━━━━━━━━━━━━━━━━━━━━━━━━━━━━━━\u001b[0m \u001b[32m5.6/5.6 MB\u001b[0m \u001b[31m16.8 MB/s\u001b[0m eta \u001b[36m0:00:00\u001b[0m\n",
            "\u001b[?25hCollecting rustworkx>=0.14.0 (from qiskit)\n",
            "  Downloading rustworkx-0.14.2-cp310-cp310-manylinux_2_17_x86_64.manylinux2014_x86_64.whl (2.1 MB)\n",
            "\u001b[2K     \u001b[90m━━━━━━━━━━━━━━━━━━━━━━━━━━━━━━━━━━━━━━━━\u001b[0m \u001b[32m2.1/2.1 MB\u001b[0m \u001b[31m32.3 MB/s\u001b[0m eta \u001b[36m0:00:00\u001b[0m\n",
            "\u001b[?25hRequirement already satisfied: numpy<2,>=1.17 in /usr/local/lib/python3.10/dist-packages (from qiskit) (1.25.2)\n",
            "Requirement already satisfied: scipy>=1.5 in /usr/local/lib/python3.10/dist-packages (from qiskit) (1.11.4)\n",
            "Requirement already satisfied: sympy>=1.3 in /usr/local/lib/python3.10/dist-packages (from qiskit) (1.12)\n",
            "Collecting dill>=0.3 (from qiskit)\n",
            "  Downloading dill-0.3.8-py3-none-any.whl (116 kB)\n",
            "\u001b[2K     \u001b[90m━━━━━━━━━━━━━━━━━━━━━━━━━━━━━━━━━━━━━━━━\u001b[0m \u001b[32m116.3/116.3 kB\u001b[0m \u001b[31m14.1 MB/s\u001b[0m eta \u001b[36m0:00:00\u001b[0m\n",
            "\u001b[?25hRequirement already satisfied: python-dateutil>=2.8.0 in /usr/local/lib/python3.10/dist-packages (from qiskit) (2.8.2)\n",
            "Collecting stevedore>=3.0.0 (from qiskit)\n",
            "  Downloading stevedore-5.2.0-py3-none-any.whl (49 kB)\n",
            "\u001b[2K     \u001b[90m━━━━━━━━━━━━━━━━━━━━━━━━━━━━━━━━━━━━━━━━\u001b[0m \u001b[32m49.7/49.7 kB\u001b[0m \u001b[31m4.1 MB/s\u001b[0m eta \u001b[36m0:00:00\u001b[0m\n",
            "\u001b[?25hRequirement already satisfied: typing-extensions in /usr/local/lib/python3.10/dist-packages (from qiskit) (4.11.0)\n",
            "Collecting symengine>=0.11 (from qiskit)\n",
            "  Downloading symengine-0.11.0-cp310-cp310-manylinux_2_12_x86_64.manylinux2010_x86_64.whl (39.4 MB)\n",
            "\u001b[2K     \u001b[90m━━━━━━━━━━━━━━━━━━━━━━━━━━━━━━━━━━━━━━━━\u001b[0m \u001b[32m39.4/39.4 MB\u001b[0m \u001b[31m9.1 MB/s\u001b[0m eta \u001b[36m0:00:00\u001b[0m\n",
            "\u001b[?25hRequirement already satisfied: six>=1.5 in /usr/local/lib/python3.10/dist-packages (from python-dateutil>=2.8.0->qiskit) (1.16.0)\n",
            "Collecting pbr!=2.1.0,>=2.0.0 (from stevedore>=3.0.0->qiskit)\n",
            "  Downloading pbr-6.0.0-py2.py3-none-any.whl (107 kB)\n",
            "\u001b[2K     \u001b[90m━━━━━━━━━━━━━━━━━━━━━━━━━━━━━━━━━━━━━━━━\u001b[0m \u001b[32m107.5/107.5 kB\u001b[0m \u001b[31m7.1 MB/s\u001b[0m eta \u001b[36m0:00:00\u001b[0m\n",
            "\u001b[?25hRequirement already satisfied: mpmath>=0.19 in /usr/local/lib/python3.10/dist-packages (from sympy>=1.3->qiskit) (1.3.0)\n",
            "Installing collected packages: symengine, rustworkx, pbr, dill, stevedore, qiskit\n",
            "Successfully installed dill-0.3.8 pbr-6.0.0 qiskit-1.0.2 rustworkx-0.14.2 stevedore-5.2.0 symengine-0.11.0\n",
            "Enter '0', '1', '+', or '-' to prepare corresponding state on first qubit for fun: \n",
            "Please enter '0', '1', '+', or '-' when you're ready bro.\n"
          ]
        },
        {
          "output_type": "execute_result",
          "data": {
            "text/plain": [
              "                                                ┌─┐   \n",
              " System_0: ─X─────o────o─────■──────────■───────┤M├───\n",
              "            │     │    │     │          │       └╥┘┌─┐\n",
              " System_1: ─┼──X──o────■─────o──────────■────────╫─┤M├\n",
              "            │  │  │ ┌──┴──┐┌─┴──┐┌──────┴──────┐ ║ └╥┘\n",
              "    CTC_0: ─X──┼──X─┤0    ├┤ XH ├┤0            ├─╫──╫─\n",
              "               │  │ │  X2 │└────┘│  X1_H2_SWAP │ ║  ║ \n",
              "    CTC_1: ────X──X─┤1    ├──────┤1            ├─╫──╫─\n",
              "                    └─────┘      └─────────────┘ ║  ║ \n",
              "Measure: 2/══════════════════════════════════════╩══╩═\n",
              "                                                 0  1 "
            ],
            "text/html": [
              "<pre style=\"word-wrap: normal;white-space: pre;background: #fff0;line-height: 1.1;font-family: &quot;Courier New&quot;,Courier,monospace\">                                                ┌─┐   \n",
              " System_0: ─X─────o────o─────■──────────■───────┤M├───\n",
              "            │     │    │     │          │       └╥┘┌─┐\n",
              " System_1: ─┼──X──o────■─────o──────────■────────╫─┤M├\n",
              "            │  │  │ ┌──┴──┐┌─┴──┐┌──────┴──────┐ ║ └╥┘\n",
              "    CTC_0: ─X──┼──X─┤0    ├┤ XH ├┤0            ├─╫──╫─\n",
              "               │  │ │  X2 │└────┘│  X1_H2_SWAP │ ║  ║ \n",
              "    CTC_1: ────X──X─┤1    ├──────┤1            ├─╫──╫─\n",
              "                    └─────┘      └─────────────┘ ║  ║ \n",
              "Measure: 2/══════════════════════════════════════╩══╩═\n",
              "                                                 0  1 </pre>"
            ]
          },
          "metadata": {},
          "execution_count": 1
        }
      ],
      "source": [
        "!pip install qiskit\n",
        "from qiskit import QuantumCircuit, QuantumRegister, ClassicalRegister\n",
        "from qiskit.circuit.library import CSwapGate\n",
        "#Define custom gates\n",
        "ccswap = CSwapGate(ctrl_state=0).control(1, ctrl_state=0)\n",
        "#custom ccXX gate\n",
        "qc_X2 = QuantumCircuit(2)\n",
        "qc_X2.x(0)\n",
        "qc_X2.x(1)\n",
        "X2 = qc_X2.to_gate()\n",
        "X2.name = \"X2\"\n",
        "ccxx = X2.control(2, ctrl_state='10')\n",
        "#custom ccXH gate\n",
        "qc_xh = QuantumCircuit(1)\n",
        "qc_xh.h(0)\n",
        "qc_xh.x(0)\n",
        "XH = qc_xh.to_gate()\n",
        "XH.name = \"XH\"\n",
        "ccxh = XH.control(2, ctrl_state='01')\n",
        "#custom cc,SWAP, X1 H2 gate\n",
        "qc_4 = QuantumCircuit(2)\n",
        "qc_4.swap(0,1)\n",
        "qc_4.x(0)\n",
        "qc_4.h(1)\n",
        "X1_H2_SWAP = qc_4.to_gate()\n",
        "X1_H2_SWAP.name = \"X1_H2_SWAP\"\n",
        "xhs = X1_H2_SWAP.control(2, ctrl_state='11')\n",
        "\n",
        "user_input = input(\"Enter '0', '1', '+', or '-' to prepare corresponding state on first qubit for fun: \")\n",
        "sys, ctc, cr = QuantumRegister(2, \"System\"), QuantumRegister(2, \"CTC\"), ClassicalRegister(2, \"Measure\")\n",
        "qc = QuantumCircuit(sys, ctc, cr)\n",
        "\n",
        "if user_input == \"1\":\n",
        "    qc.x(sys[0]); qc.x(ctc[1])\n",
        "elif user_input == \"+\":\n",
        "    qc.h(sys[0]); qc.x(ctc[0])\n",
        "elif user_input == \"-\":\n",
        "    qc.x(sys[0]); qc.h(sys[0]); qc.x(ctc)\n",
        "elif user_input != \"0\":\n",
        "    print(\"Please enter '0', '1', '+', or '-' when you're ready bro.\")\n",
        "\n",
        "qc.swap(sys[0], ctc[0]); qc.swap(sys[1], ctc[1])\n",
        "qc.append(ccswap, [sys[0], sys[1], ctc[0], ctc[1]])\n",
        "qc.append(ccxx, [sys[0], sys[1], ctc[0], ctc[1]])\n",
        "qc.append(ccxh, [sys[0], sys[1], ctc[0]])\n",
        "qc.append(xhs, [sys[0], sys[1], ctc[0], ctc[1]])\n",
        "qc.measure(sys[0], cr[0]); qc.measure(sys[1], cr[1])\n",
        "\n",
        "qc.draw()"
      ]
    },
    {
      "cell_type": "code",
      "source": [
        "from qiskit import QuantumCircuit, QuantumRegister, ClassicalRegister\n",
        "from qiskit.visualization import plot_bloch_multivector\n",
        "\n",
        "# Define the number of qubits and the quantum circuit\n",
        "num_qubits = 3\n",
        "qc = QuantumCircuit(num_qubits)\n",
        "\n",
        "# Current Self prepares the state to be teleported\n",
        "psi = [0.5, -0.5]\n",
        "\n",
        "# Create an entangled pair of qubits between Current Self and Future Self\n",
        "qc.h(1)\n",
        "qc.cx(1, 2)\n",
        "\n",
        "# Current Self performs a Bell measurement on his qubits\n",
        "qc.cx(0, 1)\n",
        "qc.h(0)\n",
        "qc.measure_all()\n",
        "\n",
        "# Future Self receives the classical bits and applies corrections\n",
        "qc.cx(1, 2)\n",
        "qc.cz(0, 2)\n",
        "\n",
        "\n",
        "\n",
        "qc.draw()"
      ],
      "metadata": {
        "colab": {
          "base_uri": "https://localhost:8080/",
          "height": 176
        },
        "id": "zcTlvNp0Yo9m",
        "outputId": "949f5320-a907-43f3-ced9-33517c5b05fc"
      },
      "execution_count": null,
      "outputs": [
        {
          "output_type": "execute_result",
          "data": {
            "text/plain": [
              "                       ┌───┐ ░ ┌─┐              \n",
              "   q_0: ────────────■──┤ H ├─░─┤M├────────────■─\n",
              "        ┌───┐     ┌─┴─┐└───┘ ░ └╥┘┌─┐         │ \n",
              "   q_1: ┤ H ├──■──┤ X ├──────░──╫─┤M├─────■───┼─\n",
              "        └───┘┌─┴─┐└───┘      ░  ║ └╥┘┌─┐┌─┴─┐ │ \n",
              "   q_2: ─────┤ X ├───────────░──╫──╫─┤M├┤ X ├─■─\n",
              "             └───┘           ░  ║  ║ └╥┘└───┘   \n",
              "meas: 3/════════════════════════╩══╩══╩═════════\n",
              "                                0  1  2         "
            ],
            "text/html": [
              "<pre style=\"word-wrap: normal;white-space: pre;background: #fff0;line-height: 1.1;font-family: &quot;Courier New&quot;,Courier,monospace\">                       ┌───┐ ░ ┌─┐              \n",
              "   q_0: ────────────■──┤ H ├─░─┤M├────────────■─\n",
              "        ┌───┐     ┌─┴─┐└───┘ ░ └╥┘┌─┐         │ \n",
              "   q_1: ┤ H ├──■──┤ X ├──────░──╫─┤M├─────■───┼─\n",
              "        └───┘┌─┴─┐└───┘      ░  ║ └╥┘┌─┐┌─┴─┐ │ \n",
              "   q_2: ─────┤ X ├───────────░──╫──╫─┤M├┤ X ├─■─\n",
              "             └───┘           ░  ║  ║ └╥┘└───┘   \n",
              "meas: 3/════════════════════════╩══╩══╩═════════\n",
              "                                0  1  2         </pre>"
            ]
          },
          "metadata": {},
          "execution_count": 5
        }
      ]
    },
    {
      "cell_type": "code",
      "source": [
        "!pip install qiskit\n",
        "from qiskit import QuantumCircuit, QuantumRegister, ClassicalRegister\n",
        "\n",
        "# Define the quantum circuit\n",
        "qc = QuantumCircuit(3)\n",
        "\n",
        "# Step 1: Initialization\n",
        "qc.h(0)\n",
        "qc.cx(0, 1)\n",
        "qc.cx(0, 2)\n",
        "\n",
        "# Step 2: Quantum Operations\n",
        "qc.barrier()\n",
        "qc.rx(0.3, 0)\n",
        "qc.ry(0.5, 1)\n",
        "qc.rz(0.7, 2)\n",
        "\n",
        "# Step 3: Algorithm Execution (Grover's algorithm)\n",
        "qc.h(0)\n",
        "qc.h(1)\n",
        "qc.h(2)\n",
        "qc.barrier()\n",
        "qc.cz(0, 2)\n",
        "qc.cz(1, 2)\n",
        "qc.h(0)\n",
        "qc.h(1)\n",
        "qc.h(2)\n",
        "\n",
        "# Step 4: Measurement\n",
        "qc.measure_all()\n",
        "\n",
        "\n",
        "qc.draw()"
      ],
      "metadata": {
        "colab": {
          "base_uri": "https://localhost:8080/",
          "height": 644
        },
        "id": "Lkci_sOmpmaX",
        "outputId": "e52c8e02-84eb-4b48-f96e-a8697e4f0086"
      },
      "execution_count": null,
      "outputs": [
        {
          "output_type": "stream",
          "name": "stdout",
          "text": [
            "Collecting qiskit\n",
            "  Downloading qiskit-1.0.2-cp38-abi3-manylinux_2_17_x86_64.manylinux2014_x86_64.whl (5.6 MB)\n",
            "\u001b[2K     \u001b[90m━━━━━━━━━━━━━━━━━━━━━━━━━━━━━━━━━━━━━━━━\u001b[0m \u001b[32m5.6/5.6 MB\u001b[0m \u001b[31m9.2 MB/s\u001b[0m eta \u001b[36m0:00:00\u001b[0m\n",
            "\u001b[?25hCollecting rustworkx>=0.14.0 (from qiskit)\n",
            "  Downloading rustworkx-0.14.2-cp310-cp310-manylinux_2_17_x86_64.manylinux2014_x86_64.whl (2.1 MB)\n",
            "\u001b[2K     \u001b[90m━━━━━━━━━━━━━━━━━━━━━━━━━━━━━━━━━━━━━━━━\u001b[0m \u001b[32m2.1/2.1 MB\u001b[0m \u001b[31m46.9 MB/s\u001b[0m eta \u001b[36m0:00:00\u001b[0m\n",
            "\u001b[?25hRequirement already satisfied: numpy<2,>=1.17 in /usr/local/lib/python3.10/dist-packages (from qiskit) (1.25.2)\n",
            "Requirement already satisfied: scipy>=1.5 in /usr/local/lib/python3.10/dist-packages (from qiskit) (1.11.4)\n",
            "Requirement already satisfied: sympy>=1.3 in /usr/local/lib/python3.10/dist-packages (from qiskit) (1.12)\n",
            "Collecting dill>=0.3 (from qiskit)\n",
            "  Downloading dill-0.3.8-py3-none-any.whl (116 kB)\n",
            "\u001b[2K     \u001b[90m━━━━━━━━━━━━━━━━━━━━━━━━━━━━━━━━━━━━━━━━\u001b[0m \u001b[32m116.3/116.3 kB\u001b[0m \u001b[31m6.4 MB/s\u001b[0m eta \u001b[36m0:00:00\u001b[0m\n",
            "\u001b[?25hRequirement already satisfied: python-dateutil>=2.8.0 in /usr/local/lib/python3.10/dist-packages (from qiskit) (2.8.2)\n",
            "Collecting stevedore>=3.0.0 (from qiskit)\n",
            "  Downloading stevedore-5.2.0-py3-none-any.whl (49 kB)\n",
            "\u001b[2K     \u001b[90m━━━━━━━━━━━━━━━━━━━━━━━━━━━━━━━━━━━━━━━━\u001b[0m \u001b[32m49.7/49.7 kB\u001b[0m \u001b[31m3.9 MB/s\u001b[0m eta \u001b[36m0:00:00\u001b[0m\n",
            "\u001b[?25hRequirement already satisfied: typing-extensions in /usr/local/lib/python3.10/dist-packages (from qiskit) (4.11.0)\n",
            "Collecting symengine>=0.11 (from qiskit)\n",
            "  Downloading symengine-0.11.0-cp310-cp310-manylinux_2_12_x86_64.manylinux2010_x86_64.whl (39.4 MB)\n",
            "\u001b[2K     \u001b[90m━━━━━━━━━━━━━━━━━━━━━━━━━━━━━━━━━━━━━━━━\u001b[0m \u001b[32m39.4/39.4 MB\u001b[0m \u001b[31m9.5 MB/s\u001b[0m eta \u001b[36m0:00:00\u001b[0m\n",
            "\u001b[?25hRequirement already satisfied: six>=1.5 in /usr/local/lib/python3.10/dist-packages (from python-dateutil>=2.8.0->qiskit) (1.16.0)\n",
            "Collecting pbr!=2.1.0,>=2.0.0 (from stevedore>=3.0.0->qiskit)\n",
            "  Downloading pbr-6.0.0-py2.py3-none-any.whl (107 kB)\n",
            "\u001b[2K     \u001b[90m━━━━━━━━━━━━━━━━━━━━━━━━━━━━━━━━━━━━━━━━\u001b[0m \u001b[32m107.5/107.5 kB\u001b[0m \u001b[31m6.4 MB/s\u001b[0m eta \u001b[36m0:00:00\u001b[0m\n",
            "\u001b[?25hRequirement already satisfied: mpmath>=0.19 in /usr/local/lib/python3.10/dist-packages (from sympy>=1.3->qiskit) (1.3.0)\n",
            "Installing collected packages: symengine, rustworkx, pbr, dill, stevedore, qiskit\n",
            "Successfully installed dill-0.3.8 pbr-6.0.0 qiskit-1.0.2 rustworkx-0.14.2 stevedore-5.2.0 symengine-0.11.0\n"
          ]
        },
        {
          "output_type": "execute_result",
          "data": {
            "text/plain": [
              "        ┌───┐           ░ ┌─────────┐┌───┐ ░    ┌───┐      ░ ┌─┐      \n",
              "   q_0: ┤ H ├──■────■───░─┤ Rx(0.3) ├┤ H ├─░──■─┤ H ├──────░─┤M├──────\n",
              "        └───┘┌─┴─┐  │   ░ ├─────────┤├───┤ ░  │ └───┘┌───┐ ░ └╥┘┌─┐   \n",
              "   q_1: ─────┤ X ├──┼───░─┤ Ry(0.5) ├┤ H ├─░──┼───■──┤ H ├─░──╫─┤M├───\n",
              "             └───┘┌─┴─┐ ░ ├─────────┤├───┤ ░  │   │  ├───┤ ░  ║ └╥┘┌─┐\n",
              "   q_2: ──────────┤ X ├─░─┤ Rz(0.7) ├┤ H ├─░──■───■──┤ H ├─░──╫──╫─┤M├\n",
              "                  └───┘ ░ └─────────┘└───┘ ░         └───┘ ░  ║  ║ └╥┘\n",
              "meas: 3/══════════════════════════════════════════════════════╩══╩══╩═\n",
              "                                                              0  1  2 "
            ],
            "text/html": [
              "<pre style=\"word-wrap: normal;white-space: pre;background: #fff0;line-height: 1.1;font-family: &quot;Courier New&quot;,Courier,monospace\">        ┌───┐           ░ ┌─────────┐┌───┐ ░    ┌───┐      ░ ┌─┐      \n",
              "   q_0: ┤ H ├──■────■───░─┤ Rx(0.3) ├┤ H ├─░──■─┤ H ├──────░─┤M├──────\n",
              "        └───┘┌─┴─┐  │   ░ ├─────────┤├───┤ ░  │ └───┘┌───┐ ░ └╥┘┌─┐   \n",
              "   q_1: ─────┤ X ├──┼───░─┤ Ry(0.5) ├┤ H ├─░──┼───■──┤ H ├─░──╫─┤M├───\n",
              "             └───┘┌─┴─┐ ░ ├─────────┤├───┤ ░  │   │  ├───┤ ░  ║ └╥┘┌─┐\n",
              "   q_2: ──────────┤ X ├─░─┤ Rz(0.7) ├┤ H ├─░──■───■──┤ H ├─░──╫──╫─┤M├\n",
              "                  └───┘ ░ └─────────┘└───┘ ░         └───┘ ░  ║  ║ └╥┘\n",
              "meas: 3/══════════════════════════════════════════════════════╩══╩══╩═\n",
              "                                                              0  1  2 </pre>"
            ]
          },
          "metadata": {},
          "execution_count": 1
        }
      ]
    },
    {
      "cell_type": "code",
      "source": [
        "!pip install groq\n",
        "from groq import Groq\n",
        "\n",
        "client = Groq(api_key=\"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\")\n",
        "completion = client.chat.completions.create(\n",
        "    model=\"llama3-70b-8192\",\n",
        "    messages=[\n",
        "        {\n",
        "            \"role\": \"user\",\n",
        "            \"content\": \"write a funny story about man who mistook his wife for a hat\"\n",
        "        }\n",
        "    ],\n",
        "    temperature=1.37,\n",
        "    max_tokens=8192,\n",
        "    top_p=1,\n",
        "    stream=True,\n",
        "    stop=None,\n",
        ")\n",
        "\n",
        "for chunk in completion:\n",
        "    print(chunk.choices[0].delta.content or \"\", end=\"\")"
      ],
      "metadata": {
        "colab": {
          "base_uri": "https://localhost:8080/"
        },
        "id": "SzioDgXf0bik",
        "outputId": "757257ba-e748-457f-cd98-46127fffe391"
      },
      "execution_count": null,
      "outputs": [
        {
          "output_type": "stream",
          "name": "stdout",
          "text": [
            "Collecting groq\n",
            "  Downloading groq-0.5.0-py3-none-any.whl (75 kB)\n",
            "\u001b[2K     \u001b[90m━━━━━━━━━━━━━━━━━━━━━━━━━━━━━━━━━━━━━━━━\u001b[0m \u001b[32m75.0/75.0 kB\u001b[0m \u001b[31m1.2 MB/s\u001b[0m eta \u001b[36m0:00:00\u001b[0m\n",
            "\u001b[?25hRequirement already satisfied: anyio<5,>=3.5.0 in /usr/local/lib/python3.10/dist-packages (from groq) (3.7.1)\n",
            "Requirement already satisfied: distro<2,>=1.7.0 in /usr/lib/python3/dist-packages (from groq) (1.7.0)\n",
            "Requirement already satisfied: httpx<1,>=0.23.0 in /usr/local/lib/python3.10/dist-packages (from groq) (0.27.0)\n",
            "Requirement already satisfied: pydantic<3,>=1.9.0 in /usr/local/lib/python3.10/dist-packages (from groq) (2.7.1)\n",
            "Requirement already satisfied: sniffio in /usr/local/lib/python3.10/dist-packages (from groq) (1.3.1)\n",
            "Requirement already satisfied: typing-extensions<5,>=4.7 in /usr/local/lib/python3.10/dist-packages (from groq) (4.11.0)\n",
            "Requirement already satisfied: idna>=2.8 in /usr/local/lib/python3.10/dist-packages (from anyio<5,>=3.5.0->groq) (3.7)\n",
            "Requirement already satisfied: exceptiongroup in /usr/local/lib/python3.10/dist-packages (from anyio<5,>=3.5.0->groq) (1.2.1)\n",
            "Requirement already satisfied: certifi in /usr/local/lib/python3.10/dist-packages (from httpx<1,>=0.23.0->groq) (2024.2.2)\n",
            "Requirement already satisfied: httpcore==1.* in /usr/local/lib/python3.10/dist-packages (from httpx<1,>=0.23.0->groq) (1.0.5)\n",
            "Requirement already satisfied: h11<0.15,>=0.13 in /usr/local/lib/python3.10/dist-packages (from httpcore==1.*->httpx<1,>=0.23.0->groq) (0.14.0)\n",
            "Requirement already satisfied: annotated-types>=0.4.0 in /usr/local/lib/python3.10/dist-packages (from pydantic<3,>=1.9.0->groq) (0.6.0)\n",
            "Requirement already satisfied: pydantic-core==2.18.2 in /usr/local/lib/python3.10/dist-packages (from pydantic<3,>=1.9.0->groq) (2.18.2)\n",
            "Installing collected packages: groq\n",
            "Successfully installed groq-0.5.0\n",
            "Here's a silly story for you:\n",
            "\n",
            "**The Great Hat Confusion**\n",
            "\n",
            "Reginald Pennyfeather was having a bit of an off day. He stumbled out of bed, bleary-eyed, after a late-night Netflix binge-fest. As he shuffled into the kitchen to start his morning coffee ritual, he spotted what he thought was a rather fetching fedora sitting on the couch.\n",
            "\n",
            "In his coffee-deprived haze, Reg did what any reasonable person would do in this situation: he reached out to grab what he thought was the hat, intending to try it on.\n",
            "\n",
            "Unfortunately, the \"hat\" in question was, in fact, his wife, Maude, who was dozing on the couch, recovering from their own late-night Netflix session.\n",
            "\n",
            "Reg's grasp closed around Maude's unsuspecting head, and he gave a hearty, \"Ah, lovely brim you have today, old hat!\"\n",
            "\n",
            "Maude, understandably, was taken aback by this sudden affront. She sat up with a start, rubbing her face to dispel the sleep. \"What in the world, Reginald?! You're... you're grasping my head!\"\n",
            "\n",
            "Reg, still in his coffee-less fog, looked puzzled. \"What do you mean? I'm just trying on this delightful fedora. Hmm, rather snug, too.\"\n",
            "\n",
            "Maude stood up, towering over her bewildered husband. \"Reg, I think you need to lay off the late-night TV. I am not a hat, my dear.\"\n",
            "\n",
            "The penny finally dropped (or was it the coffee beans?). Reg's eyes widened, his face flushed, and he looked down at his hands, still grasping his wife's head. \"Oh... OH NO. I've made a considerable mistake, haven't I?\"\n",
            "\n",
            "The newly awakened neighbors, meanwhile, were treated to the joyful spectacle of Reg, stumbling around the living room, tripping over his own feet, while shouting, \"NOT A HAT! NOT A HAT!\" against the backdrop of Maude's exasperated sighs and laughter.\n",
            "\n",
            "From that day forward, Reg ensuring his morning coffee ritual was swift and thorough, while Maude made sure to reserve a few choice words for his \"Hat-Gate\" fiasco whenever he got too comfortable."
          ]
        }
      ]
    },
    {
      "cell_type": "code",
      "source": [
        "!pip -q install crewai langchain-groq duckduckgo-search crewai[tools]"
      ],
      "metadata": {
        "colab": {
          "base_uri": "https://localhost:8080/"
        },
        "id": "W7UAQbQZaiy1",
        "outputId": "423a03fb-0257-4742-95c5-4e6d4df05bd4"
      },
      "execution_count": null,
      "outputs": [
        {
          "output_type": "stream",
          "name": "stdout",
          "text": [
            "\u001b[2K     \u001b[90m━━━━━━━━━━━━━━━━━━━━━━━━━━━━━━━━━━━━━━━━\u001b[0m \u001b[32m66.1/66.1 kB\u001b[0m \u001b[31m2.1 MB/s\u001b[0m eta \u001b[36m0:00:00\u001b[0m\n",
            "\u001b[2K     \u001b[90m━━━━━━━━━━━━━━━━━━━━━━━━━━━━━━━━━━━━━━━━\u001b[0m \u001b[32m194.4/194.4 kB\u001b[0m \u001b[31m8.6 MB/s\u001b[0m eta \u001b[36m0:00:00\u001b[0m\n",
            "\u001b[2K     \u001b[90m━━━━━━━━━━━━━━━━━━━━━━━━━━━━━━━━━━━━━━━━\u001b[0m \u001b[32m1.0/1.0 MB\u001b[0m \u001b[31m32.7 MB/s\u001b[0m eta \u001b[36m0:00:00\u001b[0m\n",
            "\u001b[2K     \u001b[90m━━━━━━━━━━━━━━━━━━━━━━━━━━━━━━━━━━━━━━━━\u001b[0m \u001b[32m320.6/320.6 kB\u001b[0m \u001b[31m26.6 MB/s\u001b[0m eta \u001b[36m0:00:00\u001b[0m\n",
            "\u001b[2K     \u001b[90m━━━━━━━━━━━━━━━━━━━━━━━━━━━━━━━━━━━━━━━━\u001b[0m \u001b[32m60.1/60.1 kB\u001b[0m \u001b[31m5.6 MB/s\u001b[0m eta \u001b[36m0:00:00\u001b[0m\n",
            "\u001b[2K     \u001b[90m━━━━━━━━━━━━━━━━━━━━━━━━━━━━━━━━━━━━━━━━\u001b[0m \u001b[32m106.1/106.1 kB\u001b[0m \u001b[31m9.6 MB/s\u001b[0m eta \u001b[36m0:00:00\u001b[0m\n",
            "\u001b[2K     \u001b[90m━━━━━━━━━━━━━━━━━━━━━━━━━━━━━━━━━━━━━━━━\u001b[0m \u001b[32m84.9/84.9 kB\u001b[0m \u001b[31m8.0 MB/s\u001b[0m eta \u001b[36m0:00:00\u001b[0m\n",
            "\u001b[2K     \u001b[90m━━━━━━━━━━━━━━━━━━━━━━━━━━━━━━━━━━━━━━━━\u001b[0m \u001b[32m307.9/307.9 kB\u001b[0m \u001b[31m20.1 MB/s\u001b[0m eta \u001b[36m0:00:00\u001b[0m\n",
            "\u001b[2K     \u001b[90m━━━━━━━━━━━━━━━━━━━━━━━━━━━━━━━━━━━━━━━━\u001b[0m \u001b[32m2.7/2.7 MB\u001b[0m \u001b[31m69.5 MB/s\u001b[0m eta \u001b[36m0:00:00\u001b[0m\n",
            "\u001b[2K     \u001b[90m━━━━━━━━━━━━━━━━━━━━━━━━━━━━━━━━━━━━━━━━\u001b[0m \u001b[32m142.5/142.5 kB\u001b[0m \u001b[31m12.8 MB/s\u001b[0m eta \u001b[36m0:00:00\u001b[0m\n",
            "\u001b[2K     \u001b[90m━━━━━━━━━━━━━━━━━━━━━━━━━━━━━━━━━━━━━━━━\u001b[0m \u001b[32m51.8/51.8 kB\u001b[0m \u001b[31m5.3 MB/s\u001b[0m eta \u001b[36m0:00:00\u001b[0m\n",
            "\u001b[2K     \u001b[90m━━━━━━━━━━━━━━━━━━━━━━━━━━━━━━━━━━━━━━━━\u001b[0m \u001b[32m525.5/525.5 kB\u001b[0m \u001b[31m34.8 MB/s\u001b[0m eta \u001b[36m0:00:00\u001b[0m\n",
            "\u001b[?25h  Preparing metadata (setup.py) ... \u001b[?25l\u001b[?25hdone\n",
            "\u001b[2K     \u001b[90m━━━━━━━━━━━━━━━━━━━━━━━━━━━━━━━━━━━━━━━━\u001b[0m \u001b[32m115.1/115.1 kB\u001b[0m \u001b[31m11.0 MB/s\u001b[0m eta \u001b[36m0:00:00\u001b[0m\n",
            "\u001b[2K     \u001b[90m━━━━━━━━━━━━━━━━━━━━━━━━━━━━━━━━━━━━━━━━\u001b[0m \u001b[32m339.6/339.6 kB\u001b[0m \u001b[31m28.0 MB/s\u001b[0m eta \u001b[36m0:00:00\u001b[0m\n",
            "\u001b[2K     \u001b[90m━━━━━━━━━━━━━━━━━━━━━━━━━━━━━━━━━━━━━━━━\u001b[0m \u001b[32m57.6/57.6 kB\u001b[0m \u001b[31m5.7 MB/s\u001b[0m eta \u001b[36m0:00:00\u001b[0m\n",
            "\u001b[2K     \u001b[90m━━━━━━━━━━━━━━━━━━━━━━━━━━━━━━━━━━━━━━━━\u001b[0m \u001b[32m9.5/9.5 MB\u001b[0m \u001b[31m51.2 MB/s\u001b[0m eta \u001b[36m0:00:00\u001b[0m\n",
            "\u001b[2K     \u001b[90m━━━━━━━━━━━━━━━━━━━━━━━━━━━━━━━━━━━━━━━━\u001b[0m \u001b[32m233.4/233.4 kB\u001b[0m \u001b[31m21.2 MB/s\u001b[0m eta \u001b[36m0:00:00\u001b[0m\n",
            "\u001b[2K     \u001b[90m━━━━━━━━━━━━━━━━━━━━━━━━━━━━━━━━━━━━━━━━\u001b[0m \u001b[32m192.7/192.7 kB\u001b[0m \u001b[31m16.9 MB/s\u001b[0m eta \u001b[36m0:00:00\u001b[0m\n",
            "\u001b[2K     \u001b[90m━━━━━━━━━━━━━━━━━━━━━━━━━━━━━━━━━━━━━━━━\u001b[0m \u001b[32m131.5/131.5 kB\u001b[0m \u001b[31m10.4 MB/s\u001b[0m eta \u001b[36m0:00:00\u001b[0m\n",
            "\u001b[2K     \u001b[90m━━━━━━━━━━━━━━━━━━━━━━━━━━━━━━━━━━━━━━━━\u001b[0m \u001b[32m41.3/41.3 kB\u001b[0m \u001b[31m3.7 MB/s\u001b[0m eta \u001b[36m0:00:00\u001b[0m\n",
            "\u001b[2K     \u001b[90m━━━━━━━━━━━━━━━━━━━━━━━━━━━━━━━━━━━━━━━━\u001b[0m \u001b[32m278.2/278.2 kB\u001b[0m \u001b[31m25.7 MB/s\u001b[0m eta \u001b[36m0:00:00\u001b[0m\n",
            "\u001b[2K     \u001b[90m━━━━━━━━━━━━━━━━━━━━━━━━━━━━━━━━━━━━━━━━\u001b[0m \u001b[32m71.1/71.1 kB\u001b[0m \u001b[31m7.5 MB/s\u001b[0m eta \u001b[36m0:00:00\u001b[0m\n",
            "\u001b[2K     \u001b[90m━━━━━━━━━━━━━━━━━━━━━━━━━━━━━━━━━━━━━━━━\u001b[0m \u001b[32m2.0/2.0 MB\u001b[0m \u001b[31m69.5 MB/s\u001b[0m eta \u001b[36m0:00:00\u001b[0m\n",
            "\u001b[2K     \u001b[90m━━━━━━━━━━━━━━━━━━━━━━━━━━━━━━━━━━━━━━━━\u001b[0m \u001b[32m75.6/75.6 kB\u001b[0m \u001b[31m6.8 MB/s\u001b[0m eta \u001b[36m0:00:00\u001b[0m\n",
            "\u001b[2K     \u001b[90m━━━━━━━━━━━━━━━━━━━━━━━━━━━━━━━━━━━━━━━━\u001b[0m \u001b[32m2.0/2.0 MB\u001b[0m \u001b[31m71.5 MB/s\u001b[0m eta \u001b[36m0:00:00\u001b[0m\n",
            "\u001b[2K     \u001b[90m━━━━━━━━━━━━━━━━━━━━━━━━━━━━━━━━━━━━━━━━\u001b[0m \u001b[32m302.9/302.9 kB\u001b[0m \u001b[31m27.2 MB/s\u001b[0m eta \u001b[36m0:00:00\u001b[0m\n",
            "\u001b[2K     \u001b[90m━━━━━━━━━━━━━━━━━━━━━━━━━━━━━━━━━━━━━━━━\u001b[0m \u001b[32m121.4/121.4 kB\u001b[0m \u001b[31m10.7 MB/s\u001b[0m eta \u001b[36m0:00:00\u001b[0m\n",
            "\u001b[2K     \u001b[90m━━━━━━━━━━━━━━━━━━━━━━━━━━━━━━━━━━━━━━━━\u001b[0m \u001b[32m53.0/53.0 kB\u001b[0m \u001b[31m4.5 MB/s\u001b[0m eta \u001b[36m0:00:00\u001b[0m\n",
            "\u001b[2K     \u001b[90m━━━━━━━━━━━━━━━━━━━━━━━━━━━━━━━━━━━━━━━━\u001b[0m \u001b[32m50.8/50.8 kB\u001b[0m \u001b[31m5.5 MB/s\u001b[0m eta \u001b[36m0:00:00\u001b[0m\n",
            "\u001b[2K     \u001b[90m━━━━━━━━━━━━━━━━━━━━━━━━━━━━━━━━━━━━━━━━\u001b[0m \u001b[32m78.6/78.6 kB\u001b[0m \u001b[31m8.0 MB/s\u001b[0m eta \u001b[36m0:00:00\u001b[0m\n",
            "\u001b[2K     \u001b[90m━━━━━━━━━━━━━━━━━━━━━━━━━━━━━━━━━━━━━━━━\u001b[0m \u001b[32m2.4/2.4 MB\u001b[0m \u001b[31m61.0 MB/s\u001b[0m eta \u001b[36m0:00:00\u001b[0m\n",
            "\u001b[2K     \u001b[90m━━━━━━━━━━━━━━━━━━━━━━━━━━━━━━━━━━━━━━━━\u001b[0m \u001b[32m92.0/92.0 kB\u001b[0m \u001b[31m9.6 MB/s\u001b[0m eta \u001b[36m0:00:00\u001b[0m\n",
            "\u001b[2K     \u001b[90m━━━━━━━━━━━━━━━━━━━━━━━━━━━━━━━━━━━━━━━━\u001b[0m \u001b[32m60.8/60.8 kB\u001b[0m \u001b[31m6.2 MB/s\u001b[0m eta \u001b[36m0:00:00\u001b[0m\n",
            "\u001b[2K     \u001b[90m━━━━━━━━━━━━━━━━━━━━━━━━━━━━━━━━━━━━━━━━\u001b[0m \u001b[32m5.4/5.4 MB\u001b[0m \u001b[31m60.3 MB/s\u001b[0m eta \u001b[36m0:00:00\u001b[0m\n",
            "\u001b[2K     \u001b[90m━━━━━━━━━━━━━━━━━━━━━━━━━━━━━━━━━━━━━━━━\u001b[0m \u001b[32m6.8/6.8 MB\u001b[0m \u001b[31m54.1 MB/s\u001b[0m eta \u001b[36m0:00:00\u001b[0m\n",
            "\u001b[2K     \u001b[90m━━━━━━━━━━━━━━━━━━━━━━━━━━━━━━━━━━━━━━━━\u001b[0m \u001b[32m67.3/67.3 kB\u001b[0m \u001b[31m5.9 MB/s\u001b[0m eta \u001b[36m0:00:00\u001b[0m\n",
            "\u001b[?25h  Installing build dependencies ... \u001b[?25l\u001b[?25hdone\n",
            "  Getting requirements to build wheel ... \u001b[?25l\u001b[?25hdone\n",
            "  Preparing metadata (pyproject.toml) ... \u001b[?25l\u001b[?25hdone\n",
            "\u001b[2K     \u001b[90m━━━━━━━━━━━━━━━━━━━━━━━━━━━━━━━━━━━━━━━━\u001b[0m \u001b[32m283.7/283.7 kB\u001b[0m \u001b[31m26.9 MB/s\u001b[0m eta \u001b[36m0:00:00\u001b[0m\n",
            "\u001b[2K     \u001b[90m━━━━━━━━━━━━━━━━━━━━━━━━━━━━━━━━━━━━━━━━\u001b[0m \u001b[32m1.6/1.6 MB\u001b[0m \u001b[31m63.2 MB/s\u001b[0m eta \u001b[36m0:00:00\u001b[0m\n",
            "\u001b[2K     \u001b[90m━━━━━━━━━━━━━━━━━━━━━━━━━━━━━━━━━━━━━━━━\u001b[0m \u001b[32m67.6/67.6 kB\u001b[0m \u001b[31m7.4 MB/s\u001b[0m eta \u001b[36m0:00:00\u001b[0m\n",
            "\u001b[2K     \u001b[90m━━━━━━━━━━━━━━━━━━━━━━━━━━━━━━━━━━━━━━━━\u001b[0m \u001b[32m49.3/49.3 kB\u001b[0m \u001b[31m5.3 MB/s\u001b[0m eta \u001b[36m0:00:00\u001b[0m\n",
            "\u001b[2K     \u001b[90m━━━━━━━━━━━━━━━━━━━━━━━━━━━━━━━━━━━━━━━━\u001b[0m \u001b[32m342.2/342.2 kB\u001b[0m \u001b[31m27.2 MB/s\u001b[0m eta \u001b[36m0:00:00\u001b[0m\n",
            "\u001b[2K     \u001b[90m━━━━━━━━━━━━━━━━━━━━━━━━━━━━━━━━━━━━━━━━\u001b[0m \u001b[32m207.3/207.3 kB\u001b[0m \u001b[31m20.8 MB/s\u001b[0m eta \u001b[36m0:00:00\u001b[0m\n",
            "\u001b[2K     \u001b[90m━━━━━━━━━━━━━━━━━━━━━━━━━━━━━━━━━━━━━━━━\u001b[0m \u001b[32m3.0/3.0 MB\u001b[0m \u001b[31m76.6 MB/s\u001b[0m eta \u001b[36m0:00:00\u001b[0m\n",
            "\u001b[2K     \u001b[90m━━━━━━━━━━━━━━━━━━━━━━━━━━━━━━━━━━━━━━━━\u001b[0m \u001b[32m77.9/77.9 kB\u001b[0m \u001b[31m7.2 MB/s\u001b[0m eta \u001b[36m0:00:00\u001b[0m\n",
            "\u001b[2K     \u001b[90m━━━━━━━━━━━━━━━━━━━━━━━━━━━━━━━━━━━━━━━━\u001b[0m \u001b[32m58.3/58.3 kB\u001b[0m \u001b[31m6.0 MB/s\u001b[0m eta \u001b[36m0:00:00\u001b[0m\n",
            "\u001b[2K     \u001b[90m━━━━━━━━━━━━━━━━━━━━━━━━━━━━━━━━━━━━━━━━\u001b[0m \u001b[32m21.6/21.6 MB\u001b[0m \u001b[31m50.8 MB/s\u001b[0m eta \u001b[36m0:00:00\u001b[0m\n",
            "\u001b[2K     \u001b[90m━━━━━━━━━━━━━━━━━━━━━━━━━━━━━━━━━━━━━━━━\u001b[0m \u001b[32m467.7/467.7 kB\u001b[0m \u001b[31m36.1 MB/s\u001b[0m eta \u001b[36m0:00:00\u001b[0m\n",
            "\u001b[2K     \u001b[90m━━━━━━━━━━━━━━━━━━━━━━━━━━━━━━━━━━━━━━━━\u001b[0m \u001b[32m71.9/71.9 kB\u001b[0m \u001b[31m7.6 MB/s\u001b[0m eta \u001b[36m0:00:00\u001b[0m\n",
            "\u001b[2K     \u001b[90m━━━━━━━━━━━━━━━━━━━━━━━━━━━━━━━━━━━━━━━━\u001b[0m \u001b[32m53.6/53.6 kB\u001b[0m \u001b[31m4.6 MB/s\u001b[0m eta \u001b[36m0:00:00\u001b[0m\n",
            "\u001b[2K     \u001b[90m━━━━━━━━━━━━━━━━━━━━━━━━━━━━━━━━━━━━━━━━\u001b[0m \u001b[32m62.7/62.7 kB\u001b[0m \u001b[31m6.6 MB/s\u001b[0m eta \u001b[36m0:00:00\u001b[0m\n",
            "\u001b[2K     \u001b[90m━━━━━━━━━━━━━━━━━━━━━━━━━━━━━━━━━━━━━━━━\u001b[0m \u001b[32m46.0/46.0 kB\u001b[0m \u001b[31m5.0 MB/s\u001b[0m eta \u001b[36m0:00:00\u001b[0m\n",
            "\u001b[2K     \u001b[90m━━━━━━━━━━━━━━━━━━━━━━━━━━━━━━━━━━━━━━━━\u001b[0m \u001b[32m856.7/856.7 kB\u001b[0m \u001b[31m33.8 MB/s\u001b[0m eta \u001b[36m0:00:00\u001b[0m\n",
            "\u001b[2K     \u001b[90m━━━━━━━━━━━━━━━━━━━━━━━━━━━━━━━━━━━━━━━━\u001b[0m \u001b[32m98.7/98.7 kB\u001b[0m \u001b[31m9.0 MB/s\u001b[0m eta \u001b[36m0:00:00\u001b[0m\n",
            "\u001b[2K     \u001b[90m━━━━━━━━━━━━━━━━━━━━━━━━━━━━━━━━━━━━━━━━\u001b[0m \u001b[32m341.4/341.4 kB\u001b[0m \u001b[31m29.0 MB/s\u001b[0m eta \u001b[36m0:00:00\u001b[0m\n",
            "\u001b[2K     \u001b[90m━━━━━━━━━━━━━━━━━━━━━━━━━━━━━━━━━━━━━━━━\u001b[0m \u001b[32m3.4/3.4 MB\u001b[0m \u001b[31m77.2 MB/s\u001b[0m eta \u001b[36m0:00:00\u001b[0m\n",
            "\u001b[2K     \u001b[90m━━━━━━━━━━━━━━━━━━━━━━━━━━━━━━━━━━━━━━━━\u001b[0m \u001b[32m1.3/1.3 MB\u001b[0m \u001b[31m63.9 MB/s\u001b[0m eta \u001b[36m0:00:00\u001b[0m\n",
            "\u001b[2K     \u001b[90m━━━━━━━━━━━━━━━━━━━━━━━━━━━━━━━━━━━━━━━━\u001b[0m \u001b[32m130.2/130.2 kB\u001b[0m \u001b[31m14.8 MB/s\u001b[0m eta \u001b[36m0:00:00\u001b[0m\n",
            "\u001b[2K     \u001b[90m━━━━━━━━━━━━━━━━━━━━━━━━━━━━━━━━━━━━━━━━\u001b[0m \u001b[32m194.4/194.4 kB\u001b[0m \u001b[31m18.0 MB/s\u001b[0m eta \u001b[36m0:00:00\u001b[0m\n",
            "\u001b[2K     \u001b[90m━━━━━━━━━━━━━━━━━━━━━━━━━━━━━━━━━━━━━━━━\u001b[0m \u001b[32m2.1/2.1 MB\u001b[0m \u001b[31m76.0 MB/s\u001b[0m eta \u001b[36m0:00:00\u001b[0m\n",
            "\u001b[2K     \u001b[90m━━━━━━━━━━━━━━━━━━━━━━━━━━━━━━━━━━━━━━━━\u001b[0m \u001b[32m3.0/3.0 MB\u001b[0m \u001b[31m74.9 MB/s\u001b[0m eta \u001b[36m0:00:00\u001b[0m\n",
            "\u001b[2K     \u001b[90m━━━━━━━━━━━━━━━━━━━━━━━━━━━━━━━━━━━━━━━━\u001b[0m \u001b[32m307.7/307.7 kB\u001b[0m \u001b[31m28.6 MB/s\u001b[0m eta \u001b[36m0:00:00\u001b[0m\n",
            "\u001b[2K     \u001b[90m━━━━━━━━━━━━━━━━━━━━━━━━━━━━━━━━━━━━━━━━\u001b[0m \u001b[32m91.8/91.8 kB\u001b[0m \u001b[31m9.0 MB/s\u001b[0m eta \u001b[36m0:00:00\u001b[0m\n",
            "\u001b[2K     \u001b[90m━━━━━━━━━━━━━━━━━━━━━━━━━━━━━━━━━━━━━━━━\u001b[0m \u001b[32m86.8/86.8 kB\u001b[0m \u001b[31m8.4 MB/s\u001b[0m eta \u001b[36m0:00:00\u001b[0m\n",
            "\u001b[?25h  Building wheel for docx2txt (setup.py) ... \u001b[?25l\u001b[?25hdone\n",
            "  Building wheel for pypika (pyproject.toml) ... \u001b[?25l\u001b[?25hdone\n"
          ]
        }
      ]
    },
    {
      "cell_type": "code",
      "source": [
        "import os\n",
        "from google.colab import userdata\n",
        "\n",
        "os.environ[\"GROQ_API_KEY\"] = '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'"
      ],
      "metadata": {
        "id": "IlGNJY_-ayNz"
      },
      "execution_count": null,
      "outputs": []
    },
    {
      "cell_type": "code",
      "source": [
        "import json  # Import the JSON module to parse JSON strings\n",
        "from langchain_core.agents import AgentFinish\n",
        "\n",
        "agent_finishes  = []\n",
        "\n",
        "import json\n",
        "from typing import Union, List, Tuple, Dict\n",
        "from langchain.schema import AgentFinish\n",
        "\n",
        "# call_number = 0\n",
        "\n",
        "# def print_agent_output(agent_output: Union[str, List[Tuple[Dict, str]], AgentFinish], agent_name: str = 'Generic call'):\n",
        "#     global call_number  # Declare call_number as a global variable\n",
        "#     call_number += 1\n",
        "#     with open(\"crew_callback_logs.txt\", \"a\") as log_file:\n",
        "#         # Try to parse the output if it is a JSON string\n",
        "#         if isinstance(agent_output, str):\n",
        "#             try:\n",
        "#                 agent_output = json.loads(agent_output)  # Attempt to parse the JSON string\n",
        "#             except json.JSONDecodeError:\n",
        "#                 pass  # If there's an error, leave agent_output as is\n",
        "\n",
        "#         # Check if the output is a list of tuples as in the first case\n",
        "#         if isinstance(agent_output, list) and all(isinstance(item, tuple) for item in agent_output):\n",
        "#             print(f\"-{call_number}----Dict------------------------------------------\", file=log_file)\n",
        "#             for action, description in agent_output:\n",
        "#                 # Print attributes based on assumed structure\n",
        "#                 print(f\"Agent Name: {agent_name}\", file=log_file)\n",
        "#                 print(f\"Tool used: {getattr(action, 'tool', 'Unknown')}\", file=log_file)\n",
        "#                 print(f\"Tool input: {getattr(action, 'tool_input', 'Unknown')}\", file=log_file)\n",
        "#                 print(f\"Action log: {getattr(action, 'log', 'Unknown')}\", file=log_file)\n",
        "#                 print(f\"Description: {description}\", file=log_file)\n",
        "#                 print(\"--------------------------------------------------\", file=log_file)\n",
        "\n",
        "#         # Check if the output is a dictionary as in the second case\n",
        "#         elif isinstance(agent_output, AgentFinish):\n",
        "#             print(f\"-{call_number}----AgentFinish---------------------------------------\", file=log_file)\n",
        "#             print(f\"Agent Name: {agent_name}\", file=log_file)\n",
        "#             agent_finishes.append(agent_output)\n",
        "#             # Extracting 'output' and 'log' from the nested 'return_values' if they exist\n",
        "#             output = agent_output.return_values\n",
        "#             # log = agent_output.get('log', 'No log available')\n",
        "#             print(f\"AgentFinish Output: {output['output']}\", file=log_file)\n",
        "#             # print(f\"Log: {log}\", file=log_file)\n",
        "#             # print(f\"AgentFinish: {agent_output}\", file=log_file)\n",
        "#             print(\"--------------------------------------------------\", file=log_file)\n",
        "\n",
        "#         # Handle unexpected formats\n",
        "#         else:\n",
        "#             # If the format is unknown, print out the input directly\n",
        "#             print(f\"-{call_number}-Unknown format of agent_output:\", file=log_file)\n",
        "#             print(type(agent_output), file=log_file)\n",
        "#             print(agent_output, file=log_file)"
      ],
      "metadata": {
        "id": "3AQiCPpab4ke"
      },
      "execution_count": null,
      "outputs": []
    },
    {
      "cell_type": "code",
      "source": [
        "from crewai import Crew, Agent, Task, Process\n",
        "from langchain_community.tools import DuckDuckGoSearchRun\n",
        "\n",
        "from datetime import datetime\n",
        "from random import randint\n",
        "from langchain.tools import tool\n",
        "\n",
        "\n",
        "import json\n",
        "import os\n",
        "\n",
        "import requests\n",
        "from langchain.tools import tool\n",
        "\n",
        "import os\n",
        "from crewai import Agent, Task, Crew, Process"
      ],
      "metadata": {
        "id": "CqgkiqckcJoq"
      },
      "execution_count": null,
      "outputs": []
    },
    {
      "cell_type": "code",
      "source": [
        "from langchain_groq import ChatGroq\n",
        "\n",
        "GROQ_LLM = ChatGroq(\n",
        "            api_key=os.getenv(\"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\"),\n",
        "            model=\"llama3-70b-8192\"\n",
        "        )"
      ],
      "metadata": {
        "id": "el3FcL8VcWOu"
      },
      "execution_count": null,
      "outputs": []
    },
    {
      "cell_type": "code",
      "source": [
        "from langchain_community.tools import DuckDuckGoSearchRun\n",
        "from crewai_tools import tool\n",
        "\n",
        "\n",
        "@tool('DuckDuckGoSearch')\n",
        "def search(search_query: str):\n",
        "    \"\"\"Search the web for information on a given topic\"\"\"\n",
        "    return DuckDuckGoSearchRun().run(search_query)"
      ],
      "metadata": {
        "id": "GoFe1jxDcwcX"
      },
      "execution_count": null,
      "outputs": []
    },
    {
      "cell_type": "code",
      "source": [
        "researcher = Agent(\n",
        "  role='Senior Research Analyst',\n",
        "  goal='Uncover cutting-edge developments in anti-gravity technology',\n",
        "  backstory=\"\"\"You work at a leading tech think tank.\n",
        "  Your expertise lies in identifying emerging trends.\n",
        "  You have a knack for dissecting complex data and presenting actionable insights.\"\"\",\n",
        "  verbose=True,\n",
        "  allow_delegation=False,\n",
        "  llm = GROQ_LLM,\n",
        "  tools=[\n",
        "        search\n",
        "      ],\n",
        "\n",
        ")"
      ],
      "metadata": {
        "id": "YJiiE-3bc8e6"
      },
      "execution_count": null,
      "outputs": []
    },
    {
      "cell_type": "code",
      "source": [
        "writer = Agent(\n",
        "  role='Tech Content Strategist',\n",
        "  goal='Craft compelling content on tech advancements',\n",
        "  backstory=\"\"\"You are a renowned Content Strategist, known for your insightful and engaging articles.\n",
        "  You transform complex concepts into compelling narratives.\"\"\",\n",
        "  verbose=True,\n",
        "  allow_delegation=False,\n",
        "  llm = GROQ_LLM,\n",
        ")"
      ],
      "metadata": {
        "id": "1_99LUvsdHNH"
      },
      "execution_count": null,
      "outputs": []
    },
    {
      "cell_type": "code",
      "source": [
        "task1 = Task(\n",
        "  description=\"\"\"Conduct a comprehensive analysis of the latest advancements in anti-gravity technology.\n",
        "  Identify key trends, breakthrough technologies, and potential industry impacts.\"\"\",\n",
        "  expected_output=\"Full analysis report in comprehensive paragraphs\",\n",
        "  agent=researcher\n",
        ")"
      ],
      "metadata": {
        "id": "hRGWFDQodVuM"
      },
      "execution_count": null,
      "outputs": []
    },
    {
      "cell_type": "code",
      "source": [
        "task2 = Task(\n",
        "  description=\"\"\"Using the insights provided, develop an engaging blog\n",
        "  post that highlights the most significant advancements in anti-gravity technology.\n",
        "  Your post should be informative yet accessible, catering to a tech-savvy audience.\n",
        "  Make it sound cool, avoid complex words so it doesn't sound like AI.\"\"\",\n",
        "  expected_output=\"Full blog post of at least 4 paragraphs\",\n",
        "  agent=writer\n",
        ")"
      ],
      "metadata": {
        "id": "8mwNyBcCdcpQ"
      },
      "execution_count": null,
      "outputs": []
    },
    {
      "cell_type": "code",
      "source": [
        "# Instantiate your crew with a sequential process\n",
        "crew = Crew(\n",
        "  agents=[researcher, writer],\n",
        "  tasks=[task1,task2],\n",
        "  verbose=2, # You can set it to 1 or 2 to different logging levels,\n",
        "  step_callback=lambda x: print_agent_output(x,\"Crew\")\n",
        "\n",
        ")"
      ],
      "metadata": {
        "colab": {
          "base_uri": "https://localhost:8080/"
        },
        "id": "UAPwio7jdlzN",
        "outputId": "b06398ac-0ac4-413d-945c-8e254ec56e1e"
      },
      "execution_count": null,
      "outputs": [
        {
          "output_type": "stream",
          "name": "stderr",
          "text": [
            "WARNING:opentelemetry.trace:Overriding of current TracerProvider is not allowed\n"
          ]
        }
      ]
    },
    {
      "cell_type": "code",
      "source": [
        "def print_agent_output(output, agent_name):\n",
        "    print(f\"{agent_name} says: {output}\")"
      ],
      "metadata": {
        "id": "h7bS3b7FfT2S"
      },
      "execution_count": null,
      "outputs": []
    },
    {
      "cell_type": "code",
      "source": [
        "result = crew.kickoff()"
      ],
      "metadata": {
        "colab": {
          "base_uri": "https://localhost:8080/"
        },
        "id": "fS6d0XH_duED",
        "outputId": "ee377735-8434-4b2e-e71f-f1bf031372d5"
      },
      "execution_count": null,
      "outputs": [
        {
          "output_type": "stream",
          "name": "stdout",
          "text": [
            "\u001b[1m\u001b[95m [DEBUG]: == Working Agent: Senior Research Analyst\u001b[00m\n",
            "\u001b[1m\u001b[95m [INFO]: == Starting Task: Conduct a comprehensive analysis of the latest advancements in anti-gravity technology.\n",
            "  Identify key trends, breakthrough technologies, and potential industry impacts.\u001b[00m\n",
            "\n",
            "\n",
            "\u001b[1m> Entering new CrewAgentExecutor chain...\u001b[0m\n",
            "\u001b[32;1m\u001b[1;3mThought: I need to start by understanding the current state of anti-gravity technology and identify relevant keywords to guide my search.\n",
            "\n",
            "Action: DuckDuckGoSearch\n",
            "Action Input: {\"search_query\": \"anti-gravity technology\"}\u001b[0m\u001b[95m \n",
            "\n",
            "This culminated in 2023, when this \"New Force\"-powered drive generated enough thrust to overcome Earth's gravity. ... one at the Dresden University of Technology—found zero thrust. It holds you to the planet and keeps the planet orbiting around the sun. As you might imagine, the idea of reducing, canceling or protecting against this effect of gravity is highly appealing. Antigravity technology would revolutionize space exploration and energy production. It would slash the energy demands of travel and transportation. Anti-Gravity Engine Discovery. Dr. Charles Buhler asserts to have developed a zero-gravity apparatus, presenting it at the Alternative Propulsion Energy Conference. His creation aims to generate ... In a groundbreaking discovery, scientists have unraveled an anti-gravity mystery that seemingly defied the norms of classical physics, potentially paving the way for revolutionary advancements in magnetic levitation technology. The breakthrough centers on a unique form of magnetic levitation, first demonstrated in 2021 by Turkish scientist Hamdi Ucar, an electronics engineer from Göksal ... A veteran NASA scientist says his company has tested a propellantless propulsion drive technology that produced one Earth gravity of thrust. Science; Tech; ... hobbyists, APEC is an organization The Debrief once referred to as the World's Most Exclusive (And Strange) Anti-Gravity Club. Cover image of Dr. Buhler's APEC Presentation ...\n",
            "\u001b[00m\n",
            "Crew says: [(AgentAction(tool='DuckDuckGoSearch', tool_input='{\"search_query\": \"anti-gravity technology\"}', log='Thought: I need to start by understanding the current state of anti-gravity technology and identify relevant keywords to guide my search.\\n\\nAction: DuckDuckGoSearch\\nAction Input: {\"search_query\": \"anti-gravity technology\"}'), 'This culminated in 2023, when this \"New Force\"-powered drive generated enough thrust to overcome Earth\\'s gravity. ... one at the Dresden University of Technology—found zero thrust. It holds you to the planet and keeps the planet orbiting around the sun. As you might imagine, the idea of reducing, canceling or protecting against this effect of gravity is highly appealing. Antigravity technology would revolutionize space exploration and energy production. It would slash the energy demands of travel and transportation. Anti-Gravity Engine Discovery. Dr. Charles Buhler asserts to have developed a zero-gravity apparatus, presenting it at the Alternative Propulsion Energy Conference. His creation aims to generate ... In a groundbreaking discovery, scientists have unraveled an anti-gravity mystery that seemingly defied the norms of classical physics, potentially paving the way for revolutionary advancements in magnetic levitation technology. The breakthrough centers on a unique form of magnetic levitation, first demonstrated in 2021 by Turkish scientist Hamdi Ucar, an electronics engineer from Göksal ... A veteran NASA scientist says his company has tested a propellantless propulsion drive technology that produced one Earth gravity of thrust. Science; Tech; ... hobbyists, APEC is an organization The Debrief once referred to as the World\\'s Most Exclusive (And Strange) Anti-Gravity Club. Cover image of Dr. Buhler\\'s APEC Presentation ...')]\n",
            "\u001b[32;1m\u001b[1;3mThought: Now that I have a general understanding of the current state of anti-gravity technology, I need to identify key trends and breakthrough technologies in the field.\n",
            "\n",
            "Action: DuckDuckGoSearch\n",
            "Action Input: {\"search_query\": \"breakthroughs in anti-gravity technology\"}\u001b[0m\u001b[95m \n",
            "\n",
            "A Breakthrough in Quantum Gravity. However, physicists at the University of Southampton, working with scientists in Europe, have now successfully detected a weak gravitational pull on a tiny particle using a new technique. They claim it could pave the way to finding the elusive quantum gravity theory. In a groundbreaking discovery, scientists have unraveled an anti-gravity mystery that seemingly defied the norms of classical physics, potentially paving the way for revolutionary advancements in magnetic levitation technology. The breakthrough centers on a unique form of magnetic levitation, first demonstrated in 2021 by Turkish scientist Hamdi Ucar, an electronics engineer from Göksal ... This culminated in 2023, when this \"New Force\"-powered drive generated enough thrust to overcome Earth's gravity. ... one at the Dresden University of Technology—found zero thrust. Credit: University of Southampton. Scientists are a step closer to unraveling the mysterious forces of the universe after working out how to measure gravity on a microscopic level. Experts have ... A team of scientists from Columbia, Nanjing University, Princeton, and the University of Munster, writing in the journal Nature, have presented the first experimental evidence of collective excitations with spin called chiral graviton modes (CGMs) in a semiconducting material.A CGM appears to be similar to a graviton, a yet-to-be-discovered elementary particle better known in high-energy ...\n",
            "\u001b[00m\n",
            "Crew says: [(AgentAction(tool='DuckDuckGoSearch', tool_input='{\"search_query\": \"breakthroughs in anti-gravity technology\"}', log='Thought: Now that I have a general understanding of the current state of anti-gravity technology, I need to identify key trends and breakthrough technologies in the field.\\n\\nAction: DuckDuckGoSearch\\nAction Input: {\"search_query\": \"breakthroughs in anti-gravity technology\"}'), 'A Breakthrough in Quantum Gravity. However, physicists at the University of Southampton, working with scientists in Europe, have now successfully detected a weak gravitational pull on a tiny particle using a new technique. They claim it could pave the way to finding the elusive quantum gravity theory. In a groundbreaking discovery, scientists have unraveled an anti-gravity mystery that seemingly defied the norms of classical physics, potentially paving the way for revolutionary advancements in magnetic levitation technology. The breakthrough centers on a unique form of magnetic levitation, first demonstrated in 2021 by Turkish scientist Hamdi Ucar, an electronics engineer from Göksal ... This culminated in 2023, when this \"New Force\"-powered drive generated enough thrust to overcome Earth\\'s gravity. ... one at the Dresden University of Technology—found zero thrust. Credit: University of Southampton. Scientists are a step closer to unraveling the mysterious forces of the universe after working out how to measure gravity on a microscopic level. Experts have ... A team of scientists from Columbia, Nanjing University, Princeton, and the University of Munster, writing in the journal Nature, have presented the first experimental evidence of collective excitations with spin called chiral graviton modes (CGMs) in a semiconducting material.A CGM appears to be similar to a graviton, a yet-to-be-discovered elementary particle better known in high-energy ...')]\n",
            "\u001b[32;1m\u001b[1;3m\u001b[0mCrew says: [(AgentAction(tool='_Exception', tool_input=\"\\nI did it wrong. Invalid Format: I missed the 'Action Input:' after 'Action:'. I will do right next, and don't use a tool I have already used.\\n\", log=''), \"\\nI did it wrong. Invalid Format: I missed the 'Action Input:' after 'Action:'. I will do right next, and don't use a tool I have already used.\\n\")]\n",
            "\u001b[32;1m\u001b[1;3mLet me correct my mistake and continue the analysis.\n",
            "\n",
            "Thought: Now that I have a general understanding of the current state of anti-gravity technology, I need to identify key trends and breakthrough technologies in the field.\n",
            "\n",
            "Action: DuckDuckGoSearch\n",
            "Action Input: {\"search_query\": \"recent advancements in anti-gravity research\"}\u001b[0m\u001b[95m \n",
            "\n",
            "In a groundbreaking discovery, scientists have unraveled an anti-gravity mystery that seemingly defied the norms of classical physics, potentially paving the way for revolutionary advancements in magnetic levitation technology. The breakthrough centers on a unique form of magnetic levitation, first demonstrated in 2021 by Turkish scientist Hamdi Ucar, an electronics engineer from Göksal ... Pioneering Gravity Research. Lead author Tim Fuchs, from the University of Southampton, said the results could help experts find the missing puzzle piece in our picture of reality. ... van Halteren, Jean-Paul van Soest, Andrea Vinante, Hendrik Ulbricht and Tjerk H. Oosterkamp, 23 February 2024, Science Advances. DOI: 10.1126/sciadv.adk2949 ... The experiment, published in the Science Advances journal, used levitating magnets to detect gravity on microscopic particles -- small enough to boarder on the quantum realm. This means our research has empirically ruled out a number of historical theories involving so-called \"anti-gravity\" suggesting that antimatter would gravitate in exactly the opposite direction as ... Quantum collaboration gives new gravity to the mysteries of the universe. Feb 17, 2021. ... Medical research advances and health news. Tech Xplore. The latest engineering, electronics and ...\n",
            "\u001b[00m\n",
            "Crew says: [(AgentAction(tool='DuckDuckGoSearch', tool_input='{\"search_query\": \"recent advancements in anti-gravity research\"}', log='Let me correct my mistake and continue the analysis.\\n\\nThought: Now that I have a general understanding of the current state of anti-gravity technology, I need to identify key trends and breakthrough technologies in the field.\\n\\nAction: DuckDuckGoSearch\\nAction Input: {\"search_query\": \"recent advancements in anti-gravity research\"}'), 'In a groundbreaking discovery, scientists have unraveled an anti-gravity mystery that seemingly defied the norms of classical physics, potentially paving the way for revolutionary advancements in magnetic levitation technology. The breakthrough centers on a unique form of magnetic levitation, first demonstrated in 2021 by Turkish scientist Hamdi Ucar, an electronics engineer from Göksal ... Pioneering Gravity Research. Lead author Tim Fuchs, from the University of Southampton, said the results could help experts find the missing puzzle piece in our picture of reality. ... van Halteren, Jean-Paul van Soest, Andrea Vinante, Hendrik Ulbricht and Tjerk H. Oosterkamp, 23 February 2024, Science Advances. DOI: 10.1126/sciadv.adk2949 ... The experiment, published in the Science Advances journal, used levitating magnets to detect gravity on microscopic particles -- small enough to boarder on the quantum realm. This means our research has empirically ruled out a number of historical theories involving so-called \"anti-gravity\" suggesting that antimatter would gravitate in exactly the opposite direction as ... Quantum collaboration gives new gravity to the mysteries of the universe. Feb 17, 2021. ... Medical research advances and health news. Tech Xplore. The latest engineering, electronics and ...\\n\\n\\nYou ONLY have access to the following tools, and should NEVER make up tools that are not listed here:\\n\\nDuckDuckGoSearch: DuckDuckGoSearch(search_query: \\'string\\') - Search the web for information on a given topic\\n\\nUse the following format:\\n\\nThought: you should always think about what to do\\nAction: the action to take, only one name of [DuckDuckGoSearch], just the name, exactly as it\\'s written.\\nAction Input: the input to the action, just a simple a python dictionary, enclosed in curly braces, using \" to wrap keys and values.\\nObservation: the result of the action\\n\\nOnce all necessary information is gathered:\\n\\nThought: I now know the final answer\\nFinal Answer: the final answer to the original input question\\n')]\n",
            "Crew says: return_values={'output': 'Comprehensive Analysis of the Latest Advancements in Anti-Gravity Technology\\n\\nThe pursuit of anti-gravity technology has long fascinated scientists and engineers, with the potential to revolutionize space exploration, energy production, and transportation. Recent breakthroughs in the field have brought us closer to understanding the mysteries of gravity and potentially unlocking its secrets.\\n\\nOne of the most significant developments is the detection of a weak gravitational pull on a tiny particle using a new technique, paving the way for the discovery of quantum gravity theory. This breakthrough, achieved by physicists at the University of Southampton, has far-reaching implications for our understanding of the universe.\\n\\nAnother notable advancement is the discovery of a unique form of magnetic levitation, first demonstrated by Turkish scientist Hamdi Ucar in 2021. This technology has the potential to revolutionize magnetic levitation technology, with applications in transportation and energy production.\\n\\nFurthermore, a team of scientists from Columbia, Nanjing University, Princeton, and the University of Munster have presented the first experimental evidence of collective excitations with spin called chiral graviton modes (CGMs) in a semiconducting material. This discovery brings us closer to understanding the mysterious forces of the universe.\\n\\nRecent research has also focused on the use of levitating magnets to detect gravity on microscopic particles, pushing the boundaries of our understanding of gravity and its effects on the quantum realm.\\n\\nThe advancements in anti-gravity research have significant implications for various industries, including space exploration, energy production, and transportation. The potential applications of anti-gravity technology are vast, with the potential to transform the way we travel, produce energy, and explore the universe.\\n\\nIn conclusion, the latest advancements in anti-gravity technology have brought us closer to understanding the mysteries of gravity and unlocking its secrets. As research continues to push the boundaries of our understanding, we can expect significant breakthroughs in the years to come, with far-reaching implications for various industries and humanity as a whole.'} log='Thought: I now know the final answer\\n\\nFinal Answer:\\n\\nComprehensive Analysis of the Latest Advancements in Anti-Gravity Technology\\n\\nThe pursuit of anti-gravity technology has long fascinated scientists and engineers, with the potential to revolutionize space exploration, energy production, and transportation. Recent breakthroughs in the field have brought us closer to understanding the mysteries of gravity and potentially unlocking its secrets.\\n\\nOne of the most significant developments is the detection of a weak gravitational pull on a tiny particle using a new technique, paving the way for the discovery of quantum gravity theory. This breakthrough, achieved by physicists at the University of Southampton, has far-reaching implications for our understanding of the universe.\\n\\nAnother notable advancement is the discovery of a unique form of magnetic levitation, first demonstrated by Turkish scientist Hamdi Ucar in 2021. This technology has the potential to revolutionize magnetic levitation technology, with applications in transportation and energy production.\\n\\nFurthermore, a team of scientists from Columbia, Nanjing University, Princeton, and the University of Munster have presented the first experimental evidence of collective excitations with spin called chiral graviton modes (CGMs) in a semiconducting material. This discovery brings us closer to understanding the mysterious forces of the universe.\\n\\nRecent research has also focused on the use of levitating magnets to detect gravity on microscopic particles, pushing the boundaries of our understanding of gravity and its effects on the quantum realm.\\n\\nThe advancements in anti-gravity research have significant implications for various industries, including space exploration, energy production, and transportation. The potential applications of anti-gravity technology are vast, with the potential to transform the way we travel, produce energy, and explore the universe.\\n\\nIn conclusion, the latest advancements in anti-gravity technology have brought us closer to understanding the mysteries of gravity and unlocking its secrets. As research continues to push the boundaries of our understanding, we can expect significant breakthroughs in the years to come, with far-reaching implications for various industries and humanity as a whole.'\n",
            "\u001b[32;1m\u001b[1;3mThought: I now know the final answer\n",
            "\n",
            "Final Answer:\n",
            "\n",
            "Comprehensive Analysis of the Latest Advancements in Anti-Gravity Technology\n",
            "\n",
            "The pursuit of anti-gravity technology has long fascinated scientists and engineers, with the potential to revolutionize space exploration, energy production, and transportation. Recent breakthroughs in the field have brought us closer to understanding the mysteries of gravity and potentially unlocking its secrets.\n",
            "\n",
            "One of the most significant developments is the detection of a weak gravitational pull on a tiny particle using a new technique, paving the way for the discovery of quantum gravity theory. This breakthrough, achieved by physicists at the University of Southampton, has far-reaching implications for our understanding of the universe.\n",
            "\n",
            "Another notable advancement is the discovery of a unique form of magnetic levitation, first demonstrated by Turkish scientist Hamdi Ucar in 2021. This technology has the potential to revolutionize magnetic levitation technology, with applications in transportation and energy production.\n",
            "\n",
            "Furthermore, a team of scientists from Columbia, Nanjing University, Princeton, and the University of Munster have presented the first experimental evidence of collective excitations with spin called chiral graviton modes (CGMs) in a semiconducting material. This discovery brings us closer to understanding the mysterious forces of the universe.\n",
            "\n",
            "Recent research has also focused on the use of levitating magnets to detect gravity on microscopic particles, pushing the boundaries of our understanding of gravity and its effects on the quantum realm.\n",
            "\n",
            "The advancements in anti-gravity research have significant implications for various industries, including space exploration, energy production, and transportation. The potential applications of anti-gravity technology are vast, with the potential to transform the way we travel, produce energy, and explore the universe.\n",
            "\n",
            "In conclusion, the latest advancements in anti-gravity technology have brought us closer to understanding the mysteries of gravity and unlocking its secrets. As research continues to push the boundaries of our understanding, we can expect significant breakthroughs in the years to come, with far-reaching implications for various industries and humanity as a whole.\u001b[0m\n",
            "\n",
            "\u001b[1m> Finished chain.\u001b[0m\n",
            "\u001b[1m\u001b[92m [DEBUG]: == [Senior Research Analyst] Task output: Comprehensive Analysis of the Latest Advancements in Anti-Gravity Technology\n",
            "\n",
            "The pursuit of anti-gravity technology has long fascinated scientists and engineers, with the potential to revolutionize space exploration, energy production, and transportation. Recent breakthroughs in the field have brought us closer to understanding the mysteries of gravity and potentially unlocking its secrets.\n",
            "\n",
            "One of the most significant developments is the detection of a weak gravitational pull on a tiny particle using a new technique, paving the way for the discovery of quantum gravity theory. This breakthrough, achieved by physicists at the University of Southampton, has far-reaching implications for our understanding of the universe.\n",
            "\n",
            "Another notable advancement is the discovery of a unique form of magnetic levitation, first demonstrated by Turkish scientist Hamdi Ucar in 2021. This technology has the potential to revolutionize magnetic levitation technology, with applications in transportation and energy production.\n",
            "\n",
            "Furthermore, a team of scientists from Columbia, Nanjing University, Princeton, and the University of Munster have presented the first experimental evidence of collective excitations with spin called chiral graviton modes (CGMs) in a semiconducting material. This discovery brings us closer to understanding the mysterious forces of the universe.\n",
            "\n",
            "Recent research has also focused on the use of levitating magnets to detect gravity on microscopic particles, pushing the boundaries of our understanding of gravity and its effects on the quantum realm.\n",
            "\n",
            "The advancements in anti-gravity research have significant implications for various industries, including space exploration, energy production, and transportation. The potential applications of anti-gravity technology are vast, with the potential to transform the way we travel, produce energy, and explore the universe.\n",
            "\n",
            "In conclusion, the latest advancements in anti-gravity technology have brought us closer to understanding the mysteries of gravity and unlocking its secrets. As research continues to push the boundaries of our understanding, we can expect significant breakthroughs in the years to come, with far-reaching implications for various industries and humanity as a whole.\n",
            "\n",
            "\u001b[00m\n",
            "\u001b[1m\u001b[95m [DEBUG]: == Working Agent: Tech Content Strategist\u001b[00m\n",
            "\u001b[1m\u001b[95m [INFO]: == Starting Task: Using the insights provided, develop an engaging blog\n",
            "  post that highlights the most significant advancements in anti-gravity technology.\n",
            "  Your post should be informative yet accessible, catering to a tech-savvy audience.\n",
            "  Make it sound cool, avoid complex words so it doesn't sound like AI.\u001b[00m\n",
            "\n",
            "\n",
            "\u001b[1m> Entering new CrewAgentExecutor chain...\u001b[0m\n",
            "Crew says: return_values={'output': \"**Defying Gravity: The Latest Breakthroughs in Anti-Gravity Technology**\\n\\nImagine a world where gravity is no longer a limitation. A world where spacecraft can travel faster and farther, where energy production is limitless, and transportation is effortless. For decades, scientists have been working towards making this vision a reality, and recent breakthroughs in anti-gravity technology have brought us closer than ever to achieving it.\\n\\nOne of the most significant developments in the field is the detection of a weak gravitational pull on a tiny particle using a new technique. This breakthrough, achieved by physicists at the University of Southampton, has far-reaching implications for our understanding of the universe. By understanding how gravity behaves at a quantum level, we can unlock the secrets of the universe and potentially develop new technologies that defy gravity.\\n\\nAnother exciting development is the discovery of a unique form of magnetic levitation, demonstrated by Turkish scientist Hamdi Ucar in 2021. This technology has the potential to revolutionize transportation and energy production by allowing for the creation of frictionless systems that can operate at incredible speeds and efficiencies. Imagine trains that can travel at hundreds of miles per hour, or power plants that can generate electricity without producing any waste.\\n\\nBut that's not all. A team of scientists from Columbia, Nanjing University, Princeton, and the University of Munster have presented the first experimental evidence of collective excitations with spin called chiral graviton modes (CGMs) in a semiconducting material. This discovery brings us closer to understanding the mysterious forces of the universe and could lead to the development of new technologies that can manipulate gravity itself. Recent research has also focused on the use of levitating magnets to detect gravity on microscopic particles, pushing the boundaries of our understanding of gravity and its effects on the quantum realm.\\n\\nThe implications of these advancements are vast and far-reaching. Anti-gravity technology has the potential to transform industries such as space exploration, energy production, and transportation. Imagine spacecraft that can travel to distant planets in a fraction of the time, or cities that are powered by limitless clean energy. The possibilities are endless, and as research continues to push the boundaries of our understanding, we can expect significant breakthroughs in the years to come. The future is exciting, and the possibilities are endless. Are you ready to defy gravity?\"} log=\"I now can give a great answer!\\n\\nFinal Answer:\\n\\n**Defying Gravity: The Latest Breakthroughs in Anti-Gravity Technology**\\n\\nImagine a world where gravity is no longer a limitation. A world where spacecraft can travel faster and farther, where energy production is limitless, and transportation is effortless. For decades, scientists have been working towards making this vision a reality, and recent breakthroughs in anti-gravity technology have brought us closer than ever to achieving it.\\n\\nOne of the most significant developments in the field is the detection of a weak gravitational pull on a tiny particle using a new technique. This breakthrough, achieved by physicists at the University of Southampton, has far-reaching implications for our understanding of the universe. By understanding how gravity behaves at a quantum level, we can unlock the secrets of the universe and potentially develop new technologies that defy gravity.\\n\\nAnother exciting development is the discovery of a unique form of magnetic levitation, demonstrated by Turkish scientist Hamdi Ucar in 2021. This technology has the potential to revolutionize transportation and energy production by allowing for the creation of frictionless systems that can operate at incredible speeds and efficiencies. Imagine trains that can travel at hundreds of miles per hour, or power plants that can generate electricity without producing any waste.\\n\\nBut that's not all. A team of scientists from Columbia, Nanjing University, Princeton, and the University of Munster have presented the first experimental evidence of collective excitations with spin called chiral graviton modes (CGMs) in a semiconducting material. This discovery brings us closer to understanding the mysterious forces of the universe and could lead to the development of new technologies that can manipulate gravity itself. Recent research has also focused on the use of levitating magnets to detect gravity on microscopic particles, pushing the boundaries of our understanding of gravity and its effects on the quantum realm.\\n\\nThe implications of these advancements are vast and far-reaching. Anti-gravity technology has the potential to transform industries such as space exploration, energy production, and transportation. Imagine spacecraft that can travel to distant planets in a fraction of the time, or cities that are powered by limitless clean energy. The possibilities are endless, and as research continues to push the boundaries of our understanding, we can expect significant breakthroughs in the years to come. The future is exciting, and the possibilities are endless. Are you ready to defy gravity?\"\n",
            "\u001b[32;1m\u001b[1;3mI now can give a great answer!\n",
            "\n",
            "Final Answer:\n",
            "\n",
            "**Defying Gravity: The Latest Breakthroughs in Anti-Gravity Technology**\n",
            "\n",
            "Imagine a world where gravity is no longer a limitation. A world where spacecraft can travel faster and farther, where energy production is limitless, and transportation is effortless. For decades, scientists have been working towards making this vision a reality, and recent breakthroughs in anti-gravity technology have brought us closer than ever to achieving it.\n",
            "\n",
            "One of the most significant developments in the field is the detection of a weak gravitational pull on a tiny particle using a new technique. This breakthrough, achieved by physicists at the University of Southampton, has far-reaching implications for our understanding of the universe. By understanding how gravity behaves at a quantum level, we can unlock the secrets of the universe and potentially develop new technologies that defy gravity.\n",
            "\n",
            "Another exciting development is the discovery of a unique form of magnetic levitation, demonstrated by Turkish scientist Hamdi Ucar in 2021. This technology has the potential to revolutionize transportation and energy production by allowing for the creation of frictionless systems that can operate at incredible speeds and efficiencies. Imagine trains that can travel at hundreds of miles per hour, or power plants that can generate electricity without producing any waste.\n",
            "\n",
            "But that's not all. A team of scientists from Columbia, Nanjing University, Princeton, and the University of Munster have presented the first experimental evidence of collective excitations with spin called chiral graviton modes (CGMs) in a semiconducting material. This discovery brings us closer to understanding the mysterious forces of the universe and could lead to the development of new technologies that can manipulate gravity itself. Recent research has also focused on the use of levitating magnets to detect gravity on microscopic particles, pushing the boundaries of our understanding of gravity and its effects on the quantum realm.\n",
            "\n",
            "The implications of these advancements are vast and far-reaching. Anti-gravity technology has the potential to transform industries such as space exploration, energy production, and transportation. Imagine spacecraft that can travel to distant planets in a fraction of the time, or cities that are powered by limitless clean energy. The possibilities are endless, and as research continues to push the boundaries of our understanding, we can expect significant breakthroughs in the years to come. The future is exciting, and the possibilities are endless. Are you ready to defy gravity?\u001b[0m\n",
            "\n",
            "\u001b[1m> Finished chain.\u001b[0m\n",
            "\u001b[1m\u001b[92m [DEBUG]: == [Tech Content Strategist] Task output: **Defying Gravity: The Latest Breakthroughs in Anti-Gravity Technology**\n",
            "\n",
            "Imagine a world where gravity is no longer a limitation. A world where spacecraft can travel faster and farther, where energy production is limitless, and transportation is effortless. For decades, scientists have been working towards making this vision a reality, and recent breakthroughs in anti-gravity technology have brought us closer than ever to achieving it.\n",
            "\n",
            "One of the most significant developments in the field is the detection of a weak gravitational pull on a tiny particle using a new technique. This breakthrough, achieved by physicists at the University of Southampton, has far-reaching implications for our understanding of the universe. By understanding how gravity behaves at a quantum level, we can unlock the secrets of the universe and potentially develop new technologies that defy gravity.\n",
            "\n",
            "Another exciting development is the discovery of a unique form of magnetic levitation, demonstrated by Turkish scientist Hamdi Ucar in 2021. This technology has the potential to revolutionize transportation and energy production by allowing for the creation of frictionless systems that can operate at incredible speeds and efficiencies. Imagine trains that can travel at hundreds of miles per hour, or power plants that can generate electricity without producing any waste.\n",
            "\n",
            "But that's not all. A team of scientists from Columbia, Nanjing University, Princeton, and the University of Munster have presented the first experimental evidence of collective excitations with spin called chiral graviton modes (CGMs) in a semiconducting material. This discovery brings us closer to understanding the mysterious forces of the universe and could lead to the development of new technologies that can manipulate gravity itself. Recent research has also focused on the use of levitating magnets to detect gravity on microscopic particles, pushing the boundaries of our understanding of gravity and its effects on the quantum realm.\n",
            "\n",
            "The implications of these advancements are vast and far-reaching. Anti-gravity technology has the potential to transform industries such as space exploration, energy production, and transportation. Imagine spacecraft that can travel to distant planets in a fraction of the time, or cities that are powered by limitless clean energy. The possibilities are endless, and as research continues to push the boundaries of our understanding, we can expect significant breakthroughs in the years to come. The future is exciting, and the possibilities are endless. Are you ready to defy gravity?\n",
            "\n",
            "\u001b[00m\n"
          ]
        }
      ]
    }
  ],
  "metadata": {
    "colab": {
      "provenance": [],
      "authorship_tag": "ABX9TyO9LAHS/GUk5EkmpncFVtJc",
      "include_colab_link": true
    },
    "kernelspec": {
      "display_name": "Python 3",
      "name": "python3"
    },
    "language_info": {
      "name": "python"
    }
  },
  "nbformat": 4,
  "nbformat_minor": 0
}