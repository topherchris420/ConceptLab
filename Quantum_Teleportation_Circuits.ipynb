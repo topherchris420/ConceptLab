{
  "nbformat": 4,
  "nbformat_minor": 0,
  "metadata": {
    "colab": {
      "provenance": [],
      "authorship_tag": "ABX9TyOJdIE/PggJQAqiQrF1hUWh",
      "include_colab_link": true
    },
    "kernelspec": {
      "name": "python3",
      "display_name": "Python 3"
    },
    "language_info": {
      "name": "python"
    }
  },
  "cells": [
    {
      "cell_type": "markdown",
      "metadata": {
        "id": "view-in-github",
        "colab_type": "text"
      },
      "source": [
        "<a href=\"https://colab.research.google.com/github/topherchris420/ConceptLab/blob/main/Quantum_Teleportation_Circuits.ipynb\" target=\"_parent\"><img src=\"https://colab.research.google.com/assets/colab-badge.svg\" alt=\"Open In Colab\"/></a>"
      ]
    },
    {
      "cell_type": "code",
      "execution_count": null,
      "metadata": {
        "colab": {
          "base_uri": "https://localhost:8080/"
        },
        "id": "isqve0-tRFnI",
        "outputId": "3a511fbc-c9ac-41be-94d3-7560f7445cfc"
      },
      "outputs": [
        {
          "output_type": "stream",
          "name": "stdout",
          "text": [
            "Collecting qiskit\n",
            "  Downloading qiskit-1.0.2-cp38-abi3-manylinux_2_17_x86_64.manylinux2014_x86_64.whl (5.6 MB)\n",
            "\u001b[2K     \u001b[90m━━━━━━━━━━━━━━━━━━━━━━━━━━━━━━━━━━━━━━━━\u001b[0m \u001b[32m5.6/5.6 MB\u001b[0m \u001b[31m49.7 MB/s\u001b[0m eta \u001b[36m0:00:00\u001b[0m\n",
            "\u001b[?25hCollecting rustworkx>=0.14.0 (from qiskit)\n",
            "  Downloading rustworkx-0.14.2-cp310-cp310-manylinux_2_17_x86_64.manylinux2014_x86_64.whl (2.1 MB)\n",
            "\u001b[2K     \u001b[90m━━━━━━━━━━━━━━━━━━━━━━━━━━━━━━━━━━━━━━━━\u001b[0m \u001b[32m2.1/2.1 MB\u001b[0m \u001b[31m82.2 MB/s\u001b[0m eta \u001b[36m0:00:00\u001b[0m\n",
            "\u001b[?25hRequirement already satisfied: numpy<2,>=1.17 in /usr/local/lib/python3.10/dist-packages (from qiskit) (1.25.2)\n",
            "Requirement already satisfied: scipy>=1.5 in /usr/local/lib/python3.10/dist-packages (from qiskit) (1.11.4)\n",
            "Requirement already satisfied: sympy>=1.3 in /usr/local/lib/python3.10/dist-packages (from qiskit) (1.12)\n",
            "Collecting dill>=0.3 (from qiskit)\n",
            "  Downloading dill-0.3.8-py3-none-any.whl (116 kB)\n",
            "\u001b[2K     \u001b[90m━━━━━━━━━━━━━━━━━━━━━━━━━━━━━━━━━━━━━━━━\u001b[0m \u001b[32m116.3/116.3 kB\u001b[0m \u001b[31m19.2 MB/s\u001b[0m eta \u001b[36m0:00:00\u001b[0m\n",
            "\u001b[?25hRequirement already satisfied: python-dateutil>=2.8.0 in /usr/local/lib/python3.10/dist-packages (from qiskit) (2.8.2)\n",
            "Collecting stevedore>=3.0.0 (from qiskit)\n",
            "  Downloading stevedore-5.2.0-py3-none-any.whl (49 kB)\n",
            "\u001b[2K     \u001b[90m━━━━━━━━━━━━━━━━━━━━━━━━━━━━━━━━━━━━━━━━\u001b[0m \u001b[32m49.7/49.7 kB\u001b[0m \u001b[31m7.2 MB/s\u001b[0m eta \u001b[36m0:00:00\u001b[0m\n",
            "\u001b[?25hRequirement already satisfied: typing-extensions in /usr/local/lib/python3.10/dist-packages (from qiskit) (4.10.0)\n",
            "Collecting symengine>=0.11 (from qiskit)\n",
            "  Downloading symengine-0.11.0-cp310-cp310-manylinux_2_12_x86_64.manylinux2010_x86_64.whl (39.4 MB)\n",
            "\u001b[2K     \u001b[90m━━━━━━━━━━━━━━━━━━━━━━━━━━━━━━━━━━━━━━━━\u001b[0m \u001b[32m39.4/39.4 MB\u001b[0m \u001b[31m17.2 MB/s\u001b[0m eta \u001b[36m0:00:00\u001b[0m\n",
            "\u001b[?25hRequirement already satisfied: six>=1.5 in /usr/local/lib/python3.10/dist-packages (from python-dateutil>=2.8.0->qiskit) (1.16.0)\n",
            "Collecting pbr!=2.1.0,>=2.0.0 (from stevedore>=3.0.0->qiskit)\n",
            "  Downloading pbr-6.0.0-py2.py3-none-any.whl (107 kB)\n",
            "\u001b[2K     \u001b[90m━━━━━━━━━━━━━━━━━━━━━━━━━━━━━━━━━━━━━━━━\u001b[0m \u001b[32m107.5/107.5 kB\u001b[0m \u001b[31m17.6 MB/s\u001b[0m eta \u001b[36m0:00:00\u001b[0m\n",
            "\u001b[?25hRequirement already satisfied: mpmath>=0.19 in /usr/local/lib/python3.10/dist-packages (from sympy>=1.3->qiskit) (1.3.0)\n",
            "Installing collected packages: symengine, rustworkx, pbr, dill, stevedore, qiskit\n",
            "Successfully installed dill-0.3.8 pbr-6.0.0 qiskit-1.0.2 rustworkx-0.14.2 stevedore-5.2.0 symengine-0.11.0\n"
          ]
        }
      ],
      "source": [
        "!pip install qiskit"
      ]
    },
    {
      "cell_type": "markdown",
      "source": [
        "open platform for exploring wave-particle duality and creating quantum circuits.\n",
        "\n",
        "*end of page for latest update"
      ],
      "metadata": {
        "id": "7tW8-EVsA9bH"
      }
    },
    {
      "cell_type": "markdown",
      "source": [
        "[space-time is a structure imposed by our consciousness](https://woodyard.eth.limo)"
      ],
      "metadata": {
        "id": "G-gQGhGuA-Hy"
      }
    },
    {
      "cell_type": "code",
      "source": [
        "from qiskit import QuantumRegister, ClassicalRegister, QuantumCircuit\n",
        "from numpy import pi\n",
        "\n",
        "qreg_q = QuantumRegister(3, 'q')\n",
        "creg_c = ClassicalRegister(4, 'c')\n",
        "circuit = QuantumCircuit(qreg_q, creg_c)\n",
        "\n",
        "circuit.h(qreg_q[1])\n",
        "circuit.cx(qreg_q[1], qreg_q[2])\n",
        "circuit.barrier(qreg_q)\n",
        "# @phaseDisk\n",
        "circuit.barrier(qreg_q[0])\n",
        "circuit.barrier(qreg_q[2])\n",
        "circuit.barrier(qreg_q[1])\n",
        "circuit.cx(qreg_q[0], qreg_q[1])\n",
        "circuit.h(qreg_q[0])\n",
        "circuit.barrier(qreg_q[0], qreg_q[1], qreg_q[2])\n",
        "circuit.measure(qreg_q[0], creg_c[0])\n",
        "circuit.measure(qreg_q[1], creg_c[1])\n",
        "circuit.crx(pi, qreg_q[1], qreg_q[2]).c_if(creg_c, 1)\n",
        "circuit.crz(pi, qreg_q[0], qreg_q[2]).c_if(creg_c, 1)\n",
        "\n",
        "circuit.draw()"
      ],
      "metadata": {
        "colab": {
          "base_uri": "https://localhost:8080/",
          "height": 171
        },
        "id": "ZMIXBRE-SCwL",
        "outputId": "5c9d94cb-126a-4c8c-829d-5445dc2a76ff"
      },
      "execution_count": null,
      "outputs": [
        {
          "output_type": "execute_result",
          "data": {
            "text/plain": [
              "                ░  ░      ┌───┐ ░ ┌─┐                     \n",
              "q_0: ───────────░──░───■──┤ H ├─░─┤M├────────────────■────\n",
              "     ┌───┐      ░  ░ ┌─┴─┐└───┘ ░ └╥┘┌─┐             │    \n",
              "q_1: ┤ H ├──■───░──░─┤ X ├──────░──╫─┤M├────■────────┼────\n",
              "     └───┘┌─┴─┐ ░  ░ └───┘      ░  ║ └╥┘┌───┴───┐┌───┴───┐\n",
              "q_2: ─────┤ X ├─░──░────────────░──╫──╫─┤ Rx(π) ├┤ Rz(π) ├\n",
              "          └───┘ ░  ░            ░  ║  ║ └───╥───┘└───╥───┘\n",
              "                                   ║  ║  ┌──╨──┐  ┌──╨──┐ \n",
              "c: 4/══════════════════════════════╩══╩══╡ 0x1 ╞══╡ 0x1 ╞═\n",
              "                                   0  1  └─────┘  └─────┘ "
            ],
            "text/html": [
              "<pre style=\"word-wrap: normal;white-space: pre;background: #fff0;line-height: 1.1;font-family: &quot;Courier New&quot;,Courier,monospace\">                ░  ░      ┌───┐ ░ ┌─┐                     \n",
              "q_0: ───────────░──░───■──┤ H ├─░─┤M├────────────────■────\n",
              "     ┌───┐      ░  ░ ┌─┴─┐└───┘ ░ └╥┘┌─┐             │    \n",
              "q_1: ┤ H ├──■───░──░─┤ X ├──────░──╫─┤M├────■────────┼────\n",
              "     └───┘┌─┴─┐ ░  ░ └───┘      ░  ║ └╥┘┌───┴───┐┌───┴───┐\n",
              "q_2: ─────┤ X ├─░──░────────────░──╫──╫─┤ Rx(π) ├┤ Rz(π) ├\n",
              "          └───┘ ░  ░            ░  ║  ║ └───╥───┘└───╥───┘\n",
              "                                   ║  ║  ┌──╨──┐  ┌──╨──┐ \n",
              "c: 4/══════════════════════════════╩══╩══╡ 0x1 ╞══╡ 0x1 ╞═\n",
              "                                   0  1  └─────┘  └─────┘ </pre>"
            ]
          },
          "metadata": {},
          "execution_count": 2
        }
      ]
    },
    {
      "cell_type": "markdown",
      "source": [],
      "metadata": {
        "id": "33pgoYMneT9M"
      }
    },
    {
      "cell_type": "code",
      "source": [
        "from qiskit import QuantumRegister, ClassicalRegister, QuantumCircuit\n",
        "from numpy import pi\n",
        "\n",
        "qreg_q = QuantumRegister(3, 'q')\n",
        "creg_c = ClassicalRegister(4, 'c')\n",
        "circuit = QuantumCircuit(qreg_q, creg_c)\n",
        "\n",
        "circuit.h(qreg_q[1])\n",
        "circuit.h(qreg_q[0])\n",
        "circuit.cx(qreg_q[1], qreg_q[2])\n",
        "circuit.barrier(qreg_q)\n",
        "# @phaseDisk\n",
        "circuit.barrier(qreg_q[0])\n",
        "circuit.barrier(qreg_q[2])\n",
        "circuit.barrier(qreg_q[1])\n",
        "circuit.cx(qreg_q[0], qreg_q[1])\n",
        "circuit.h(qreg_q[0])\n",
        "circuit.barrier(qreg_q[0], qreg_q[1], qreg_q[2])\n",
        "circuit.measure(qreg_q[0], creg_c[0])\n",
        "circuit.measure(qreg_q[1], creg_c[1])\n",
        "circuit.crx(pi, qreg_q[1], qreg_q[2]).c_if(creg_c, 1)\n",
        "circuit.crz(pi, qreg_q[0], qreg_q[2]).c_if(creg_c, 1)\n",
        "\n",
        "circuit.draw()"
      ],
      "metadata": {
        "colab": {
          "base_uri": "https://localhost:8080/",
          "height": 171
        },
        "id": "yQMLvfqPV9DX",
        "outputId": "91e979ae-3eb1-4379-b95c-98e259457d96"
      },
      "execution_count": null,
      "outputs": [
        {
          "output_type": "execute_result",
          "data": {
            "text/plain": [
              "     ┌───┐      ░  ░      ┌───┐ ░ ┌─┐                     \n",
              "q_0: ┤ H ├──────░──░───■──┤ H ├─░─┤M├────────────────■────\n",
              "     ├───┤      ░  ░ ┌─┴─┐└───┘ ░ └╥┘┌─┐             │    \n",
              "q_1: ┤ H ├──■───░──░─┤ X ├──────░──╫─┤M├────■────────┼────\n",
              "     └───┘┌─┴─┐ ░  ░ └───┘      ░  ║ └╥┘┌───┴───┐┌───┴───┐\n",
              "q_2: ─────┤ X ├─░──░────────────░──╫──╫─┤ Rx(π) ├┤ Rz(π) ├\n",
              "          └───┘ ░  ░            ░  ║  ║ └───╥───┘└───╥───┘\n",
              "                                   ║  ║  ┌──╨──┐  ┌──╨──┐ \n",
              "c: 4/══════════════════════════════╩══╩══╡ 0x1 ╞══╡ 0x1 ╞═\n",
              "                                   0  1  └─────┘  └─────┘ "
            ],
            "text/html": [
              "<pre style=\"word-wrap: normal;white-space: pre;background: #fff0;line-height: 1.1;font-family: &quot;Courier New&quot;,Courier,monospace\">     ┌───┐      ░  ░      ┌───┐ ░ ┌─┐                     \n",
              "q_0: ┤ H ├──────░──░───■──┤ H ├─░─┤M├────────────────■────\n",
              "     ├───┤      ░  ░ ┌─┴─┐└───┘ ░ └╥┘┌─┐             │    \n",
              "q_1: ┤ H ├──■───░──░─┤ X ├──────░──╫─┤M├────■────────┼────\n",
              "     └───┘┌─┴─┐ ░  ░ └───┘      ░  ║ └╥┘┌───┴───┐┌───┴───┐\n",
              "q_2: ─────┤ X ├─░──░────────────░──╫──╫─┤ Rx(π) ├┤ Rz(π) ├\n",
              "          └───┘ ░  ░            ░  ║  ║ └───╥───┘└───╥───┘\n",
              "                                   ║  ║  ┌──╨──┐  ┌──╨──┐ \n",
              "c: 4/══════════════════════════════╩══╩══╡ 0x1 ╞══╡ 0x1 ╞═\n",
              "                                   0  1  └─────┘  └─────┘ </pre>"
            ]
          },
          "metadata": {},
          "execution_count": 4
        }
      ]
    },
    {
      "cell_type": "code",
      "source": [
        "from qiskit import QuantumRegister, ClassicalRegister, QuantumCircuit\n",
        "from numpy import pi\n",
        "\n",
        "\n",
        "\n",
        "qreg_q = QuantumRegister(3, 'q')\n",
        "\n",
        "circuit = QuantumCircuit(qreg_q)\n",
        "\n",
        "# Apply the quantum gates for quantum teleportation\n",
        "circuit.h(qreg_q[0])\n",
        "circuit.cx(qreg_q[0], qreg_q[1])\n",
        "circuit.h(qreg_q[1])\n",
        "circuit.cx(qreg_q[0], qreg_q[2])\n",
        "circuit.cx(qreg_q[1], qreg_q[2])\n",
        "circuit.h(qreg_q[2])\n",
        "\n",
        "\n",
        "circuit.draw()\n",
        "\n",
        "\n",
        "\n"
      ],
      "metadata": {
        "colab": {
          "base_uri": "https://localhost:8080/",
          "height": 125
        },
        "id": "WS1vhH3Me56C",
        "outputId": "c24d8acc-9419-4638-88ca-072486676044"
      },
      "execution_count": null,
      "outputs": [
        {
          "output_type": "execute_result",
          "data": {
            "text/plain": [
              "     ┌───┐                         \n",
              "q_0: ┤ H ├──■─────────■────────────\n",
              "     └───┘┌─┴─┐┌───┐  │            \n",
              "q_1: ─────┤ X ├┤ H ├──┼────■───────\n",
              "          └───┘└───┘┌─┴─┐┌─┴─┐┌───┐\n",
              "q_2: ───────────────┤ X ├┤ X ├┤ H ├\n",
              "                    └───┘└───┘└───┘"
            ],
            "text/html": [
              "<pre style=\"word-wrap: normal;white-space: pre;background: #fff0;line-height: 1.1;font-family: &quot;Courier New&quot;,Courier,monospace\">     ┌───┐                         \n",
              "q_0: ┤ H ├──■─────────■────────────\n",
              "     └───┘┌─┴─┐┌───┐  │            \n",
              "q_1: ─────┤ X ├┤ H ├──┼────■───────\n",
              "          └───┘└───┘┌─┴─┐┌─┴─┐┌───┐\n",
              "q_2: ───────────────┤ X ├┤ X ├┤ H ├\n",
              "                    └───┘└───┘└───┘</pre>"
            ]
          },
          "metadata": {},
          "execution_count": 8
        }
      ]
    },
    {
      "cell_type": "code",
      "source": [
        "from qiskit import QuantumRegister, ClassicalRegister, QuantumCircuit\n",
        "from numpy import pi\n",
        "\n",
        "\n",
        "qreg_q = QuantumRegister(3, 'q')\n",
        "creg_c = ClassicalRegister(2, 'c')\n",
        "\n",
        "circuit = QuantumCircuit(qreg_q, creg_c)\n",
        "circuit.h(qreg_q[1])\n",
        "circuit.cx(qreg_q[1], qreg_q[2])\n",
        "circuit.barrier(qreg_q)\n",
        "circuit.h(qreg_q[0])\n",
        "circuit.barrier(qreg_q[0], qreg_q[1], qreg_q[2])\n",
        "circuit.cx(qreg_q[0], qreg_q[1])\n",
        "circuit.cx(qreg_q[1], qreg_q[2])\n",
        "circuit.measure(qreg_q[0], creg_c[0])\n",
        "circuit.measure(qreg_q[1], creg_c[1])\n",
        "\n",
        "circuit.draw()"
      ],
      "metadata": {
        "colab": {
          "base_uri": "https://localhost:8080/",
          "height": 156
        },
        "id": "pPYNSXSDjRdP",
        "outputId": "c3e71c23-cdc6-484e-b4d3-5336924fd006"
      },
      "execution_count": null,
      "outputs": [
        {
          "output_type": "execute_result",
          "data": {
            "text/plain": [
              "                ░ ┌───┐ ░           ┌─┐   \n",
              "q_0: ───────────░─┤ H ├─░───■───────┤M├───\n",
              "     ┌───┐      ░ └───┘ ░ ┌─┴─┐     └╥┘┌─┐\n",
              "q_1: ┤ H ├──■───░───────░─┤ X ├──■───╫─┤M├\n",
              "     └───┘┌─┴─┐ ░       ░ └───┘┌─┴─┐ ║ └╥┘\n",
              "q_2: ─────┤ X ├─░───────░──────┤ X ├─╫──╫─\n",
              "          └───┘ ░       ░      └───┘ ║  ║ \n",
              "c: 2/════════════════════════════════╩══╩═\n",
              "                                     0  1 "
            ],
            "text/html": [
              "<pre style=\"word-wrap: normal;white-space: pre;background: #fff0;line-height: 1.1;font-family: &quot;Courier New&quot;,Courier,monospace\">                ░ ┌───┐ ░           ┌─┐   \n",
              "q_0: ───────────░─┤ H ├─░───■───────┤M├───\n",
              "     ┌───┐      ░ └───┘ ░ ┌─┴─┐     └╥┘┌─┐\n",
              "q_1: ┤ H ├──■───░───────░─┤ X ├──■───╫─┤M├\n",
              "     └───┘┌─┴─┐ ░       ░ └───┘┌─┴─┐ ║ └╥┘\n",
              "q_2: ─────┤ X ├─░───────░──────┤ X ├─╫──╫─\n",
              "          └───┘ ░       ░      └───┘ ║  ║ \n",
              "c: 2/════════════════════════════════╩══╩═\n",
              "                                     0  1 </pre>"
            ]
          },
          "metadata": {},
          "execution_count": 14
        }
      ]
    },
    {
      "cell_type": "code",
      "source": [
        "from qiskit import QuantumRegister, ClassicalRegister, QuantumCircuit\n",
        "from numpy import pi\n",
        "\n",
        "# Create a 3-qubit quantum register and a 4-bit classical register\n",
        "qreg_q = QuantumRegister(3, 'q')\n",
        "creg_c = ClassicalRegister(4, 'c')\n",
        "circuit = QuantumCircuit(qreg_q, creg_c)\n",
        "\n",
        "circuit.h(qreg_q[1])\n",
        "circuit.cx(qreg_q[1], qreg_q[2])\n",
        "circuit.barrier(qreg_q)\n",
        "circuit.ccx(qreg_q[0], qreg_q[1], qreg_q[2])\n",
        "circuit.measure(qreg_q[0], creg_c[0])\n",
        "circuit.measure(qreg_q[1], creg_c[1])\n",
        "\n",
        "\n",
        "circuit.draw()"
      ],
      "metadata": {
        "colab": {
          "base_uri": "https://localhost:8080/",
          "height": 156
        },
        "id": "ghWUyUdmo9Dn",
        "outputId": "38c82748-675d-45f8-9e68-8a42b3ec5244"
      },
      "execution_count": null,
      "outputs": [
        {
          "output_type": "execute_result",
          "data": {
            "text/plain": [
              "                ░      ┌─┐   \n",
              "q_0: ───────────░───■──┤M├───\n",
              "     ┌───┐      ░   │  └╥┘┌─┐\n",
              "q_1: ┤ H ├──■───░───■───╫─┤M├\n",
              "     └───┘┌─┴─┐ ░ ┌─┴─┐ ║ └╥┘\n",
              "q_2: ─────┤ X ├─░─┤ X ├─╫──╫─\n",
              "          └───┘ ░ └───┘ ║  ║ \n",
              "c: 4/═══════════════════╩══╩═\n",
              "                        0  1 "
            ],
            "text/html": [
              "<pre style=\"word-wrap: normal;white-space: pre;background: #fff0;line-height: 1.1;font-family: &quot;Courier New&quot;,Courier,monospace\">                ░      ┌─┐   \n",
              "q_0: ───────────░───■──┤M├───\n",
              "     ┌───┐      ░   │  └╥┘┌─┐\n",
              "q_1: ┤ H ├──■───░───■───╫─┤M├\n",
              "     └───┘┌─┴─┐ ░ ┌─┴─┐ ║ └╥┘\n",
              "q_2: ─────┤ X ├─░─┤ X ├─╫──╫─\n",
              "          └───┘ ░ └───┘ ║  ║ \n",
              "c: 4/═══════════════════╩══╩═\n",
              "                        0  1 </pre>"
            ]
          },
          "metadata": {},
          "execution_count": 15
        }
      ]
    },
    {
      "source": [
        "from qiskit import QuantumRegister, ClassicalRegister, QuantumCircuit\n",
        "from numpy import pi\n",
        "\n",
        "qreg_q = QuantumRegister(3, 'q')\n",
        "creg_c = ClassicalRegister(2, 'c')\n",
        "circuit = QuantumCircuit(qreg_q, creg_c)\n",
        "\n",
        "circuit.x(qreg_q[0])\n",
        "circuit.barrier()\n",
        "circuit.h(qreg_q[1])\n",
        "circuit.cx(qreg_q[1], qreg_q[2])\n",
        "circuit.cx(qreg_q[0], qreg_q[1])\n",
        "circuit.h(qreg_q[0])\n",
        "circuit.barrier()\n",
        "circuit.measure(qreg_q[0], creg_c[0])\n",
        "circuit.measure(qreg_q[1], creg_c[1])\n",
        "circuit.barrier()\n",
        "circuit.cx(qreg_q[1], qreg_q[2])\n",
        "circuit.cz(qreg_q[0], qreg_q[2])\n",
        "\n",
        "\n",
        "circuit.draw()"
      ],
      "cell_type": "code",
      "metadata": {
        "colab": {
          "base_uri": "https://localhost:8080/",
          "height": 156
        },
        "id": "5Y4K8uJH-hWj",
        "outputId": "5f2e94b4-cc8f-41a5-b3f1-34cb4193bf09"
      },
      "execution_count": null,
      "outputs": [
        {
          "output_type": "execute_result",
          "data": {
            "text/plain": [
              "     ┌───┐ ░                ┌───┐ ░ ┌─┐    ░         \n",
              "q_0: ┤ X ├─░─────────────■──┤ H ├─░─┤M├────░───────■─\n",
              "     └───┘ ░ ┌───┐     ┌─┴─┐└───┘ ░ └╥┘┌─┐ ░       │ \n",
              "q_1: ──────░─┤ H ├──■──┤ X ├──────░──╫─┤M├─░───■───┼─\n",
              "           ░ └───┘┌─┴─┐└───┘      ░  ║ └╥┘ ░ ┌─┴─┐ │ \n",
              "q_2: ──────░──────┤ X ├───────────░──╫──╫──░─┤ X ├─■─\n",
              "           ░      └───┘           ░  ║  ║  ░ └───┘   \n",
              "c: 2/════════════════════════════════╩══╩════════════\n",
              "                                     0  1            "
            ],
            "text/html": [
              "<pre style=\"word-wrap: normal;white-space: pre;background: #fff0;line-height: 1.1;font-family: &quot;Courier New&quot;,Courier,monospace\">     ┌───┐ ░                ┌───┐ ░ ┌─┐    ░         \n",
              "q_0: ┤ X ├─░─────────────■──┤ H ├─░─┤M├────░───────■─\n",
              "     └───┘ ░ ┌───┐     ┌─┴─┐└───┘ ░ └╥┘┌─┐ ░       │ \n",
              "q_1: ──────░─┤ H ├──■──┤ X ├──────░──╫─┤M├─░───■───┼─\n",
              "           ░ └───┘┌─┴─┐└───┘      ░  ║ └╥┘ ░ ┌─┴─┐ │ \n",
              "q_2: ──────░──────┤ X ├───────────░──╫──╫──░─┤ X ├─■─\n",
              "           ░      └───┘           ░  ║  ║  ░ └───┘   \n",
              "c: 2/════════════════════════════════╩══╩════════════\n",
              "                                     0  1            </pre>"
            ]
          },
          "metadata": {},
          "execution_count": 10
        }
      ]
    },
    {
      "cell_type": "code",
      "source": [
        "from qiskit import QuantumRegister, ClassicalRegister, QuantumCircuit\n",
        "from numpy import pi\n",
        "\n",
        "\n",
        "qreg_q = QuantumRegister(3, 'q')\n",
        "creg_c = ClassicalRegister(2, 'c')  # Only 2 classical bits are needed\n",
        "circuit = QuantumCircuit(qreg_q, creg_c)\n",
        "\n",
        "\n",
        "circuit.h(qreg_q[1])\n",
        "circuit.cx(qreg_q[1], qreg_q[2])\n",
        "circuit.barrier()\n",
        "circuit.cx(qreg_q[0], qreg_q[1])\n",
        "circuit.h(qreg_q[0])\n",
        "circuit.barrier()\n",
        "\n",
        "\n",
        "circuit.measure(qreg_q[0], creg_c[0])\n",
        "circuit.measure(qreg_q[1], creg_c[1])\n",
        "circuit.x(qreg_q[2]).c_if(creg_c[1], 1)\n",
        "circuit.z(qreg_q[2]).c_if(creg_c[0], 1)\n",
        "\n",
        "\n",
        "print(circuit.draw())"
      ],
      "metadata": {
        "colab": {
          "base_uri": "https://localhost:8080/"
        },
        "id": "TxZu2GMIdAbH",
        "outputId": "969e74ee-22c6-42a4-88a1-d912031c1b3b"
      },
      "execution_count": null,
      "outputs": [
        {
          "output_type": "stream",
          "name": "stdout",
          "text": [
            "                ░      ┌───┐ ░ ┌─┐                         \n",
            "q_0: ───────────░───■──┤ H ├─░─┤M├─────────────────────────\n",
            "     ┌───┐      ░ ┌─┴─┐└───┘ ░ └╥┘┌─┐                      \n",
            "q_1: ┤ H ├──■───░─┤ X ├──────░──╫─┤M├──────────────────────\n",
            "     └───┘┌─┴─┐ ░ └───┘      ░  ║ └╥┘   ┌───┐      ┌───┐   \n",
            "q_2: ─────┤ X ├─░────────────░──╫──╫────┤ X ├──────┤ Z ├───\n",
            "          └───┘ ░            ░  ║  ║    └─╥─┘      └─╥─┘   \n",
            "                                ║  ║ ┌────╨────┐┌────╨────┐\n",
            "c: 2/═══════════════════════════╩══╩═╡ c_1=0x1 ╞╡ c_0=0x1 ╞\n",
            "                                0  1 └─────────┘└─────────┘\n"
          ]
        }
      ]
    },
    {
      "cell_type": "code",
      "source": [
        "from qiskit import QuantumRegister, ClassicalRegister, QuantumCircuit\n",
        "from numpy import pi\n",
        "\n",
        "# Initialize Quantum and Classical Registers\n",
        "qreg_q = QuantumRegister(3, 'q')\n",
        "creg_c = ClassicalRegister(2, 'c')  # Adjusted to 2 classical bits\n",
        "circuit = QuantumCircuit(qreg_q, creg_c)\n",
        "\n",
        "# Step 1: Create entanglement between q1 and q2\n",
        "circuit.h(qreg_q[1])\n",
        "circuit.cx(qreg_q[1], qreg_q[2])\n",
        "\n",
        "# Step 2: Prepare the state to be teleported in q0\n",
        "circuit.h(qreg_q[0])  # Assuming you want to teleport |+> state; adjust as needed\n",
        "\n",
        "# Step 3: Bell-state measurement between q0 and q1\n",
        "circuit.cx(qreg_q[0], qreg_q[1])\n",
        "circuit.h(qreg_q[0])\n",
        "circuit.barrier()\n",
        "\n",
        "# Step 4: Measure qubits q0 and q1\n",
        "circuit.measure(qreg_q[0], creg_c[0])\n",
        "circuit.measure(qreg_q[1], creg_c[1])\n",
        "\n",
        "# Step 5: Apply conditional operations based on the classical bits\n",
        "circuit.x(qreg_q[2]).c_if(creg_c[1], 1)\n",
        "circuit.z(qreg_q[2]).c_if(creg_c[0], 1)\n",
        "\n",
        "\n",
        "print(circuit.draw())"
      ],
      "metadata": {
        "colab": {
          "base_uri": "https://localhost:8080/"
        },
        "id": "1fkbKJEAhDOI",
        "outputId": "ba7b2fa3-0854-4b86-e7a7-fef019a418fd"
      },
      "execution_count": null,
      "outputs": [
        {
          "output_type": "stream",
          "name": "stdout",
          "text": [
            "     ┌───┐          ┌───┐ ░ ┌─┐                         \n",
            "q_0: ┤ H ├───────■──┤ H ├─░─┤M├─────────────────────────\n",
            "     ├───┤     ┌─┴─┐└───┘ ░ └╥┘┌─┐                      \n",
            "q_1: ┤ H ├──■──┤ X ├──────░──╫─┤M├──────────────────────\n",
            "     └───┘┌─┴─┐└───┘      ░  ║ └╥┘   ┌───┐      ┌───┐   \n",
            "q_2: ─────┤ X ├───────────░──╫──╫────┤ X ├──────┤ Z ├───\n",
            "          └───┘           ░  ║  ║    └─╥─┘      └─╥─┘   \n",
            "                             ║  ║ ┌────╨────┐┌────╨────┐\n",
            "c: 2/════════════════════════╩══╩═╡ c_1=0x1 ╞╡ c_0=0x1 ╞\n",
            "                             0  1 └─────────┘└─────────┘\n"
          ]
        }
      ]
    },
    {
      "cell_type": "code",
      "source": [
        "from qiskit import QuantumRegister, ClassicalRegister, QuantumCircuit\n",
        "from numpy import pi\n",
        "\n",
        "qreg_q = QuantumRegister(3, 'q')\n",
        "creg_c = ClassicalRegister(2, 'c')\n",
        "circuit = QuantumCircuit(qreg_q, creg_c)\n",
        "\n",
        "circuit.h(qreg_q[1])\n",
        "circuit.cx(qreg_q[1], qreg_q[2])\n",
        "circuit.h(qreg_q[0])\n",
        "circuit.barrier(qreg_q[0], qreg_q[1], qreg_q[2])\n",
        "circuit.cx(qreg_q[0], qreg_q[1])\n",
        "circuit.h(qreg_q[0])\n",
        "circuit.barrier(qreg_q[0], qreg_q[1], qreg_q[2])\n",
        "circuit.measure(qreg_q[0], creg_c[0])\n",
        "circuit.measure(qreg_q[1], creg_c[1])\n",
        "circuit.x(qreg_q[2]).c_if(creg_c, 1)\n",
        "circuit.z(qreg_q[2]).c_if(creg_c, 2)\n",
        "\n",
        "circuit.draw()"
      ],
      "metadata": {
        "colab": {
          "base_uri": "https://localhost:8080/",
          "height": 171
        },
        "id": "kBVLYHy4G5Su",
        "outputId": "88c1f220-8b55-4f1f-84f8-99ec66fad7b5"
      },
      "execution_count": null,
      "outputs": [
        {
          "output_type": "execute_result",
          "data": {
            "text/plain": [
              "     ┌───┐      ░      ┌───┐ ░ ┌─┐                 \n",
              "q_0: ┤ H ├──────░───■──┤ H ├─░─┤M├─────────────────\n",
              "     ├───┤      ░ ┌─┴─┐└───┘ ░ └╥┘┌─┐              \n",
              "q_1: ┤ H ├──■───░─┤ X ├──────░──╫─┤M├──────────────\n",
              "     └───┘┌─┴─┐ ░ └───┘      ░  ║ └╥┘ ┌───┐  ┌───┐ \n",
              "q_2: ─────┤ X ├─░────────────░──╫──╫──┤ X ├──┤ Z ├─\n",
              "          └───┘ ░            ░  ║  ║  └─╥─┘  └─╥─┘ \n",
              "                                ║  ║ ┌──╨──┐┌──╨──┐\n",
              "c: 2/═══════════════════════════╩══╩═╡ 0x1 ╞╡ 0x2 ╞\n",
              "                                0  1 └─────┘└─────┘"
            ],
            "text/html": [
              "<pre style=\"word-wrap: normal;white-space: pre;background: #fff0;line-height: 1.1;font-family: &quot;Courier New&quot;,Courier,monospace\">     ┌───┐      ░      ┌───┐ ░ ┌─┐                 \n",
              "q_0: ┤ H ├──────░───■──┤ H ├─░─┤M├─────────────────\n",
              "     ├───┤      ░ ┌─┴─┐└───┘ ░ └╥┘┌─┐              \n",
              "q_1: ┤ H ├──■───░─┤ X ├──────░──╫─┤M├──────────────\n",
              "     └───┘┌─┴─┐ ░ └───┘      ░  ║ └╥┘ ┌───┐  ┌───┐ \n",
              "q_2: ─────┤ X ├─░────────────░──╫──╫──┤ X ├──┤ Z ├─\n",
              "          └───┘ ░            ░  ║  ║  └─╥─┘  └─╥─┘ \n",
              "                                ║  ║ ┌──╨──┐┌──╨──┐\n",
              "c: 2/═══════════════════════════╩══╩═╡ 0x1 ╞╡ 0x2 ╞\n",
              "                                0  1 └─────┘└─────┘</pre>"
            ]
          },
          "metadata": {},
          "execution_count": 5
        }
      ]
    },
    {
      "cell_type": "code",
      "source": [
        "from qiskit import QuantumRegister, ClassicalRegister, QuantumCircuit\n",
        "from numpy import pi\n",
        "\n",
        "qreg_q = QuantumRegister(3, 'q')\n",
        "creg_c = ClassicalRegister(2, 'c')\n",
        "circuit = QuantumCircuit(qreg_q, creg_c)\n",
        "\n",
        "# Apply Hadamard gates to all qubits\n",
        "circuit.h(qreg_q[0])\n",
        "circuit.h(qreg_q[1])\n",
        "circuit.h(qreg_q[2])\n",
        "# Grover's iterations\n",
        "# Iteration 1\n",
        "# Oracle\n",
        "circuit.cz(qreg_q[0], qreg_q[2])\n",
        "circuit.cz(qreg_q[1], qreg_q[2])\n",
        "# Diffusion\n",
        "circuit.h(qreg_q[0])\n",
        "circuit.h(qreg_q[1])\n",
        "circuit.h(qreg_q[2])\n",
        "circuit.x(qreg_q[0])\n",
        "circuit.x(qreg_q[1])\n",
        "circuit.x(qreg_q[2])\n",
        "circuit.h(qreg_q[2])\n",
        "circuit.ccx(qreg_q[0], qreg_q[1], qreg_q[2])\n",
        "circuit.h(qreg_q[2])\n",
        "circuit.x(qreg_q[0])\n",
        "circuit.x(qreg_q[1])\n",
        "circuit.x(qreg_q[2])\n",
        "circuit.h(qreg_q[0])\n",
        "circuit.h(qreg_q[1])\n",
        "circuit.h(qreg_q[2])\n",
        "# Iteration 2 (Repeat of Iteration 1)\n",
        "circuit.cz(qreg_q[0], qreg_q[2])\n",
        "circuit.cz(qreg_q[1], qreg_q[2])\n",
        "circuit.h(qreg_q[0])\n",
        "circuit.h(qreg_q[1])\n",
        "circuit.h(qreg_q[2])\n",
        "circuit.x(qreg_q[0])\n",
        "circuit.x(qreg_q[1])\n",
        "circuit.x(qreg_q[2])\n",
        "circuit.h(qreg_q[2])\n",
        "circuit.ccx(qreg_q[0], qreg_q[1], qreg_q[2])\n",
        "circuit.h(qreg_q[2])\n",
        "circuit.x(qreg_q[0])\n",
        "circuit.x(qreg_q[1])\n",
        "circuit.x(qreg_q[2])\n",
        "circuit.h(qreg_q[0])\n",
        "circuit.h(qreg_q[1])\n",
        "circuit.h(qreg_q[2])\n",
        "# Measure qubits\n",
        "circuit.measure(qreg_q[0], creg_c[0])\n",
        "circuit.measure(qreg_q[1], creg_c[1])\n",
        "\n",
        "circuit.draw()"
      ],
      "metadata": {
        "colab": {
          "base_uri": "https://localhost:8080/",
          "height": 294
        },
        "id": "ggbGJeU4KbRH",
        "outputId": "bc5032c3-b376-4e5e-faf1-95c33df543d1"
      },
      "execution_count": null,
      "outputs": [
        {
          "output_type": "execute_result",
          "data": {
            "text/plain": [
              "     ┌───┐   ┌───┐┌───┐               ┌───┐┌───┐        ┌───┐┌───┐          »\n",
              "q_0: ┤ H ├─■─┤ H ├┤ X ├────────────■──┤ X ├┤ H ├──────■─┤ H ├┤ X ├──────────»\n",
              "     ├───┤ │ └───┘├───┤┌───┐       │  ├───┤├───┤      │ └───┘├───┤┌───┐     »\n",
              "q_1: ┤ H ├─┼───■──┤ H ├┤ X ├───────■──┤ X ├┤ H ├──────┼───■──┤ H ├┤ X ├─────»\n",
              "     ├───┤ │   │  ├───┤├───┤┌───┐┌─┴─┐├───┤├───┤┌───┐ │   │  ├───┤├───┤┌───┐»\n",
              "q_2: ┤ H ├─■───■──┤ H ├┤ X ├┤ H ├┤ X ├┤ H ├┤ X ├┤ H ├─■───■──┤ H ├┤ X ├┤ H ├»\n",
              "     └───┘        └───┘└───┘└───┘└───┘└───┘└───┘└───┘        └───┘└───┘└───┘»\n",
              "c: 2/═══════════════════════════════════════════════════════════════════════»\n",
              "                                                                            »\n",
              "«          ┌───┐┌───┐     ┌─┐   \n",
              "«q_0: ──■──┤ X ├┤ H ├─────┤M├───\n",
              "«       │  ├───┤├───┤     └╥┘┌─┐\n",
              "«q_1: ──■──┤ X ├┤ H ├──────╫─┤M├\n",
              "«     ┌─┴─┐├───┤├───┤┌───┐ ║ └╥┘\n",
              "«q_2: ┤ X ├┤ H ├┤ X ├┤ H ├─╫──╫─\n",
              "«     └───┘└───┘└───┘└───┘ ║  ║ \n",
              "«c: 2/═════════════════════╩══╩═\n",
              "«                          0  1 "
            ],
            "text/html": [
              "<pre style=\"word-wrap: normal;white-space: pre;background: #fff0;line-height: 1.1;font-family: &quot;Courier New&quot;,Courier,monospace\">     ┌───┐   ┌───┐┌───┐               ┌───┐┌───┐        ┌───┐┌───┐          »\n",
              "q_0: ┤ H ├─■─┤ H ├┤ X ├────────────■──┤ X ├┤ H ├──────■─┤ H ├┤ X ├──────────»\n",
              "     ├───┤ │ └───┘├───┤┌───┐       │  ├───┤├───┤      │ └───┘├───┤┌───┐     »\n",
              "q_1: ┤ H ├─┼───■──┤ H ├┤ X ├───────■──┤ X ├┤ H ├──────┼───■──┤ H ├┤ X ├─────»\n",
              "     ├───┤ │   │  ├───┤├───┤┌───┐┌─┴─┐├───┤├───┤┌───┐ │   │  ├───┤├───┤┌───┐»\n",
              "q_2: ┤ H ├─■───■──┤ H ├┤ X ├┤ H ├┤ X ├┤ H ├┤ X ├┤ H ├─■───■──┤ H ├┤ X ├┤ H ├»\n",
              "     └───┘        └───┘└───┘└───┘└───┘└───┘└───┘└───┘        └───┘└───┘└───┘»\n",
              "c: 2/═══════════════════════════════════════════════════════════════════════»\n",
              "                                                                            »\n",
              "«          ┌───┐┌───┐     ┌─┐   \n",
              "«q_0: ──■──┤ X ├┤ H ├─────┤M├───\n",
              "«       │  ├───┤├───┤     └╥┘┌─┐\n",
              "«q_1: ──■──┤ X ├┤ H ├──────╫─┤M├\n",
              "«     ┌─┴─┐├───┤├───┤┌───┐ ║ └╥┘\n",
              "«q_2: ┤ X ├┤ H ├┤ X ├┤ H ├─╫──╫─\n",
              "«     └───┘└───┘└───┘└───┘ ║  ║ \n",
              "«c: 2/═════════════════════╩══╩═\n",
              "«                          0  1 </pre>"
            ]
          },
          "metadata": {},
          "execution_count": 6
        }
      ]
    },
    {
      "cell_type": "markdown",
      "source": [],
      "metadata": {
        "id": "iahzBcy4Deu1"
      }
    },
    {
      "cell_type": "markdown",
      "source": [],
      "metadata": {
        "id": "5SqoXw4FDgy9"
      }
    },
    {
      "cell_type": "code",
      "source": [
        "pip install qiskit-ibm-runtime"
      ],
      "metadata": {
        "colab": {
          "base_uri": "https://localhost:8080/"
        },
        "id": "H2fneMTE46E0",
        "outputId": "65f3c70e-92c4-43f0-ab26-15bbd20d9272"
      },
      "execution_count": null,
      "outputs": [
        {
          "output_type": "stream",
          "name": "stdout",
          "text": [
            "Collecting qiskit-ibm-runtime\n",
            "  Downloading qiskit_ibm_runtime-0.22.0-py3-none-any.whl (3.0 MB)\n",
            "\u001b[?25l     \u001b[90m━━━━━━━━━━━━━━━━━━━━━━━━━━━━━━━━━━━━━━━━\u001b[0m \u001b[32m0.0/3.0 MB\u001b[0m \u001b[31m?\u001b[0m eta \u001b[36m-:--:--\u001b[0m\r\u001b[2K     \u001b[91m╸\u001b[0m\u001b[90m━━━━━━━━━━━━━━━━━━━━━━━━━━━━━━━━━━━━━━━\u001b[0m \u001b[32m0.1/3.0 MB\u001b[0m \u001b[31m1.6 MB/s\u001b[0m eta \u001b[36m0:00:02\u001b[0m\r\u001b[2K     \u001b[91m━━━━━━━━━━━━━━━━━━━━━\u001b[0m\u001b[90m╺\u001b[0m\u001b[90m━━━━━━━━━━━━━━━━━━\u001b[0m \u001b[32m1.6/3.0 MB\u001b[0m \u001b[31m22.5 MB/s\u001b[0m eta \u001b[36m0:00:01\u001b[0m\r\u001b[2K     \u001b[91m━━━━━━━━━━━━━━━━━━━━━━━━━━━━━━━━━━━━━━━\u001b[0m\u001b[91m╸\u001b[0m \u001b[32m3.0/3.0 MB\u001b[0m \u001b[31m33.9 MB/s\u001b[0m eta \u001b[36m0:00:01\u001b[0m\r\u001b[2K     \u001b[90m━━━━━━━━━━━━━━━━━━━━━━━━━━━━━━━━━━━━━━━━\u001b[0m \u001b[32m3.0/3.0 MB\u001b[0m \u001b[31m24.7 MB/s\u001b[0m eta \u001b[36m0:00:00\u001b[0m\n",
            "\u001b[?25hRequirement already satisfied: requests>=2.19 in /usr/local/lib/python3.10/dist-packages (from qiskit-ibm-runtime) (2.31.0)\n",
            "Requirement already satisfied: requests-ntlm>=1.1.0 in /usr/local/lib/python3.10/dist-packages (from qiskit-ibm-runtime) (1.1.0)\n",
            "Requirement already satisfied: numpy>=1.13 in /usr/local/lib/python3.10/dist-packages (from qiskit-ibm-runtime) (1.23.5)\n",
            "Requirement already satisfied: urllib3>=1.21.1 in /usr/local/lib/python3.10/dist-packages (from qiskit-ibm-runtime) (2.0.7)\n",
            "Requirement already satisfied: python-dateutil>=2.8.0 in /usr/local/lib/python3.10/dist-packages (from qiskit-ibm-runtime) (2.8.2)\n",
            "Requirement already satisfied: websocket-client>=1.5.1 in /usr/local/lib/python3.10/dist-packages (from qiskit-ibm-runtime) (1.7.0)\n",
            "Collecting ibm-platform-services>=0.22.6 (from qiskit-ibm-runtime)\n",
            "  Downloading ibm-platform-services-0.53.2.tar.gz (318 kB)\n",
            "\u001b[2K     \u001b[90m━━━━━━━━━━━━━━━━━━━━━━━━━━━━━━━━━━━━━━━━\u001b[0m \u001b[32m318.0/318.0 kB\u001b[0m \u001b[31m24.1 MB/s\u001b[0m eta \u001b[36m0:00:00\u001b[0m\n",
            "\u001b[?25h  Installing build dependencies ... \u001b[?25l\u001b[?25hdone\n",
            "  Getting requirements to build wheel ... \u001b[?25l\u001b[?25hdone\n",
            "  Preparing metadata (pyproject.toml) ... \u001b[?25l\u001b[?25hdone\n",
            "Requirement already satisfied: pydantic in /usr/local/lib/python3.10/dist-packages (from qiskit-ibm-runtime) (2.6.4)\n",
            "Collecting qiskit>=1.0.0 (from qiskit-ibm-runtime)\n",
            "  Downloading qiskit-1.0.2-cp38-abi3-manylinux_2_17_x86_64.manylinux2014_x86_64.whl (5.6 MB)\n",
            "\u001b[2K     \u001b[90m━━━━━━━━━━━━━━━━━━━━━━━━━━━━━━━━━━━━━━━━\u001b[0m \u001b[32m5.6/5.6 MB\u001b[0m \u001b[31m71.4 MB/s\u001b[0m eta \u001b[36m0:00:00\u001b[0m\n",
            "\u001b[?25hCollecting ibm-cloud-sdk-core<4.0.0,>=3.19.2 (from ibm-platform-services>=0.22.6->qiskit-ibm-runtime)\n",
            "  Downloading ibm-cloud-sdk-core-3.19.2.tar.gz (61 kB)\n",
            "\u001b[2K     \u001b[90m━━━━━━━━━━━━━━━━━━━━━━━━━━━━━━━━━━━━━━━━\u001b[0m \u001b[32m62.0/62.0 kB\u001b[0m \u001b[31m9.8 MB/s\u001b[0m eta \u001b[36m0:00:00\u001b[0m\n",
            "\u001b[?25h  Installing build dependencies ... \u001b[?25l\u001b[?25hdone\n",
            "  Getting requirements to build wheel ... \u001b[?25l\u001b[?25hdone\n",
            "  Preparing metadata (pyproject.toml) ... \u001b[?25l\u001b[?25hdone\n",
            "Requirement already satisfied: six>=1.5 in /usr/local/lib/python3.10/dist-packages (from python-dateutil>=2.8.0->qiskit-ibm-runtime) (1.16.0)\n",
            "Requirement already satisfied: rustworkx>=0.14.0 in /usr/local/lib/python3.10/dist-packages (from qiskit>=1.0.0->qiskit-ibm-runtime) (0.14.2)\n",
            "Requirement already satisfied: scipy>=1.5 in /usr/local/lib/python3.10/dist-packages (from qiskit>=1.0.0->qiskit-ibm-runtime) (1.11.4)\n",
            "Requirement already satisfied: sympy>=1.3 in /usr/local/lib/python3.10/dist-packages (from qiskit>=1.0.0->qiskit-ibm-runtime) (1.12)\n",
            "Requirement already satisfied: dill>=0.3 in /usr/local/lib/python3.10/dist-packages (from qiskit>=1.0.0->qiskit-ibm-runtime) (0.3.8)\n",
            "Requirement already satisfied: stevedore>=3.0.0 in /usr/local/lib/python3.10/dist-packages (from qiskit>=1.0.0->qiskit-ibm-runtime) (5.2.0)\n",
            "Requirement already satisfied: typing-extensions in /usr/local/lib/python3.10/dist-packages (from qiskit>=1.0.0->qiskit-ibm-runtime) (4.10.0)\n",
            "Requirement already satisfied: symengine>=0.11 in /usr/local/lib/python3.10/dist-packages (from qiskit>=1.0.0->qiskit-ibm-runtime) (0.11.0)\n",
            "Requirement already satisfied: charset-normalizer<4,>=2 in /usr/local/lib/python3.10/dist-packages (from requests>=2.19->qiskit-ibm-runtime) (3.3.2)\n",
            "Requirement already satisfied: idna<4,>=2.5 in /usr/local/lib/python3.10/dist-packages (from requests>=2.19->qiskit-ibm-runtime) (3.6)\n",
            "Requirement already satisfied: certifi>=2017.4.17 in /usr/local/lib/python3.10/dist-packages (from requests>=2.19->qiskit-ibm-runtime) (2024.2.2)\n",
            "Requirement already satisfied: ntlm-auth>=1.0.2 in /usr/local/lib/python3.10/dist-packages (from requests-ntlm>=1.1.0->qiskit-ibm-runtime) (1.5.0)\n",
            "Requirement already satisfied: cryptography>=1.3 in /usr/local/lib/python3.10/dist-packages (from requests-ntlm>=1.1.0->qiskit-ibm-runtime) (42.0.5)\n",
            "Requirement already satisfied: annotated-types>=0.4.0 in /usr/local/lib/python3.10/dist-packages (from pydantic->qiskit-ibm-runtime) (0.6.0)\n",
            "Requirement already satisfied: pydantic-core==2.16.3 in /usr/local/lib/python3.10/dist-packages (from pydantic->qiskit-ibm-runtime) (2.16.3)\n",
            "Requirement already satisfied: cffi>=1.12 in /usr/local/lib/python3.10/dist-packages (from cryptography>=1.3->requests-ntlm>=1.1.0->qiskit-ibm-runtime) (1.16.0)\n",
            "Collecting urllib3>=1.21.1 (from qiskit-ibm-runtime)\n",
            "  Downloading urllib3-2.2.1-py3-none-any.whl (121 kB)\n",
            "\u001b[2K     \u001b[90m━━━━━━━━━━━━━━━━━━━━━━━━━━━━━━━━━━━━━━━━\u001b[0m \u001b[32m121.1/121.1 kB\u001b[0m \u001b[31m17.6 MB/s\u001b[0m eta \u001b[36m0:00:00\u001b[0m\n",
            "\u001b[?25hCollecting PyJWT<3.0.0,>=2.8.0 (from ibm-cloud-sdk-core<4.0.0,>=3.19.2->ibm-platform-services>=0.22.6->qiskit-ibm-runtime)\n",
            "  Downloading PyJWT-2.8.0-py3-none-any.whl (22 kB)\n",
            "Requirement already satisfied: pbr!=2.1.0,>=2.0.0 in /usr/local/lib/python3.10/dist-packages (from stevedore>=3.0.0->qiskit>=1.0.0->qiskit-ibm-runtime) (6.0.0)\n",
            "Requirement already satisfied: mpmath>=0.19 in /usr/local/lib/python3.10/dist-packages (from sympy>=1.3->qiskit>=1.0.0->qiskit-ibm-runtime) (1.3.0)\n",
            "Requirement already satisfied: pycparser in /usr/local/lib/python3.10/dist-packages (from cffi>=1.12->cryptography>=1.3->requests-ntlm>=1.1.0->qiskit-ibm-runtime) (2.22)\n",
            "Building wheels for collected packages: ibm-platform-services, ibm-cloud-sdk-core\n",
            "  Building wheel for ibm-platform-services (pyproject.toml) ... \u001b[?25l\u001b[?25hdone\n",
            "  Created wheel for ibm-platform-services: filename=ibm_platform_services-0.53.2-py3-none-any.whl size=333970 sha256=60abe2e2bf6a219b7c28f7224c4ab7c972c0cca52b3734809e76ad783d262dda\n",
            "  Stored in directory: /root/.cache/pip/wheels/9b/ad/11/c59945ca0d5d34da7156493772d4ee722f6454fd56269b49bb\n",
            "  Building wheel for ibm-cloud-sdk-core (pyproject.toml) ... \u001b[?25l\u001b[?25hdone\n",
            "  Created wheel for ibm-cloud-sdk-core: filename=ibm_cloud_sdk_core-3.19.2-py3-none-any.whl size=98827 sha256=1f30a3cbbd0e5eac6619d61f3388650dd1d6f0c0f8165ae7dbe46105e41f4f11\n",
            "  Stored in directory: /root/.cache/pip/wheels/90/05/db/f544eb28b85089bf6cf29cb9e30f56b471bf59d56a46c92519\n",
            "Successfully built ibm-platform-services ibm-cloud-sdk-core\n",
            "Installing collected packages: urllib3, PyJWT, qiskit, ibm-cloud-sdk-core, ibm-platform-services, qiskit-ibm-runtime\n",
            "  Attempting uninstall: urllib3\n",
            "    Found existing installation: urllib3 2.0.7\n",
            "    Uninstalling urllib3-2.0.7:\n",
            "      Successfully uninstalled urllib3-2.0.7\n",
            "  Attempting uninstall: PyJWT\n",
            "    Found existing installation: PyJWT 2.3.0\n",
            "    Uninstalling PyJWT-2.3.0:\n",
            "      Successfully uninstalled PyJWT-2.3.0\n",
            "Successfully installed PyJWT-2.8.0 ibm-cloud-sdk-core-3.19.2 ibm-platform-services-0.53.2 qiskit-1.0.2 qiskit-ibm-runtime-0.22.0 urllib3-2.2.1\n"
          ]
        }
      ]
    },
    {
      "cell_type": "code",
      "source": [
        "pip install qiskit-ibm-provider"
      ],
      "metadata": {
        "colab": {
          "base_uri": "https://localhost:8080/"
        },
        "id": "7vwt34hs7ATo",
        "outputId": "db9bbc7a-b57b-4437-9426-19339114642b"
      },
      "execution_count": null,
      "outputs": [
        {
          "output_type": "stream",
          "name": "stdout",
          "text": [
            "Collecting qiskit-ibm-provider\n",
            "  Downloading qiskit_ibm_provider-0.10.0-py3-none-any.whl (249 kB)\n",
            "\u001b[2K     \u001b[90m━━━━━━━━━━━━━━━━━━━━━━━━━━━━━━━━━━━━━━━━\u001b[0m \u001b[32m249.6/249.6 kB\u001b[0m \u001b[31m1.9 MB/s\u001b[0m eta \u001b[36m0:00:00\u001b[0m\n",
            "\u001b[?25hCollecting qiskit>=0.45.0 (from qiskit-ibm-provider)\n",
            "  Downloading qiskit-1.0.2-cp38-abi3-manylinux_2_17_x86_64.manylinux2014_x86_64.whl (5.6 MB)\n",
            "\u001b[2K     \u001b[90m━━━━━━━━━━━━━━━━━━━━━━━━━━━━━━━━━━━━━━━━\u001b[0m \u001b[32m5.6/5.6 MB\u001b[0m \u001b[31m16.3 MB/s\u001b[0m eta \u001b[36m0:00:00\u001b[0m\n",
            "\u001b[?25hRequirement already satisfied: requests>=2.19 in /usr/local/lib/python3.10/dist-packages (from qiskit-ibm-provider) (2.31.0)\n",
            "Collecting requests-ntlm>=1.1.0 (from qiskit-ibm-provider)\n",
            "  Downloading requests_ntlm-1.2.0-py3-none-any.whl (6.0 kB)\n",
            "Requirement already satisfied: numpy>=1.13 in /usr/local/lib/python3.10/dist-packages (from qiskit-ibm-provider) (1.25.2)\n",
            "Requirement already satisfied: urllib3>=1.21.1 in /usr/local/lib/python3.10/dist-packages (from qiskit-ibm-provider) (2.0.7)\n",
            "Requirement already satisfied: python-dateutil>=2.8.0 in /usr/local/lib/python3.10/dist-packages (from qiskit-ibm-provider) (2.8.2)\n",
            "Requirement already satisfied: websocket-client>=1.5.1 in /usr/local/lib/python3.10/dist-packages (from qiskit-ibm-provider) (1.7.0)\n",
            "Collecting websockets>=10.0 (from qiskit-ibm-provider)\n",
            "  Downloading websockets-12.0-cp310-cp310-manylinux_2_5_x86_64.manylinux1_x86_64.manylinux_2_17_x86_64.manylinux2014_x86_64.whl (130 kB)\n",
            "\u001b[2K     \u001b[90m━━━━━━━━━━━━━━━━━━━━━━━━━━━━━━━━━━━━━━━━\u001b[0m \u001b[32m130.2/130.2 kB\u001b[0m \u001b[31m5.2 MB/s\u001b[0m eta \u001b[36m0:00:00\u001b[0m\n",
            "\u001b[?25hRequirement already satisfied: typing-extensions>=4.3 in /usr/local/lib/python3.10/dist-packages (from qiskit-ibm-provider) (4.10.0)\n",
            "Requirement already satisfied: six>=1.5 in /usr/local/lib/python3.10/dist-packages (from python-dateutil>=2.8.0->qiskit-ibm-provider) (1.16.0)\n",
            "Collecting rustworkx>=0.14.0 (from qiskit>=0.45.0->qiskit-ibm-provider)\n",
            "  Downloading rustworkx-0.14.2-cp310-cp310-manylinux_2_17_x86_64.manylinux2014_x86_64.whl (2.1 MB)\n",
            "\u001b[2K     \u001b[90m━━━━━━━━━━━━━━━━━━━━━━━━━━━━━━━━━━━━━━━━\u001b[0m \u001b[32m2.1/2.1 MB\u001b[0m \u001b[31m27.2 MB/s\u001b[0m eta \u001b[36m0:00:00\u001b[0m\n",
            "\u001b[?25hRequirement already satisfied: scipy>=1.5 in /usr/local/lib/python3.10/dist-packages (from qiskit>=0.45.0->qiskit-ibm-provider) (1.11.4)\n",
            "Requirement already satisfied: sympy>=1.3 in /usr/local/lib/python3.10/dist-packages (from qiskit>=0.45.0->qiskit-ibm-provider) (1.12)\n",
            "Collecting dill>=0.3 (from qiskit>=0.45.0->qiskit-ibm-provider)\n",
            "  Downloading dill-0.3.8-py3-none-any.whl (116 kB)\n",
            "\u001b[2K     \u001b[90m━━━━━━━━━━━━━━━━━━━━━━━━━━━━━━━━━━━━━━━━\u001b[0m \u001b[32m116.3/116.3 kB\u001b[0m \u001b[31m9.2 MB/s\u001b[0m eta \u001b[36m0:00:00\u001b[0m\n",
            "\u001b[?25hCollecting stevedore>=3.0.0 (from qiskit>=0.45.0->qiskit-ibm-provider)\n",
            "  Downloading stevedore-5.2.0-py3-none-any.whl (49 kB)\n",
            "\u001b[2K     \u001b[90m━━━━━━━━━━━━━━━━━━━━━━━━━━━━━━━━━━━━━━━━\u001b[0m \u001b[32m49.7/49.7 kB\u001b[0m \u001b[31m3.5 MB/s\u001b[0m eta \u001b[36m0:00:00\u001b[0m\n",
            "\u001b[?25hCollecting symengine>=0.11 (from qiskit>=0.45.0->qiskit-ibm-provider)\n",
            "  Downloading symengine-0.11.0-cp310-cp310-manylinux_2_12_x86_64.manylinux2010_x86_64.whl (39.4 MB)\n",
            "\u001b[2K     \u001b[90m━━━━━━━━━━━━━━━━━━━━━━━━━━━━━━━━━━━━━━━━\u001b[0m \u001b[32m39.4/39.4 MB\u001b[0m \u001b[31m8.2 MB/s\u001b[0m eta \u001b[36m0:00:00\u001b[0m\n",
            "\u001b[?25hRequirement already satisfied: charset-normalizer<4,>=2 in /usr/local/lib/python3.10/dist-packages (from requests>=2.19->qiskit-ibm-provider) (3.3.2)\n",
            "Requirement already satisfied: idna<4,>=2.5 in /usr/local/lib/python3.10/dist-packages (from requests>=2.19->qiskit-ibm-provider) (3.6)\n",
            "Requirement already satisfied: certifi>=2017.4.17 in /usr/local/lib/python3.10/dist-packages (from requests>=2.19->qiskit-ibm-provider) (2024.2.2)\n",
            "Requirement already satisfied: cryptography>=1.3 in /usr/local/lib/python3.10/dist-packages (from requests-ntlm>=1.1.0->qiskit-ibm-provider) (42.0.5)\n",
            "Collecting pyspnego>=0.1.6 (from requests-ntlm>=1.1.0->qiskit-ibm-provider)\n",
            "  Downloading pyspnego-0.10.2-py3-none-any.whl (129 kB)\n",
            "\u001b[2K     \u001b[90m━━━━━━━━━━━━━━━━━━━━━━━━━━━━━━━━━━━━━━━━\u001b[0m \u001b[32m129.9/129.9 kB\u001b[0m \u001b[31m8.7 MB/s\u001b[0m eta \u001b[36m0:00:00\u001b[0m\n",
            "\u001b[?25hRequirement already satisfied: cffi>=1.12 in /usr/local/lib/python3.10/dist-packages (from cryptography>=1.3->requests-ntlm>=1.1.0->qiskit-ibm-provider) (1.16.0)\n",
            "Collecting pbr!=2.1.0,>=2.0.0 (from stevedore>=3.0.0->qiskit>=0.45.0->qiskit-ibm-provider)\n",
            "  Downloading pbr-6.0.0-py2.py3-none-any.whl (107 kB)\n",
            "\u001b[2K     \u001b[90m━━━━━━━━━━━━━━━━━━━━━━━━━━━━━━━━━━━━━━━━\u001b[0m \u001b[32m107.5/107.5 kB\u001b[0m \u001b[31m7.0 MB/s\u001b[0m eta \u001b[36m0:00:00\u001b[0m\n",
            "\u001b[?25hRequirement already satisfied: mpmath>=0.19 in /usr/local/lib/python3.10/dist-packages (from sympy>=1.3->qiskit>=0.45.0->qiskit-ibm-provider) (1.3.0)\n",
            "Requirement already satisfied: pycparser in /usr/local/lib/python3.10/dist-packages (from cffi>=1.12->cryptography>=1.3->requests-ntlm>=1.1.0->qiskit-ibm-provider) (2.22)\n",
            "Installing collected packages: websockets, symengine, rustworkx, pbr, dill, stevedore, qiskit, pyspnego, requests-ntlm, qiskit-ibm-provider\n",
            "Successfully installed dill-0.3.8 pbr-6.0.0 pyspnego-0.10.2 qiskit-1.0.2 qiskit-ibm-provider-0.10.0 requests-ntlm-1.2.0 rustworkx-0.14.2 stevedore-5.2.0 symengine-0.11.0 websockets-12.0\n"
          ]
        }
      ]
    },
    {
      "cell_type": "code",
      "source": [
        "\n",
        "from qiskit import QuantumCircuit, QuantumRegister, ClassicalRegister\n",
        "\n",
        "qr = QuantumRegister(1, name=\"Photon qubit\")\n",
        "cr = ClassicalRegister(1, name=\"Screen\")\n",
        "qc = QuantumCircuit(qr, cr)\n",
        "\n",
        "# Apply the Hadamard gate to create a superposition of paths\n",
        "qc.h(0)\n",
        "\n",
        "# Apply another Hadamard gate to combine the paths\n",
        "qc.h(0)\n",
        "\n",
        "\n",
        "qc.measure(0, 0)\n",
        "\n",
        "qc.draw()"
      ],
      "metadata": {
        "colab": {
          "base_uri": "https://localhost:8080/",
          "height": 94
        },
        "id": "WHIaXzJdDux-",
        "outputId": "158a707f-a255-43b7-d72c-29e93749588c"
      },
      "execution_count": null,
      "outputs": [
        {
          "output_type": "execute_result",
          "data": {
            "text/plain": [
              "              ┌───┐┌───┐┌─┐\n",
              "Photon qubit: ┤ H ├┤ H ├┤M├\n",
              "              └───┘└───┘└╥┘\n",
              "    Screen: 1/═══════════╩═\n",
              "                         0 "
            ],
            "text/html": [
              "<pre style=\"word-wrap: normal;white-space: pre;background: #fff0;line-height: 1.1;font-family: &quot;Courier New&quot;,Courier,monospace\">              ┌───┐┌───┐┌─┐\n",
              "Photon qubit: ┤ H ├┤ H ├┤M├\n",
              "              └───┘└───┘└╥┘\n",
              "    Screen: 1/═══════════╩═\n",
              "                         0 </pre>"
            ]
          },
          "metadata": {},
          "execution_count": 4
        }
      ]
    },
    {
      "cell_type": "code",
      "source": [
        "cr2 = ClassicalRegister(1, name=\"Classical path detector\")\n",
        "\n",
        "qc_case2 = QuantumCircuit(qr, cr2, cr)\n",
        "\n",
        "\n",
        "qc_case2.h(0)\n",
        "\n",
        "# Measure the qubit, collapsing the superposition\n",
        "qc_case2.measure(0, 0)\n",
        "\n",
        "\n",
        "qc_case2.h(0)\n",
        "\n",
        "\n",
        "qc_case2.measure(0, 1)\n",
        "\n",
        "qc_case2.draw()"
      ],
      "metadata": {
        "colab": {
          "base_uri": "https://localhost:8080/",
          "height": 125
        },
        "id": "Td1uhQZ-Kis5",
        "outputId": "996e62f9-40ee-4659-b87f-b9326db04f25"
      },
      "execution_count": null,
      "outputs": [
        {
          "output_type": "execute_result",
          "data": {
            "text/plain": [
              "                           ┌───┐┌─┐┌───┐┌─┐\n",
              "             Photon qubit: ┤ H ├┤M├┤ H ├┤M├\n",
              "                           └───┘└╥┘└───┘└╥┘\n",
              "Classical path detector: 1/══════╩═══════╬═\n",
              "                                 0       ║ \n",
              "                 Screen: 1/══════════════╩═\n",
              "                                         0 "
            ],
            "text/html": [
              "<pre style=\"word-wrap: normal;white-space: pre;background: #fff0;line-height: 1.1;font-family: &quot;Courier New&quot;,Courier,monospace\">                           ┌───┐┌─┐┌───┐┌─┐\n",
              "             Photon qubit: ┤ H ├┤M├┤ H ├┤M├\n",
              "                           └───┘└╥┘└───┘└╥┘\n",
              "Classical path detector: 1/══════╩═══════╬═\n",
              "                                 0       ║ \n",
              "                 Screen: 1/══════════════╩═\n",
              "                                         0 </pre>"
            ]
          },
          "metadata": {},
          "execution_count": 8
        }
      ]
    },
    {
      "cell_type": "code",
      "source": [
        "qr3 = QuantumRegister(1, name=\"Qubit\")\n",
        "qc_case4 = QuantumCircuit(qr, qr3, cr)\n",
        "\n",
        "# Apply the Hadamard gate to create a superposition of paths\n",
        "qc_case4.h(0)\n",
        "\n",
        "qc_case4.cz(0, 1)\n",
        "\n",
        "\n",
        "qc_case4.h(0)\n",
        "\n",
        "\n",
        "qc_case4.measure(0, 0)\n",
        "\n",
        "qc_case4.draw()"
      ],
      "metadata": {
        "colab": {
          "base_uri": "https://localhost:8080/",
          "height": 125
        },
        "id": "dKVd87mfK7Zw",
        "outputId": "ac94b2de-9ed1-4b3c-d6bf-25a9861893f1"
      },
      "execution_count": null,
      "outputs": [
        {
          "output_type": "execute_result",
          "data": {
            "text/plain": [
              "              ┌───┐   ┌───┐┌─┐\n",
              "Photon qubit: ┤ H ├─■─┤ H ├┤M├\n",
              "              └───┘ │ └───┘└╥┘\n",
              "       Qubit: ──────■───────╫─\n",
              "                            ║ \n",
              "    Screen: 1/══════════════╩═\n",
              "                            0 "
            ],
            "text/html": [
              "<pre style=\"word-wrap: normal;white-space: pre;background: #fff0;line-height: 1.1;font-family: &quot;Courier New&quot;,Courier,monospace\">              ┌───┐   ┌───┐┌─┐\n",
              "Photon qubit: ┤ H ├─■─┤ H ├┤M├\n",
              "              └───┘ │ └───┘└╥┘\n",
              "       Qubit: ──────■───────╫─\n",
              "                            ║ \n",
              "    Screen: 1/══════════════╩═\n",
              "                            0 </pre>"
            ]
          },
          "metadata": {},
          "execution_count": 26
        }
      ]
    },
    {
      "cell_type": "code",
      "source": [
        "from qiskit import QuantumRegister, ClassicalRegister, QuantumCircuit\n",
        "from numpy import pi\n",
        "\n",
        "qr = QuantumRegister(3, 'baltimore')\n",
        "cr = ClassicalRegister(2, 'bethesda')\n",
        "qr3 = QuantumRegister(1, 'rockville')\n",
        "\n",
        "qc = QuantumCircuit(qr, cr, qr3)\n",
        "\n",
        "# Create entanglement between qr[0] and qr[1]\n",
        "qc.h(qr[0])\n",
        "qc.cx(qr[0], qr[1])\n",
        "\n",
        "qc.h(qr[1])\n",
        "qc.cx(qr[1], qr[2])\n",
        "qc.h(qr[0])\n",
        "qc.barrier(qr[0], qr[1], qr[2])\n",
        "qc.cx(qr[0], qr[1])\n",
        "qc.h(qr[0])\n",
        "qc.barrier(qr[0], qr[1], qr[2])\n",
        "qc.measure(qr[0], cr[0])\n",
        "qc.measure(qr[1], cr[1])\n",
        "qc.x(qr[2]).c_if(cr, 1)\n",
        "qc.z(qr[2]).c_if(cr, 2)\n",
        "\n",
        "qc.draw()"
      ],
      "metadata": {
        "colab": {
          "base_uri": "https://localhost:8080/",
          "height": 206
        },
        "id": "ZmX5TV4qdQRF",
        "outputId": "0b89f09d-01ef-4547-94c8-d365e50cbb93"
      },
      "execution_count": null,
      "outputs": [
        {
          "output_type": "execute_result",
          "data": {
            "text/plain": [
              "             ┌───┐     ┌───┐      ░      ┌───┐ ░ ┌─┐                 \n",
              "baltimore_0: ┤ H ├──■──┤ H ├──────░───■──┤ H ├─░─┤M├─────────────────\n",
              "             └───┘┌─┴─┐├───┤      ░ ┌─┴─┐└───┘ ░ └╥┘┌─┐              \n",
              "baltimore_1: ─────┤ X ├┤ H ├──■───░─┤ X ├──────░──╫─┤M├──────────────\n",
              "                  └───┘└───┘┌─┴─┐ ░ └───┘      ░  ║ └╥┘ ┌───┐  ┌───┐ \n",
              "baltimore_2: ───────────────┤ X ├─░────────────░──╫──╫──┤ X ├──┤ Z ├─\n",
              "                            └───┘ ░            ░  ║  ║  └─╥─┘  └─╥─┘ \n",
              "  rockville: ─────────────────────────────────────╫──╫────╫──────╫───\n",
              "                                                  ║  ║ ┌──╨──┐┌──╨──┐\n",
              " bethesda: 2/═════════════════════════════════════╩══╩═╡ 0x1 ╞╡ 0x2 ╞\n",
              "                                                  0  1 └─────┘└─────┘"
            ],
            "text/html": [
              "<pre style=\"word-wrap: normal;white-space: pre;background: #fff0;line-height: 1.1;font-family: &quot;Courier New&quot;,Courier,monospace\">             ┌───┐     ┌───┐      ░      ┌───┐ ░ ┌─┐                 \n",
              "baltimore_0: ┤ H ├──■──┤ H ├──────░───■──┤ H ├─░─┤M├─────────────────\n",
              "             └───┘┌─┴─┐├───┤      ░ ┌─┴─┐└───┘ ░ └╥┘┌─┐              \n",
              "baltimore_1: ─────┤ X ├┤ H ├──■───░─┤ X ├──────░──╫─┤M├──────────────\n",
              "                  └───┘└───┘┌─┴─┐ ░ └───┘      ░  ║ └╥┘ ┌───┐  ┌───┐ \n",
              "baltimore_2: ───────────────┤ X ├─░────────────░──╫──╫──┤ X ├──┤ Z ├─\n",
              "                            └───┘ ░            ░  ║  ║  └─╥─┘  └─╥─┘ \n",
              "  rockville: ─────────────────────────────────────╫──╫────╫──────╫───\n",
              "                                                  ║  ║ ┌──╨──┐┌──╨──┐\n",
              " bethesda: 2/═════════════════════════════════════╩══╩═╡ 0x1 ╞╡ 0x2 ╞\n",
              "                                                  0  1 └─────┘└─────┘</pre>"
            ]
          },
          "metadata": {},
          "execution_count": 9
        }
      ]
    },
    {
      "cell_type": "code",
      "source": [
        "from qiskit import QuantumRegister, ClassicalRegister, QuantumCircuit\n",
        "from numpy import pi\n",
        "\n",
        "\n",
        "qr = QuantumRegister(2, 'quesadilla')  # Two qubits for the double slit experiment\n",
        "cr = ClassicalRegister(2, 'colorado')  # Two classical bits for measurement\n",
        "\n",
        "\n",
        "qc = QuantumCircuit(qr, cr)\n",
        "\n",
        "# Initialize the first qubit in a superposition state\n",
        "qc.h(qr[0])\n",
        "\n",
        "# Apply a controlled-phase gate to simulate the double slit interference\n",
        "qc.cp(pi/2, qr[0], qr[1])\n",
        "\n",
        "\n",
        "qc.measure(qr, cr)\n",
        "\n",
        "\n",
        "qc.draw()"
      ],
      "metadata": {
        "colab": {
          "base_uri": "https://localhost:8080/",
          "height": 145
        },
        "id": "HafU6JNgfDGL",
        "outputId": "0cb0017b-7378-46c4-af72-d7f58923f705"
      },
      "execution_count": null,
      "outputs": [
        {
          "output_type": "execute_result",
          "data": {
            "text/plain": [
              "              ┌───┐         ┌─┐   \n",
              "quesadilla_0: ┤ H ├─■───────┤M├───\n",
              "              └───┘ │P(π/2) └╥┘┌─┐\n",
              "quesadilla_1: ──────■────────╫─┤M├\n",
              "                             ║ └╥┘\n",
              "  colorado: 2/═══════════════╩══╩═\n",
              "                             0  1 "
            ],
            "text/html": [
              "<pre style=\"word-wrap: normal;white-space: pre;background: #fff0;line-height: 1.1;font-family: &quot;Courier New&quot;,Courier,monospace\">              ┌───┐         ┌─┐   \n",
              "quesadilla_0: ┤ H ├─■───────┤M├───\n",
              "              └───┘ │P(π/2) └╥┘┌─┐\n",
              "quesadilla_1: ──────■────────╫─┤M├\n",
              "                             ║ └╥┘\n",
              "  colorado: 2/═══════════════╩══╩═\n",
              "                             0  1 </pre>"
            ]
          },
          "metadata": {},
          "execution_count": 8
        }
      ]
    }
  ]
}